{
  "cells": [
    {
      "cell_type": "markdown",
      "metadata": {
        "id": "view-in-github",
        "colab_type": "text"
      },
      "source": [
        "<a href=\"https://colab.research.google.com/github/DesmondTim/DesmondTim/blob/main/My_code_snip.ipynb\" target=\"_parent\"><img src=\"https://colab.research.google.com/assets/colab-badge.svg\" alt=\"Open In Colab\"/></a>"
      ]
    },
    {
      "cell_type": "code",
      "execution_count": null,
      "metadata": {
        "colab": {
          "base_uri": "https://localhost:8080/"
        },
        "id": "S9j27Uaqupcu",
        "outputId": "5ec04daf-eee2-41ca-c441-2104cd43a56d"
      },
      "outputs": [
        {
          "name": "stdout",
          "output_type": "stream",
          "text": [
            "your are welcome to my quiz\n",
            "Do you want to play?no\n",
            "thanks for playing\n"
          ]
        }
      ],
      "source": [
        "import sys\n",
        "print(\"\"\"your are welcome to my quiz\"\"\")\n",
        "\n",
        "score=0\n",
        "playing = input(\"Do you want to play?\")\n",
        "if playing != \"no\":\n",
        "    print(\"lets get started\")\n",
        "\n",
        "    ans = input(\"where is the capital of Nigeria?\"). lower()\n",
        "    if ans == \"abuja\":\n",
        "        print(\"you are right!!!\")\n",
        "        score+=1\n",
        "    else:\n",
        "        print(\"you are wrong\")\n",
        "\n",
        "    ans= input(\"where is Lautech located\").lower()\n",
        "    if ans== \"ogbomosho\":\n",
        "        print(\"you are right\")\n",
        "        score+=1\n",
        "    else:\n",
        "        print(\"you are wrong!!!\")\n",
        "\n",
        "    ans= input(\"Full meaning of CPU\").lower()\n",
        "    if ans ==\"central processing unit\":\n",
        "        print(\"you are right\")\n",
        "        score+=1\n",
        "    else:\n",
        "            print(\"you are wrong!!!\")\n",
        "    ans=input(\"Full meaning of RAM\").lower()\n",
        "    if ans == \"random access memory\":\n",
        "        print(\"you are right\")\n",
        "        score+=1\n",
        "\n",
        "    else:\n",
        "            print(\"you are wrong\")\n",
        "\n",
        "    ans= input(\"the president of Nigeria is\").lower()\n",
        "    if ans == \"buhari\":\n",
        "      print(\"you are right!!!\")\n",
        "      score+=1\n",
        "\n",
        "    else:\n",
        "      print(\"you are wrong!!!\")\n",
        "      print(\"you've come to the end of this quizz your score is\",str(score),'/5')\n",
        "      print(\"Thanks for playing\")\n",
        "\n",
        "else:\n",
        "  print(\"thanks for playing\")\n",
        "  sys.exit"
      ]
    },
    {
      "cell_type": "code",
      "execution_count": null,
      "metadata": {
        "id": "t5yvHfE9u7pU"
      },
      "outputs": [],
      "source": [
        "num= int(input(\"enter a number:\"))\n",
        "def collartz(num):\n",
        "    if num%2==0:\n",
        "        num=num/2\n",
        "        print(num)\n",
        "        collartz(num)\n",
        "    else:\n",
        "        num=((3*num)+1)\n",
        "        print(num)\n",
        "        collartz(num)\n",
        "if num!= 1:\n",
        "    collartz(num)\n",
        "else:\n",
        "    print(\"invalid input\")\n"
      ]
    },
    {
      "cell_type": "code",
      "execution_count": null,
      "metadata": {
        "id": "ybolSVue74cl"
      },
      "outputs": [],
      "source": []
    },
    {
      "cell_type": "code",
      "execution_count": null,
      "metadata": {
        "colab": {
          "base_uri": "https://localhost:8080/"
        },
        "id": "2qJwN11DM-R0",
        "outputId": "467284af-3887-4e2f-ae66-57a1fcc7493b"
      },
      "outputs": [
        {
          "name": "stdout",
          "output_type": "stream",
          "text": [
            "enter your number here4\n",
            "enter value3\n",
            "enter value4\n",
            "enter value5\n",
            "enter value3\n",
            "[3, 4, 5, 3]\n"
          ]
        },
        {
          "data": {
            "text/plain": [
              "15"
            ]
          },
          "execution_count": 1,
          "metadata": {},
          "output_type": "execute_result"
        }
      ],
      "source": [
        "my_list=[]\n",
        "res= int(input(\"enter your number here\"))\n",
        "for res in range(res):\n",
        "    a=int(input(\"enter value\"))\n",
        "    my_list.append(a)\n",
        "print(my_list)\n",
        "sum(my_list)"
      ]
    },
    {
      "cell_type": "code",
      "execution_count": null,
      "metadata": {
        "colab": {
          "base_uri": "https://localhost:8080/",
          "height": 131
        },
        "id": "BU92VHnoNJ8g",
        "outputId": "eb0df106-473d-4512-adf3-fd5506911874"
      },
      "outputs": [
        {
          "ename": "SyntaxError",
          "evalue": "ignored",
          "output_type": "error",
          "traceback": [
            "\u001b[0;36m  File \u001b[0;32m\"<ipython-input-3-9e7915dd949a>\"\u001b[0;36m, line \u001b[0;32m6\u001b[0m\n\u001b[0;31m    print dict['one'] # Prints value for 'one' key\u001b[0m\n\u001b[0m             ^\u001b[0m\n\u001b[0;31mSyntaxError\u001b[0m\u001b[0;31m:\u001b[0m Missing parentheses in call to 'print'. Did you mean print(dict['one'] # Prints value for 'one' key)?\n"
          ]
        }
      ],
      "source": [
        "45\n",
        "dict = {}\n",
        "dict ['one'] = \"This is one\"\n",
        "dict[2] = \"This is two\"\n",
        "tinydict = {'name': 'john','code':6734, 'dept': 'sales'}\n",
        "print dict['one'] # Prints value for 'one' key\n",
        "print dict[2] # Prints value for 2 key\n",
        "print tinydict # Prints complete dictionary\n",
        "print tinydict.keys() # Prints all the keys\n",
        "print tinydict.values() # Prints all the values"
      ]
    },
    {
      "cell_type": "code",
      "execution_count": null,
      "metadata": {
        "colab": {
          "base_uri": "https://localhost:8080/"
        },
        "id": "ERU8GL_wiIMX",
        "outputId": "d9922ab5-fc8f-4188-ad24-646ba5cb4633"
      },
      "outputs": [
        {
          "name": "stdout",
          "output_type": "stream",
          "text": [
            "desmond\n",
            "timmy\n",
            "bunmi\n",
            "benjamin\n",
            "gbenga\n",
            "funmilayo\n",
            "done\n"
          ]
        }
      ],
      "source": [
        "import time\n",
        "friends=[ 'desmond', 'timmy', 'bunmi','benjamin', 'gbenga', 'funmilayo']\n",
        "for name in friends:\n",
        "        print(name)\n",
        "        time.sleep(2)\n",
        "print(\"done\")"
      ]
    },
    {
      "cell_type": "code",
      "execution_count": null,
      "metadata": {
        "colab": {
          "base_uri": "https://localhost:8080/"
        },
        "id": "6HY16_u3iJvZ",
        "outputId": "9d0e4631-a211-4241-b3b0-510ed48e06ce"
      },
      "outputs": [
        {
          "name": "stdout",
          "output_type": "stream",
          "text": [
            "1 is odd\n",
            "2 is even\n",
            "3 is odd\n",
            "4 is even\n",
            "5 is odd\n",
            "6 is even\n",
            "7 is odd\n",
            "8 is even\n",
            "9 is odd\n",
            "10 is even\n"
          ]
        }
      ],
      "source": [
        "for i in range (1,11):\n",
        "    if i % 2==0:\n",
        "        print(i, 'is even')\n",
        "    else:\n",
        "        print(i, \"is odd\")\n"
      ]
    },
    {
      "cell_type": "code",
      "execution_count": null,
      "metadata": {
        "id": "yDEtRdO2Wbcp"
      },
      "outputs": [],
      "source": [
        "import random\n",
        "import sys\n",
        "import time\n",
        "timespeed=0.1\n",
        "\n",
        "def intro():\n",
        "    for letters in \"\\t\\t\\tWelcome\\n to number guessing created by Desmond\":\n",
        "        print(letters,end=\"-\")\n",
        "        time.sleep(timespeed)\n",
        "\n",
        "def guess(x):\n",
        "    no_of_guess=0\n",
        "    guesslimit=3\n",
        "    out_of_guess= False\n",
        "    random_num=random.randint(1,x)\n",
        "    guess=\"\"\n",
        "while guess != random.num:\n",
        "        guess= int(input(\"Guess a number: \"))\n",
        "        no_of_guess+=1\n",
        "        if no_of_guess<guesslimit:\n",
        "            if guess<random_num:\n",
        "                print(\"sorry,guess again. Too low\")\n",
        "            elif guess> random_num:\n",
        "                print(\"Sorry, guess again. Too High\")\n",
        "            if no_of_guess ==2:\n",
        "                    print(\"This is your last chance\")\n",
        "        elif no_of_guess ==3:\n",
        "            print(\"You are out of Guess\")\n",
        "            break\n",
        "        else:\n",
        "            print(\"Hurray!!!, You guessed correctly\")\n",
        "def tryagain():\n",
        "    res=input(\"Do you want to tryagain? \").lower()\n",
        "    if res ==\"yes\":\n",
        "        intro()\n",
        "        guess(10)\n",
        "    else:\n",
        "        sys.exit\n",
        "\n",
        "\n",
        "intro()\n",
        "guess(10)\n",
        "tryagain()"
      ]
    },
    {
      "cell_type": "code",
      "execution_count": null,
      "metadata": {
        "id": "M0LVr38DjjT4"
      },
      "outputs": [],
      "source": [
        "import random\n",
        "def my_comp(x):\n",
        "  low=1\n",
        "  high=x\n",
        "  feedback= \"\"\n",
        "  while feedback!=\"c\":\n",
        "    if low!=high:\n",
        "      guess=random.randint(low,high)\n",
        "    else:\n",
        "      low=high\n",
        "    feedback= input(f\"Enter H if {guess} is high,L if {guess} is low,c if {guess} is correct\").lower()\n",
        "    if feedback ==\"h\":\n",
        "      high= guess-1\n",
        "    elif feedback ==\"l\":\n",
        "      low = guess + 1\n",
        "  else:\n",
        "    print(f\"Computer has guessed your secret number{guess} correctly\")\n",
        "my_comp(20)\n"
      ]
    },
    {
      "cell_type": "code",
      "execution_count": null,
      "metadata": {
        "id": "wQf-q_XCmBVV"
      },
      "outputs": [],
      "source": [
        "import random\n",
        "def my_comp(x):\n",
        "  low=1\n",
        "  high=x\n",
        "  feedback= \"\"\n",
        "  while feedback!=\"c\":\n",
        "    if low!=high:\n",
        "      guess=random.randint(low,high)\n",
        "    else:\n",
        "      low=high\n",
        "    feedback= input(f\"Enter H if {guess} is high,L if {guess} is low,c if {guess} is correct\").lower()\n",
        "    if feedback ==\"h\":\n",
        "      high= guess-1\n",
        "    elif feedback ==\"l\":\n",
        "      low = guess + 1\n",
        "  else:\n",
        "    print(f\"Computer has guessed your secret number{guess} correctly\")\n",
        "my_comp(20)\n"
      ]
    },
    {
      "cell_type": "code",
      "execution_count": null,
      "metadata": {
        "colab": {
          "base_uri": "https://localhost:8080/"
        },
        "id": "U-Q6oEOi8kKQ",
        "outputId": "bf3ba73c-913a-42f5-e9a7-0f5ba6c89467"
      },
      "outputs": [
        {
          "name": "stdout",
          "output_type": "stream",
          "text": [
            "this is outside the function\n"
          ]
        }
      ],
      "source": [
        "#Functions\n",
        "#are collection of codes and instruction\n",
        "def function1():\n",
        "  print(\"column\")\n",
        "  print(\"row\")\n",
        "print(\"this is outside the function\")"
      ]
    },
    {
      "cell_type": "code",
      "execution_count": null,
      "metadata": {
        "colab": {
          "base_uri": "https://localhost:8080/"
        },
        "id": "KKcg-F1UDXv2",
        "outputId": "57d9d051-be09-41be-92fe-3b2ea5e57e0e"
      },
      "outputs": [
        {
          "name": "stdout",
          "output_type": "stream",
          "text": [
            "column\n",
            "row\n"
          ]
        }
      ],
      "source": [
        "#calling of function\n",
        "function1()"
      ]
    },
    {
      "cell_type": "code",
      "execution_count": null,
      "metadata": {
        "id": "iePpSeuCDfwC"
      },
      "outputs": [],
      "source": [
        "# can be use as a mapping\n",
        "def function2(x):\n",
        "  return 2*x"
      ]
    },
    {
      "cell_type": "code",
      "execution_count": null,
      "metadata": {
        "id": "yAdDyn3tEy_A"
      },
      "outputs": [],
      "source": [
        " a = function2(3)\n",
        "#return value or output"
      ]
    },
    {
      "cell_type": "code",
      "execution_count": null,
      "metadata": {
        "colab": {
          "base_uri": "https://localhost:8080/"
        },
        "id": "GE8i_6CyE9tV",
        "outputId": "1daaca16-d27b-493c-81be-bf539343b9cf"
      },
      "outputs": [
        {
          "name": "stdout",
          "output_type": "stream",
          "text": [
            "6\n"
          ]
        }
      ],
      "source": [
        "print(a)"
      ]
    },
    {
      "cell_type": "code",
      "execution_count": null,
      "metadata": {
        "id": "uvEZWQ8YGS_4"
      },
      "outputs": [],
      "source": [
        "b = function2(4)"
      ]
    },
    {
      "cell_type": "code",
      "execution_count": null,
      "metadata": {
        "colab": {
          "base_uri": "https://localhost:8080/"
        },
        "id": "Zhnn6i34G5CE",
        "outputId": "41ee1b12-7772-4b10-b642-13407b5b2343"
      },
      "outputs": [
        {
          "name": "stdout",
          "output_type": "stream",
          "text": [
            "8\n"
          ]
        }
      ],
      "source": [
        "print(b)"
      ]
    },
    {
      "cell_type": "code",
      "execution_count": null,
      "metadata": {
        "id": "zXvJfOeLG6cA"
      },
      "outputs": [],
      "source": [
        "def function3(x,y):\n",
        "  return x + y"
      ]
    },
    {
      "cell_type": "code",
      "execution_count": null,
      "metadata": {
        "colab": {
          "base_uri": "https://localhost:8080/"
        },
        "id": "51HCVRLhHLTx",
        "outputId": "ba5aceb0-f751-4a02-8110-a597b1648416"
      },
      "outputs": [
        {
          "name": "stdout",
          "output_type": "stream",
          "text": [
            "3\n"
          ]
        }
      ],
      "source": [
        "#its possible to have many argument in function\n",
        "e = function3(1,2)\n",
        "print(e)"
      ]
    },
    {
      "cell_type": "code",
      "execution_count": null,
      "metadata": {
        "id": "65B4tgOTHWcC"
      },
      "outputs": [],
      "source": [
        "def function4(x):\n",
        "  print(x)\n",
        "  print(\"still in this function\")\n",
        "  return 3*x"
      ]
    },
    {
      "cell_type": "code",
      "execution_count": null,
      "metadata": {
        "colab": {
          "base_uri": "https://localhost:8080/"
        },
        "id": "n1r8REwXHyOe",
        "outputId": "17433772-9280-480e-c918-ff2c6c1228d2"
      },
      "outputs": [
        {
          "name": "stdout",
          "output_type": "stream",
          "text": [
            "4\n",
            "still in this function\n"
          ]
        }
      ],
      "source": [
        "f = function4(4)"
      ]
    },
    {
      "cell_type": "code",
      "execution_count": null,
      "metadata": {
        "colab": {
          "base_uri": "https://localhost:8080/"
        },
        "id": "uuYZJpGzH2oL",
        "outputId": "95a4be0b-343b-49cb-9cfc-1d5b57a9f5eb"
      },
      "outputs": [
        {
          "name": "stdout",
          "output_type": "stream",
          "text": [
            "12\n"
          ]
        }
      ],
      "source": [
        "print(f)"
      ]
    },
    {
      "cell_type": "code",
      "execution_count": null,
      "metadata": {
        "id": "XunbzrXdIo9E"
      },
      "outputs": [],
      "source": [
        "def function5(some_argument):\n",
        "  print(some_argument)\n",
        "  print(\"weee\")"
      ]
    },
    {
      "cell_type": "code",
      "execution_count": null,
      "metadata": {
        "colab": {
          "base_uri": "https://localhost:8080/"
        },
        "id": "-Af0aoqNI9D6",
        "outputId": "05c2e65f-0b09-4e41-fee8-515c828faf0b"
      },
      "outputs": [
        {
          "name": "stdout",
          "output_type": "stream",
          "text": [
            "4\n",
            "weee\n"
          ]
        }
      ],
      "source": [
        "function5(4)"
      ]
    },
    {
      "cell_type": "code",
      "execution_count": null,
      "metadata": {
        "id": "Zi2WLpHQI_uW"
      },
      "outputs": [],
      "source": [
        "#BMI calculator\n",
        "name1 = \"Yk\"  #hypothetic person\n",
        "height_m1= 2\n",
        "weight_kg1 = 90\n",
        "\n",
        "name2 = \"YK's sister\"\n",
        "height_m2 = 1.8\n",
        "weight_kg2 = 70\n",
        "\n",
        "name3 = \"YK's brother\"\n",
        "height_m3 = 2.5\n",
        "weight_kg3 = 160\n",
        "\n"
      ]
    },
    {
      "cell_type": "code",
      "execution_count": null,
      "metadata": {
        "id": "PuDE5TluKNh2"
      },
      "outputs": [],
      "source": [
        "def bmi_calculator(name, height_m, weight_kg):\n",
        "  bmi = weight_kg / (height_m**2)\n",
        "  print(\"bmi: \")\n",
        "  print(bmi)\n",
        "  if bmi < 25:\n",
        "    return name + \" is not overweight\"\n",
        "  else:\n",
        "    return name + \" is overweight\"\n"
      ]
    },
    {
      "cell_type": "code",
      "execution_count": null,
      "metadata": {
        "colab": {
          "base_uri": "https://localhost:8080/"
        },
        "id": "O7oSeI7NNOjN",
        "outputId": "dfcd3ad2-ea13-4add-c28e-834ab8557a9b"
      },
      "outputs": [
        {
          "name": "stdout",
          "output_type": "stream",
          "text": [
            "bmi: \n",
            "22.5\n",
            "bmi: \n",
            "21.604938271604937\n",
            "bmi: \n",
            "25.6\n"
          ]
        }
      ],
      "source": [
        "result1 = bmi_calculator (name1, height_m1, weight_kg1)\n",
        "result2 = bmi_calculator (name2, height_m2, weight_kg2)\n",
        "result3 = bmi_calculator (name3, height_m3, weight_kg3)"
      ]
    },
    {
      "cell_type": "code",
      "execution_count": null,
      "metadata": {
        "colab": {
          "base_uri": "https://localhost:8080/"
        },
        "id": "yQfKL28dNuxL",
        "outputId": "e3c4e589-13f2-4e69-f660-db7c90ab628d"
      },
      "outputs": [
        {
          "name": "stdout",
          "output_type": "stream",
          "text": [
            "Yk is not overweight\n",
            "YK's sister is not overweight\n",
            "YK's brother is overweight\n"
          ]
        }
      ],
      "source": [
        "print(result1)\n",
        "print(result2)\n",
        "print(result3)"
      ]
    },
    {
      "cell_type": "code",
      "execution_count": null,
      "metadata": {
        "colab": {
          "base_uri": "https://localhost:8080/"
        },
        "id": "GInD6wu2P36k",
        "outputId": "a9d67ed8-df32-4a9b-e57e-39c6cad316df"
      },
      "outputs": [
        {
          "name": "stdout",
          "output_type": "stream",
          "text": [
            "Your'e welcome to my quizz\n",
            "Press 1 for User guess game and 2 for computer guess game\n",
            "Enter here:2\n",
            "Enter H if 16 is high,L if 16 is low,c if 16 is correcth\n",
            "Enter H if 3 is high,L if 3 is low,c if 3 is correctl\n",
            "Enter H if 4 is high,L if 4 is low,c if 4 is correctl\n",
            "Enter H if 14 is high,L if 14 is low,c if 14 is correctc\n",
            "Computer has guessed your secret number14 correctly\n"
          ]
        }
      ],
      "source": [
        "\n",
        "import sys\n",
        "import random\n",
        "print(\"Your'e welcome to my quizz\")\n",
        "\n",
        "print(\"Press 1 for User guess game and 2 for computer guess game\")\n",
        "res=input(\"Enter here:\")\n",
        "if res == \"1\":\n",
        "\n",
        "\n",
        " def my_guess(x):\n",
        "  no_of_guess=0\n",
        "  guess_limit =3\n",
        "  out_of_guess =False\n",
        "  random_num = random.randint(1,x)\n",
        "  guess= \"\"\n",
        "  while guess != random.num:\n",
        "    guess= int(input(\"Guess a number: \"))\n",
        "    no_of_guess =1\n",
        "    if no_of_guess< guess_limit:\n",
        "      if guess<random_num:\n",
        "        print(\"Sorry,guess again. Too Low\")\n",
        "      elif guess> random.num:\n",
        "        print(\"Sorry, guess again. Too High\")\n",
        "      if no_of_guess ==2:\n",
        "        print(\"This is your last chance\")\n",
        "    elif no_of_guess ==3:\n",
        "        print(\"Your'e out of Guess\")\n",
        "        break\n",
        "    else:\n",
        "        print(\"Hurray!!!, You guessed correctly\")\n",
        "\n",
        "elif res==\"2\":\n",
        "\n",
        " def my_comp(x):\n",
        "  low=1\n",
        "  high=x\n",
        "  feedback = \"\"\n",
        "  while feedback!=\"c\":\n",
        "    if low!=high:\n",
        "      guess=random.randint(low,high)\n",
        "    else:\n",
        "      low=high\n",
        "    feedback= input(f\"Enter H if {guess} is high,L if {guess} is low,c if {guess} is correct\").lower()\n",
        "    if feedback ==\"h\":\n",
        "      high= guess-1\n",
        "    elif feedback ==\"l\":\n",
        "      low = guess + 1\n",
        "  else:\n",
        "    print(f\"Computer has guessed your secret number{guess} correctly\")\n",
        " my_comp(20)\n",
        "\n",
        "def tryagain():\n",
        "  res= input(\"Do you want to tryagain? \").lower()\n",
        "  if res ==\"yes\":\n",
        "    intro()\n",
        "    guess(10)\n",
        "  else:\n",
        "    sys.exist\n"
      ]
    },
    {
      "cell_type": "code",
      "execution_count": null,
      "metadata": {
        "colab": {
          "base_uri": "https://localhost:8080/"
        },
        "id": "qZs-YL8eiuXu",
        "outputId": "29fe5a9d-93d2-4791-e858-05c358d0e7a1"
      },
      "outputs": [
        {
          "name": "stdout",
          "output_type": "stream",
          "text": [
            "my name is Desmond\n"
          ]
        }
      ],
      "source": [
        " def main(name):\n",
        "   print(\"my name is\", name)\n",
        "main(\"Desmond\")"
      ]
    },
    {
      "cell_type": "code",
      "execution_count": null,
      "metadata": {
        "colab": {
          "base_uri": "https://localhost:8080/"
        },
        "id": "OYuzO1Ddw7mt",
        "outputId": "dbddb2c2-6ae8-4019-efe9-ba6e6f5c058a"
      },
      "outputs": [
        {
          "name": "stdout",
          "output_type": "stream",
          "text": [
            "1\n",
            "2\n",
            "3\n",
            "4\n",
            "5\n",
            "6\n",
            "7\n",
            "8\n",
            "9\n",
            "10\n"
          ]
        }
      ],
      "source": [
        "def loop(startnum,endnum):\n",
        "\n",
        "  if startnum <= endnum:\n",
        "    print(startnum)\n",
        "    startnum +=1\n",
        "    loop(startnum,endnum)\n",
        "loop(1,10)"
      ]
    },
    {
      "cell_type": "markdown",
      "metadata": {
        "id": "Af6FwIqdFBnN"
      },
      "source": [
        "c"
      ]
    },
    {
      "cell_type": "code",
      "execution_count": null,
      "metadata": {
        "colab": {
          "base_uri": "https://localhost:8080/",
          "height": 35
        },
        "id": "rwFwZM1RHIo9",
        "outputId": "86f9149c-07eb-4515-d6e5-6cf176c4cb42"
      },
      "outputs": [
        {
          "data": {
            "application/vnd.google.colaboratory.intrinsic+json": {
              "type": "string"
            },
            "text/plain": [
              "'ABCD'"
            ]
          },
          "execution_count": 19,
          "metadata": {},
          "output_type": "execute_result"
        }
      ],
      "source": [
        " alphabets[:4]"
      ]
    },
    {
      "cell_type": "code",
      "execution_count": null,
      "metadata": {
        "id": "ED8JIbHxhkxw"
      },
      "outputs": [],
      "source": [
        "print(\"\"\"\n",
        "**************************\n",
        "      Welcome to simple Interest App\n",
        "      Press 1 to solve Interest\n",
        "      press 2 to solve principal\n",
        "      Press 3 to solve rate\n",
        "      press 4 to solve for time\n",
        "***************************\n",
        " \"\"\")\n",
        "def interest(princial,rate,time):\n",
        "  answer = (principal*rate*time)/100\n",
        "  print('The simple interest is', answer)\n",
        "resp = int(input('Enter your choice: '))\n",
        "while resp not in [1,2,3,4]:\n",
        "  print('Enter a valid choice: ')\n",
        "if resp == 1:\n",
        "  principal =float(input('enter your principal: '))\n",
        "  rate= float(input('enter your rate: '))\n",
        "  time= float(input('enter your time'))\n",
        "  interest(principal,rate,time)\n",
        "elif resp == 2:\n",
        "    rate=float(input('enter your rate: '))\n",
        "    time=float(input('enter your time: '))\n",
        "    interest(rate,time)\n",
        "elif resp == 3:\n",
        "  principal=float(input('enter your principal: '))\n",
        "  time= float(input('enter your time: '))\n",
        "  interest(principal,time)\n",
        "elif resp == 4:\n",
        "  principal=float(input('enter your principal: '))\n",
        "  rate=float(input('enter your rate: '))\n",
        "  interest(principal,rate)"
      ]
    },
    {
      "cell_type": "code",
      "execution_count": null,
      "metadata": {
        "colab": {
          "base_uri": "https://localhost:8080/",
          "height": 35
        },
        "id": "nu6dyORZI58t",
        "outputId": "7e764f98-30ae-4fc7-b4fd-7b8b91624baa"
      },
      "outputs": [
        {
          "data": {
            "application/vnd.google.colaboratory.intrinsic+json": {
              "type": "string"
            },
            "text/plain": [
              "'ZYXW'"
            ]
          },
          "execution_count": 20,
          "metadata": {},
          "output_type": "execute_result"
        }
      ],
      "source": [
        "alphabets[:-5:-1]"
      ]
    },
    {
      "cell_type": "code",
      "execution_count": null,
      "metadata": {
        "id": "JtO4VMFJzM-8"
      },
      "outputs": [],
      "source": [
        "N"
      ]
    },
    {
      "cell_type": "code",
      "execution_count": null,
      "metadata": {
        "id": "EvxsBDUPJfz2"
      },
      "outputs": [],
      "source": [
        "a =\"Hello-world\"\n",
        "a.splits('-')"
      ]
    },
    {
      "cell_type": "code",
      "execution_count": null,
      "metadata": {
        "id": "cq5B6ujyMX_Q"
      },
      "outputs": [],
      "source": [
        "def myfunc(a=0,b=\"\",c=0):\n",
        "  print(\"a:\",a)\n",
        "  print(\"b:\",b)\n",
        "  print(\"c:\",c)"
      ]
    },
    {
      "cell_type": "code",
      "execution_count": null,
      "metadata": {
        "colab": {
          "base_uri": "https://localhost:8080/"
        },
        "id": "SEt8TNXqNaui",
        "outputId": "c8fa7fae-a33e-43d7-ca1a-7f623160ad64"
      },
      "outputs": [
        {
          "name": "stdout",
          "output_type": "stream",
          "text": [
            "a: Des\n",
            "b: Tim\n",
            "c: 0\n"
          ]
        }
      ],
      "source": [
        "myfunc(\"Des\",\"Tim\",)"
      ]
    },
    {
      "cell_type": "code",
      "execution_count": null,
      "metadata": {
        "colab": {
          "base_uri": "https://localhost:8080/"
        },
        "id": "9il-8m-6OSO1",
        "outputId": "a1450ee9-4cc8-44a8-d3b8-475f1fd3ff8c"
      },
      "outputs": [
        {
          "name": "stdout",
          "output_type": "stream",
          "text": [
            "a: 0\n",
            "b: \n",
            "c: 0\n"
          ]
        }
      ],
      "source": [
        "myfunc()"
      ]
    },
    {
      "cell_type": "code",
      "execution_count": null,
      "metadata": {
        "id": "Nw7fDOwLOYyC"
      },
      "outputs": [],
      "source": [
        "def printinfo(*var):\n",
        "  print(\"var:\", var)"
      ]
    },
    {
      "cell_type": "code",
      "execution_count": null,
      "metadata": {
        "colab": {
          "base_uri": "https://localhost:8080/"
        },
        "id": "dPY7luaeRp5z",
        "outputId": "d266455f-5b32-4c62-e49e-f1476ec4c13f"
      },
      "outputs": [
        {
          "name": "stdout",
          "output_type": "stream",
          "text": [
            "var: (10,)\n"
          ]
        }
      ],
      "source": [
        "printinfo(10)"
      ]
    },
    {
      "cell_type": "code",
      "execution_count": null,
      "metadata": {
        "colab": {
          "base_uri": "https://localhost:8080/"
        },
        "id": "EDV1GmpMRsMR",
        "outputId": "048a3d2d-9785-42f4-dfdf-e25f675ac280"
      },
      "outputs": [
        {
          "name": "stdout",
          "output_type": "stream",
          "text": [
            "var: (10, 20, 30, 40)\n"
          ]
        }
      ],
      "source": [
        "printinfo(10,20,30,40)"
      ]
    },
    {
      "cell_type": "code",
      "execution_count": null,
      "metadata": {
        "colab": {
          "base_uri": "https://localhost:8080/"
        },
        "id": "XtJ0Tm3mRx8Q",
        "outputId": "5bb1fc9e-e64b-4cbf-fae4-835a30cc7564"
      },
      "outputs": [
        {
          "name": "stdout",
          "output_type": "stream",
          "text": [
            "You are welcome to Cephas Technologies\n",
            "I have gained alot from coming here everyday\n",
            "I am looking forward to learn more\n"
          ]
        }
      ],
      "source": [
        "def welcome():\n",
        "  print(\"You are welcome to Cephas Technologies\")\n",
        "  print(\"I have gained alot from coming here everyday\")\n",
        "  print(\"I am looking forward to learn more\")\n",
        "welcome()"
      ]
    },
    {
      "cell_type": "code",
      "execution_count": null,
      "metadata": {
        "colab": {
          "base_uri": "https://localhost:8080/"
        },
        "id": "tlf_r43qR03D",
        "outputId": "bfec7c84-dc55-4002-fa7d-18066d6daca9"
      },
      "outputs": [
        {
          "data": {
            "text/plain": [
              "11"
            ]
          },
          "execution_count": 53,
          "metadata": {},
          "output_type": "execute_result"
        }
      ],
      "source": [
        "def addition(a,b):\n",
        "  c=a+b\n",
        "  return c\n",
        "addition(6,5)"
      ]
    },
    {
      "cell_type": "code",
      "execution_count": null,
      "metadata": {
        "colab": {
          "base_uri": "https://localhost:8080/"
        },
        "id": "rTYHnOs9SnOr",
        "outputId": "08286acf-d7ee-474b-eb2a-24df51503d0f"
      },
      "outputs": [
        {
          "name": "stdout",
          "output_type": "stream",
          "text": [
            "DESMOND TIMMY'S ACADEMY"
          ]
        }
      ],
      "source": [
        "import time\n",
        "def des():\n",
        "  for i in \"DESMOND TIMMY'S ACADEMY\":\n",
        "    print(i,end=\"\")\n",
        "    time.sleep(0.2)\n",
        "des()"
      ]
    },
    {
      "cell_type": "code",
      "execution_count": null,
      "metadata": {
        "id": "HEMNtVgCUBbE"
      },
      "outputs": [],
      "source": [
        "def add (arg1, arg2):\n",
        "\n",
        "  total = arg1 + arg2\n",
        "\n",
        "  return total\n"
      ]
    },
    {
      "cell_type": "code",
      "execution_count": null,
      "metadata": {
        "colab": {
          "base_uri": "https://localhost:8080/"
        },
        "id": "ujf09o3VTyWT",
        "outputId": "cea3a7ce-df91-44d3-a85c-8dcb7fc3eec2"
      },
      "outputs": [
        {
          "name": "stdout",
          "output_type": "stream",
          "text": [
            "outside the function:  30\n"
          ]
        }
      ],
      "source": [
        "add(10,20)\n",
        "a= add(10,20)\n",
        "print(\"outside the function: \",a)"
      ]
    },
    {
      "cell_type": "code",
      "execution_count": null,
      "metadata": {
        "id": "vRauiZzYXeFG"
      },
      "outputs": [],
      "source": [
        "def calculator(val1, val2):\n",
        "\n",
        "  add=val1+val2\n",
        "  sub= val1-val2\n",
        "  mult=val1*val2\n",
        "  div=val1/val2\n",
        "\n",
        "  return add,sub,mult,div"
      ]
    },
    {
      "cell_type": "code",
      "execution_count": null,
      "metadata": {
        "colab": {
          "base_uri": "https://localhost:8080/"
        },
        "id": "4cCcnlYMYKnX",
        "outputId": "6bbec165-2d78-440b-800f-e237a3483fc0"
      },
      "outputs": [
        {
          "name": "stdout",
          "output_type": "stream",
          "text": [
            "Welcome\n",
            " to  DESMOND's CALCULATOR\n",
            "1,Quadratic Equation\n",
            "2.Simultaneous EquationEnter here:1\n",
            "SOLVE QUADRATIC\n",
            "Enter value for A2\n",
            "Enter value for B5\n",
            "Enter Value for C8\n",
            "x1: (-1.25+1.5612494995995996j)\n",
            "x2: (-1.25-1.5612494995995996j)\n"
          ]
        }
      ],
      "source": [
        "import sys\n",
        "import time\n",
        "\n",
        "def homepage():\n",
        "  for i in \"\"\"Welcome\\n to  DESMOND's CALCULATOR\\n1,Quadratic Equation\\n2.Simultaneous Equation\"\"\":\n",
        "    print(i,end=\"\")\n",
        "    time.sleep(0.1)\n",
        "  res=input(\"Enter here:\")\n",
        "  if res==\"1\":\n",
        "    quadratic()\n",
        "  elif res==\"2\":\n",
        "    simultaneous()\n",
        "  else :\n",
        "    print(\"invalid response\")\n",
        "    homepage()\n",
        "\n",
        "\n",
        "def quadratic():\n",
        "  print(\"SOLVE QUADRATIC\")\n",
        "  a=float(input(\"Enter value for A\"))\n",
        "  b=float(input(\"Enter value for B\"))\n",
        "  c=float(input(\"Enter Value for C\"))\n",
        "  d=(b**2)-(4*a*c)\n",
        "  x1=(-b+d**0.5)/(2*a)\n",
        "  x2=(-b-d**0.5)/(2*a)\n",
        "  print('x1:',x1)\n",
        "  print('x2:',x2)\n",
        "\n",
        "\n",
        "def simultaneous():\n",
        "  print(\"SOLVE SIMULTANEOUS\")\n",
        "  a1=float(input(\"Enter value for A1 : \"))\n",
        "  b1=float(input(\"Enter value for B1 : \"))\n",
        "  c1=float(input(\"Enter value for C1 : \"))\n",
        "  a2=float(input(\"Enter value for A2 : \"))\n",
        "  b2=float(input(\"Enter value for B2 : \"))\n",
        "  c2=float(input(\"Enter value for C2 : \"))\n",
        "  numx = b2*c1 - b1*c2\n",
        "  denx = a1*b2 - a2*b2\n",
        "  numy = a2*c1 - a1*c2\n",
        "  deny = a2*b1* - a1*b2\n",
        "  while denx ==0 or deny ==0:\n",
        "    print(\"error\")\n",
        "    print(\"Tryagain\")\n",
        "    simultaneous()\n",
        "  x = numx/denx\n",
        "  y = numy/deny\n",
        "  print(\"x1 :\", x)\n",
        "  print(\"y1 :\",y)\n",
        "homepage()"
      ]
    },
    {
      "cell_type": "code",
      "execution_count": null,
      "metadata": {
        "colab": {
          "background_save": true,
          "base_uri": "https://localhost:8080/"
        },
        "id": "li5SvQWQnr5s",
        "outputId": "fd729e3a-df55-41cf-85fe-73a5eeaa413e"
      },
      "outputs": [
        {
          "name": "stdout",
          "output_type": "stream",
          "text": [
            "\":grinning_face_with_big_eyes\":Welcome to GP and AP solver\":winking_face_with_tongue\":\n",
            "\n",
            "  Enter 1 for AP 😆\n",
            "  Enter 2 for the sum of an Ap 🤣\n",
            "  Enter 3 for Gp😀\n",
            "  Enter 4 for the sum of Gp😀\n",
            "  Enter q to quit\n",
            "  \n"
          ]
        }
      ],
      "source": [
        "import sys\n",
        "import time\n",
        "def startapp():\n",
        "  print('''\":grinning_face_with_big_eyes\":Welcome to GP and AP solver\":winking_face_with_tongue\":\\n\n",
        "  Enter 1 for AP \\U0001F606\n",
        "  Enter 2 for the sum of an Ap \\U0001F923\n",
        "  Enter 3 for Gp\\U0001f600\n",
        "  Enter 4 for the sum of Gp\\N{grinning face}\n",
        "  Enter q to quit\n",
        "  ''')\n",
        "  time.sleep(0.2)\n",
        "\n",
        "\n",
        "  global operation\n",
        "  res = input()\n",
        "  operation=res\n",
        "  if res ==\"1\":\n",
        "    result= AP()\n",
        "    print(\"The ans is = \", result)\n",
        "\n",
        "  elif res == \"2\":\n",
        "    result= sum_AP()\n",
        "    print(\"The sum_Ap \",result)\n",
        "\n",
        "  elif res == \"3\":\n",
        "    result= GP()\n",
        "    print(\"The ans is = \", result)\n",
        "\n",
        "  elif res==\"4\":\n",
        "    result= sum_GP()\n",
        "    print(\"The sum_GP \", result)\n",
        "    tryAgain()\n",
        "\n",
        "  elif res==\"q\":\n",
        "    print('Are you sure you want to exit:\"y/n\"')\n",
        "    ans= input()\n",
        "    if ans == \"y\":\n",
        "      print(\"thanks and have a nice day\\U0001f600\")\n",
        "      sys.exit\n",
        "  else:\n",
        "    startapp()\n",
        "def AP():\n",
        "  a=float(input(\"Enter first term value \"))\n",
        "  n= float(input(\"Enter the last term value \"))\n",
        "  d= float(input(\"Enter the common difference value here \"))\n",
        "  T= a+(n-1)*d\n",
        "  return T\n",
        "\n",
        "def sum_AP():\n",
        "  a=float(input(\"Enter first term value \"))\n",
        "  n= float(input(\"Enter the last term value \"))\n",
        "  d= float(input(\"Enter the common difference value here \"))\n",
        "  D= (n-1)*d\n",
        "  S=n/2 *(2*a + D)\n",
        "  return S\n",
        "\n",
        "def GP():\n",
        "  a= float(input(\"Enter first term value \"))\n",
        "  n= float(input(\"Enter the last term value  \"))\n",
        "  r= float(input(\"Enter the common ratio  \"))\n",
        "  p= (n-1)\n",
        "  T= a*r**p\n",
        "  return T\n",
        "\n",
        "def sum_GP():\n",
        "  a= float(input(\"Enter first term value \"))\n",
        "  n= float(input(\"Enter the last term value  \"))\n",
        "  r= float(input(\"Enter the common ratio  \"))\n",
        "  if r>1:\n",
        "    d=(r**n -1)\n",
        "    e=(r-1)\n",
        "    S=a*d/e\n",
        "    return S\n",
        "\n",
        "def tryAgain():\n",
        "  print(\"Do you want to tryAgain?\")\n",
        "  res=input(\"Enter 'Yes' or 'No' \").lower()\n",
        "  if res == \"yes\":\n",
        "     startapp()\n",
        "\n",
        "  else:\n",
        "    sys.exit\n",
        "\n",
        "startapp()\n",
        "tryAgain()"
      ]
    },
    {
      "cell_type": "code",
      "execution_count": null,
      "metadata": {
        "id": "kF1xY0IXviCx"
      },
      "outputs": [],
      "source": [
        "# import emoji module\n",
        "import emoji\n",
        "\n",
        "\n",
        "print(emoji.emojize(\":grinning_face_with_big_eyes:\"))\n",
        "print(emoji.emojize(\":winking_face_with_tongue:\"))\n",
        "print(emoji.emojize(\":zipper-mouth_face:\"))\n"
      ]
    },
    {
      "cell_type": "code",
      "execution_count": null,
      "metadata": {
        "colab": {
          "base_uri": "https://localhost:8080/"
        },
        "id": "PathA_k1KPeu",
        "outputId": "b8e9125d-733e-48a8-d5b9-876ca10a19c0"
      },
      "outputs": [
        {
          "name": "stdout",
          "output_type": "stream",
          "text": [
            "Please choose an area for your circle: 5\n",
            "The circumference is:  0.7117625434171772\n"
          ]
        }
      ],
      "source": [
        "import math                                          # place imports at the top\n",
        "\n",
        "def circumference(area):\n",
        "    circ = (math.sqrt(float(area))) / (math.pi)      #<- cast param to float, use math.sqrt\n",
        "    return circ                                      #<- return the result\n",
        "\n",
        "area = input(\"Please choose an area for your circle: \")\n",
        "print(\"The circumference is: \", circumference(area)) #<- call the function with a parameter"
      ]
    },
    {
      "cell_type": "code",
      "execution_count": null,
      "metadata": {
        "colab": {
          "base_uri": "https://localhost:8080/"
        },
        "id": "cu6tfGreUsQj",
        "outputId": "4b28ce0a-0ef4-4cab-cd2e-9676b14c7f78"
      },
      "outputs": [
        {
          "name": "stdout",
          "output_type": "stream",
          "text": [
            "Height of trapezoid: 3\n",
            "Base one value: 5\n",
            "Base two value: 7\n",
            "Area is: 18.0\n"
          ]
        }
      ],
      "source": [
        "height = float(input(\"Height of trapezoid: \"))\n",
        "base_1 = float(input('Base one value: '))\n",
        "base_2 = float(input('Base two value: '))\n",
        "area = ((base_1 + base_2) / 2) * height\n",
        "print(\"Area is:\", area)"
      ]
    },
    {
      "cell_type": "code",
      "execution_count": null,
      "metadata": {
        "colab": {
          "base_uri": "https://localhost:8080/"
        },
        "id": "buf4-d1qUxd6",
        "outputId": "a31825bd-09d7-42ee-ffc2-de7c9832acc6"
      },
      "outputs": [
        {
          "name": "stdout",
          "output_type": "stream",
          "text": [
            "Radius of a Circle: 5\n",
            "78.53981633974483\n"
          ]
        }
      ],
      "source": [
        "import math\n",
        "\n",
        "r = float(input(\"Radius of a Circle: \"))\n",
        "\n",
        "area = math.pi * r ** 2\n",
        "\n",
        "\n",
        "print (area)"
      ]
    },
    {
      "cell_type": "code",
      "execution_count": null,
      "metadata": {
        "colab": {
          "base_uri": "https://localhost:8080/",
          "height": 750
        },
        "id": "p_YCC7QHXPjY",
        "outputId": "abd13081-237e-418d-f57f-0d38f091f693"
      },
      "outputs": [
        {
          "name": "stdout",
          "output_type": "stream",
          "text": [
            "Welcome here\n",
            "\n",
            "  press 1 for Cc\n",
            "  Press 2 for Ac\n",
            "  Press 3 for At\n",
            "  Press q to quit\n",
            "  \n",
            "1\n",
            "Radius of a Circle: 5\n",
            "78.53981633974483\n",
            "The ans is =  None\n",
            "Do you want to tryAgain?\n",
            "Enter 'Yes' or 'No' yes\n",
            "Welcome here\n",
            "\n",
            "  press 1 for Cc\n",
            "  Press 2 for Ac\n",
            "  Press 3 for At\n",
            "  Press q to quit\n",
            "  \n",
            "2\n"
          ]
        },
        {
          "ename": "NameError",
          "evalue": "ignored",
          "output_type": "error",
          "traceback": [
            "\u001b[0;31m---------------------------------------------------------------------------\u001b[0m",
            "\u001b[0;31mNameError\u001b[0m                                 Traceback (most recent call last)",
            "\u001b[0;32m<ipython-input-1-1e8a2e651a2e>\u001b[0m in \u001b[0;36m<module>\u001b[0;34m\u001b[0m\n\u001b[1;32m     69\u001b[0m \u001b[0;34m\u001b[0m\u001b[0m\n\u001b[1;32m     70\u001b[0m \u001b[0mmycal\u001b[0m\u001b[0;34m(\u001b[0m\u001b[0;34m)\u001b[0m\u001b[0;34m\u001b[0m\u001b[0;34m\u001b[0m\u001b[0m\n\u001b[0;32m---> 71\u001b[0;31m \u001b[0mtryAgain\u001b[0m\u001b[0;34m(\u001b[0m\u001b[0;34m)\u001b[0m\u001b[0;34m\u001b[0m\u001b[0;34m\u001b[0m\u001b[0m\n\u001b[0m",
            "\u001b[0;32m<ipython-input-1-1e8a2e651a2e>\u001b[0m in \u001b[0;36mtryAgain\u001b[0;34m()\u001b[0m\n\u001b[1;32m     64\u001b[0m   \u001b[0mres\u001b[0m\u001b[0;34m=\u001b[0m\u001b[0minput\u001b[0m\u001b[0;34m(\u001b[0m\u001b[0;34m\"Enter 'Yes' or 'No' \"\u001b[0m\u001b[0;34m)\u001b[0m\u001b[0;34m.\u001b[0m\u001b[0mlower\u001b[0m\u001b[0;34m(\u001b[0m\u001b[0;34m)\u001b[0m\u001b[0;34m\u001b[0m\u001b[0;34m\u001b[0m\u001b[0m\n\u001b[1;32m     65\u001b[0m   \u001b[0;32mif\u001b[0m \u001b[0mres\u001b[0m \u001b[0;34m==\u001b[0m \u001b[0;34m\"yes\"\u001b[0m\u001b[0;34m:\u001b[0m\u001b[0;34m\u001b[0m\u001b[0;34m\u001b[0m\u001b[0m\n\u001b[0;32m---> 66\u001b[0;31m     \u001b[0mmycal\u001b[0m\u001b[0;34m(\u001b[0m\u001b[0;34m)\u001b[0m\u001b[0;34m\u001b[0m\u001b[0;34m\u001b[0m\u001b[0m\n\u001b[0m\u001b[1;32m     67\u001b[0m   \u001b[0;32melse\u001b[0m\u001b[0;34m:\u001b[0m\u001b[0;34m\u001b[0m\u001b[0;34m\u001b[0m\u001b[0m\n\u001b[1;32m     68\u001b[0m     \u001b[0msys\u001b[0m\u001b[0;34m.\u001b[0m\u001b[0mexit\u001b[0m\u001b[0;34m\u001b[0m\u001b[0;34m\u001b[0m\u001b[0m\n",
            "\u001b[0;32m<ipython-input-1-1e8a2e651a2e>\u001b[0m in \u001b[0;36mmycal\u001b[0;34m()\u001b[0m\n\u001b[1;32m     18\u001b[0m \u001b[0;34m\u001b[0m\u001b[0m\n\u001b[1;32m     19\u001b[0m   \u001b[0;32melif\u001b[0m \u001b[0mres\u001b[0m\u001b[0;34m==\u001b[0m \u001b[0;34m\"2\"\u001b[0m\u001b[0;34m:\u001b[0m\u001b[0;34m\u001b[0m\u001b[0;34m\u001b[0m\u001b[0m\n\u001b[0;32m---> 20\u001b[0;31m     \u001b[0mresult\u001b[0m\u001b[0;34m=\u001b[0m\u001b[0mAc\u001b[0m\u001b[0;34m(\u001b[0m\u001b[0;34m)\u001b[0m\u001b[0;34m\u001b[0m\u001b[0;34m\u001b[0m\u001b[0m\n\u001b[0m\u001b[1;32m     21\u001b[0m     \u001b[0mprint\u001b[0m\u001b[0;34m(\u001b[0m\u001b[0;34m\"The ans is =\"\u001b[0m\u001b[0;34m,\u001b[0m \u001b[0mresult\u001b[0m\u001b[0;34m)\u001b[0m\u001b[0;34m\u001b[0m\u001b[0;34m\u001b[0m\u001b[0m\n\u001b[1;32m     22\u001b[0m \u001b[0;34m\u001b[0m\u001b[0m\n",
            "\u001b[0;31mNameError\u001b[0m: name 'Ac' is not defined"
          ]
        }
      ],
      "source": [
        "import sys\n",
        "\n",
        "def mycal():\n",
        "  print('''Welcome here\\n\n",
        "  press 1 for Cc\n",
        "  Press 2 for Ac\n",
        "  Press 3 for At\n",
        "  Press q to quit\n",
        "  ''')\n",
        "\n",
        "\n",
        "  global operation\n",
        "  res= input()\n",
        "  operation= res\n",
        "  if res == \"1\":\n",
        "    result= Cc()\n",
        "    print(\"The ans is = \", result)\n",
        "\n",
        "  elif res== \"2\":\n",
        "    result= Ac()\n",
        "    print(\"The ans is =\", result)\n",
        "\n",
        "  elif res==\"3\":\n",
        "    result=At()\n",
        "    print(\"The ans is =\", result)\n",
        "\n",
        "  elif res==\"q\":\n",
        "    print('Are you sure you want to exit:\"y/n\"')\n",
        "    ans= input()\n",
        "    if ans == \"y\":\n",
        "      print(\"thanks and have a nice day\")\n",
        "      sys.exit\n",
        "  else:\n",
        "    mycal()\n",
        "\n",
        "import math                                          # place imports at the top\n",
        "\n",
        "def circumference(area):\n",
        "    circ = (math.sqrt(float(area))) / (math.pi)      #<- cast param to float, use math.sqrt\n",
        "    return circ                                      #<- return the result\n",
        "\n",
        "    area = input(\"Please choose an area for your circle: \")\n",
        "    print(\"The circumference is: \", circumference(area)) #<- call the function with a parameter\n",
        "\n",
        "\n",
        "import math\n",
        "def Cc():\n",
        "  r = float(input(\"Radius of a Circle: \"))\n",
        "\n",
        "  area = math.pi * r ** 2\n",
        "\n",
        "\n",
        "  print (area)\n",
        "\n",
        "def At():\n",
        "  height = float(input(\"Height of trapezoid: \"))\n",
        "  base_1 = float(input('Base one value: '))\n",
        "  base_2 = float(input('Base two value: '))\n",
        "  area = ((base_1 + base_2) / 2) * height\n",
        "  print(\"Area is:\", area)\n",
        "\n",
        "def tryAgain():\n",
        "  print(\"Do you want to tryAgain?\")\n",
        "  res=input(\"Enter 'Yes' or 'No' \").lower()\n",
        "  if res == \"yes\":\n",
        "    mycal()\n",
        "  else:\n",
        "    sys.exit\n",
        "\n",
        "mycal()\n",
        "tryAgain()"
      ]
    },
    {
      "cell_type": "code",
      "execution_count": null,
      "metadata": {
        "colab": {
          "base_uri": "https://localhost:8080/",
          "height": 454
        },
        "id": "Xf534o2fZsTz",
        "outputId": "8b13edef-e0a5-4bd9-a982-2bc4e49528c5"
      },
      "outputs": [
        {
          "name": "stdout",
          "output_type": "stream",
          "text": [
            "Desmond calculator\n",
            " 1.Circumference of a Circle\n",
            " 2.Area of a circle\n",
            " 3. Area of a Trapezium"
          ]
        },
        {
          "ename": "KeyboardInterrupt",
          "evalue": "ignored",
          "output_type": "error",
          "traceback": [
            "\u001b[0;31m---------------------------------------------------------------------------\u001b[0m",
            "\u001b[0;31mKeyboardInterrupt\u001b[0m                         Traceback (most recent call last)",
            "\u001b[0;32m<ipython-input-1-c0aae96a4788>\u001b[0m in \u001b[0;36m<module>\u001b[0;34m\u001b[0m\n\u001b[1;32m     55\u001b[0m     \u001b[0msys\u001b[0m\u001b[0;34m.\u001b[0m\u001b[0mexit\u001b[0m\u001b[0;34m\u001b[0m\u001b[0;34m\u001b[0m\u001b[0m\n\u001b[1;32m     56\u001b[0m \u001b[0;34m\u001b[0m\u001b[0m\n\u001b[0;32m---> 57\u001b[0;31m \u001b[0mmyfunc\u001b[0m\u001b[0;34m(\u001b[0m\u001b[0;34m)\u001b[0m\u001b[0;34m\u001b[0m\u001b[0;34m\u001b[0m\u001b[0m\n\u001b[0m\u001b[1;32m     58\u001b[0m \u001b[0mtryAgain\u001b[0m\u001b[0;34m(\u001b[0m\u001b[0;34m)\u001b[0m\u001b[0;34m\u001b[0m\u001b[0;34m\u001b[0m\u001b[0m\n",
            "\u001b[0;32m<ipython-input-1-c0aae96a4788>\u001b[0m in \u001b[0;36mmyfunc\u001b[0;34m()\u001b[0m\n\u001b[1;32m      4\u001b[0m   \u001b[0;32mfor\u001b[0m \u001b[0mi\u001b[0m \u001b[0;32min\u001b[0m  \u001b[0;34m\"\"\"Desmond calculator\\n 1.Circumference of a Circle\\n 2.Area of a circle\\n 3. Area of a Trapezium\"\"\"\u001b[0m\u001b[0;34m:\u001b[0m\u001b[0;34m\u001b[0m\u001b[0;34m\u001b[0m\u001b[0m\n\u001b[1;32m      5\u001b[0m     \u001b[0mprint\u001b[0m\u001b[0;34m(\u001b[0m\u001b[0mi\u001b[0m\u001b[0;34m,\u001b[0m\u001b[0mend\u001b[0m\u001b[0;34m=\u001b[0m \u001b[0;34m\"\"\u001b[0m\u001b[0;34m)\u001b[0m\u001b[0;34m\u001b[0m\u001b[0;34m\u001b[0m\u001b[0m\n\u001b[0;32m----> 6\u001b[0;31m   \u001b[0mres\u001b[0m\u001b[0;34m=\u001b[0m\u001b[0minput\u001b[0m\u001b[0;34m(\u001b[0m\u001b[0;34m\"enter here: \"\u001b[0m\u001b[0;34m)\u001b[0m\u001b[0;34m\u001b[0m\u001b[0;34m\u001b[0m\u001b[0m\n\u001b[0m\u001b[1;32m      7\u001b[0m   \u001b[0;32mif\u001b[0m \u001b[0mres\u001b[0m \u001b[0;34m==\u001b[0m \u001b[0;34m\"1\"\u001b[0m\u001b[0;34m:\u001b[0m\u001b[0;34m\u001b[0m\u001b[0;34m\u001b[0m\u001b[0m\n\u001b[1;32m      8\u001b[0m     \u001b[0mcircumference\u001b[0m\u001b[0;34m(\u001b[0m\u001b[0;34m)\u001b[0m\u001b[0;34m\u001b[0m\u001b[0;34m\u001b[0m\u001b[0m\n",
            "\u001b[0;32m/usr/local/lib/python3.7/dist-packages/ipykernel/kernelbase.py\u001b[0m in \u001b[0;36mraw_input\u001b[0;34m(self, prompt)\u001b[0m\n\u001b[1;32m    861\u001b[0m             \u001b[0mself\u001b[0m\u001b[0;34m.\u001b[0m\u001b[0m_parent_ident\u001b[0m\u001b[0;34m,\u001b[0m\u001b[0;34m\u001b[0m\u001b[0;34m\u001b[0m\u001b[0m\n\u001b[1;32m    862\u001b[0m             \u001b[0mself\u001b[0m\u001b[0;34m.\u001b[0m\u001b[0m_parent_header\u001b[0m\u001b[0;34m,\u001b[0m\u001b[0;34m\u001b[0m\u001b[0;34m\u001b[0m\u001b[0m\n\u001b[0;32m--> 863\u001b[0;31m             \u001b[0mpassword\u001b[0m\u001b[0;34m=\u001b[0m\u001b[0;32mFalse\u001b[0m\u001b[0;34m,\u001b[0m\u001b[0;34m\u001b[0m\u001b[0;34m\u001b[0m\u001b[0m\n\u001b[0m\u001b[1;32m    864\u001b[0m         )\n\u001b[1;32m    865\u001b[0m \u001b[0;34m\u001b[0m\u001b[0m\n",
            "\u001b[0;32m/usr/local/lib/python3.7/dist-packages/ipykernel/kernelbase.py\u001b[0m in \u001b[0;36m_input_request\u001b[0;34m(self, prompt, ident, parent, password)\u001b[0m\n\u001b[1;32m    902\u001b[0m             \u001b[0;32mexcept\u001b[0m \u001b[0mKeyboardInterrupt\u001b[0m\u001b[0;34m:\u001b[0m\u001b[0;34m\u001b[0m\u001b[0;34m\u001b[0m\u001b[0m\n\u001b[1;32m    903\u001b[0m                 \u001b[0;31m# re-raise KeyboardInterrupt, to truncate traceback\u001b[0m\u001b[0;34m\u001b[0m\u001b[0;34m\u001b[0m\u001b[0;34m\u001b[0m\u001b[0m\n\u001b[0;32m--> 904\u001b[0;31m                 \u001b[0;32mraise\u001b[0m \u001b[0mKeyboardInterrupt\u001b[0m\u001b[0;34m(\u001b[0m\u001b[0;34m\"Interrupted by user\"\u001b[0m\u001b[0;34m)\u001b[0m \u001b[0;32mfrom\u001b[0m \u001b[0;32mNone\u001b[0m\u001b[0;34m\u001b[0m\u001b[0;34m\u001b[0m\u001b[0m\n\u001b[0m\u001b[1;32m    905\u001b[0m             \u001b[0;32mexcept\u001b[0m \u001b[0mException\u001b[0m \u001b[0;32mas\u001b[0m \u001b[0me\u001b[0m\u001b[0;34m:\u001b[0m\u001b[0;34m\u001b[0m\u001b[0;34m\u001b[0m\u001b[0m\n\u001b[1;32m    906\u001b[0m                 \u001b[0mself\u001b[0m\u001b[0;34m.\u001b[0m\u001b[0mlog\u001b[0m\u001b[0;34m.\u001b[0m\u001b[0mwarning\u001b[0m\u001b[0;34m(\u001b[0m\u001b[0;34m\"Invalid Message:\"\u001b[0m\u001b[0;34m,\u001b[0m \u001b[0mexc_info\u001b[0m\u001b[0;34m=\u001b[0m\u001b[0;32mTrue\u001b[0m\u001b[0;34m)\u001b[0m\u001b[0;34m\u001b[0m\u001b[0;34m\u001b[0m\u001b[0m\n",
            "\u001b[0;31mKeyboardInterrupt\u001b[0m: Interrupted by user"
          ]
        }
      ],
      "source": [
        "import sys\n",
        "\n",
        "def myfunc():\n",
        "  for i in  \"\"\"Desmond calculator\\n 1.Circumference of a Circle\\n 2.Area of a circle\\n 3. Area of a Trapezium\"\"\":\n",
        "    print(i,end= \"\")\n",
        "  res=input(\"enter here: \")\n",
        "  if res == \"1\":\n",
        "    circumference()\n",
        "\n",
        "\n",
        "  elif res ==\"2\":\n",
        "    circle()\n",
        "\n",
        "  elif res ==\"3\":\n",
        "    trapezium()\n",
        "\n",
        "  else:\n",
        "    print(\"Invalid response\")\n",
        "    myfunc()\n",
        "\n",
        "import math                                          # place imports at the top\n",
        "\n",
        "def circumference(area):\n",
        "    circ = (math.sqrt(float(area))) / (math.pi)      #<- cast param to float, use math.sqrt\n",
        "    return circ                                      #<- return the result\n",
        "\n",
        "    area = input(\"Please choose an area for your circle: \")\n",
        "    print(\"The circumference is: \", circumference(area)) #<- call the function with a parameter\n",
        "\n",
        "\n",
        "\n",
        "import math\n",
        "\n",
        "def Ac():\n",
        "  r = float(input(\"Radius of a Circle: \"))\n",
        "\n",
        "  area = math.pi * r ** 2\n",
        "\n",
        "\n",
        "  print (area)\n",
        "\n",
        "def At():\n",
        "  height = float(input(\"Height of trapezoid: \"))\n",
        "  base_1 = float(input('Base one value: '))\n",
        "  base_2 = float(input('Base two value: '))\n",
        "  area = ((base_1 + base_2) / 2) * height\n",
        "  print(\"Area is:\", area)\n",
        "\n",
        "def tryAgain():\n",
        "  print(\"Do you want to tryAgain?\")\n",
        "  res=input(\"Enter 'Yes' or 'No' \").lower()\n",
        "  if res == \"yes\":\n",
        "    mycal()\n",
        "  else:\n",
        "    sys.exit\n",
        "\n",
        "myfunc()\n",
        "tryAgain()"
      ]
    },
    {
      "cell_type": "code",
      "execution_count": null,
      "metadata": {
        "colab": {
          "base_uri": "https://localhost:8080/",
          "height": 36
        },
        "id": "_9YEJhfaGE5t",
        "outputId": "12765bc2-c729-4ee5-92bd-ca001a1c53e5"
      },
      "outputs": [
        {
          "data": {
            "application/vnd.google.colaboratory.intrinsic+json": {
              "type": "string"
            },
            "text/plain": [
              "'Zara'"
            ]
          },
          "execution_count": 6,
          "metadata": {},
          "output_type": "execute_result"
        }
      ],
      "source": [
        "dict1 = {\"Name\": \"Zara\", \"Age\": 7, \"Class\": \"First\"}\n",
        "dict1[\"Name\"]"
      ]
    },
    {
      "cell_type": "code",
      "execution_count": null,
      "metadata": {
        "colab": {
          "base_uri": "https://localhost:8080/"
        },
        "id": "qnTZW55KLMqz",
        "outputId": "79c37e76-cbbe-4f17-94a3-3607a430801a"
      },
      "outputs": [
        {
          "name": "stdout",
          "output_type": "stream",
          "text": [
            "Name Zara\n",
            "Age 7\n",
            "Class First\n"
          ]
        }
      ],
      "source": [
        "for keys,values in dict1.items():\n",
        "  print(keys,values)"
      ]
    },
    {
      "cell_type": "code",
      "execution_count": null,
      "metadata": {
        "id": "7VO2-ZSMMKmQ"
      },
      "outputs": [],
      "source": [
        "file = open(\"desmond.txt\",'x')"
      ]
    },
    {
      "cell_type": "code",
      "execution_count": null,
      "metadata": {
        "id": "1VH1rP1YLZY3"
      },
      "outputs": [],
      "source": [
        "a = {1,2,3,4,5}\n",
        "b= {3,4,5}"
      ]
    },
    {
      "cell_type": "code",
      "execution_count": null,
      "metadata": {
        "colab": {
          "base_uri": "https://localhost:8080/"
        },
        "id": "DTKKviOERKNj",
        "outputId": "6b0fd0c1-64e3-47f4-9300-6cee57aa0a13"
      },
      "outputs": [
        {
          "data": {
            "text/plain": [
              "set"
            ]
          },
          "execution_count": 17,
          "metadata": {},
          "output_type": "execute_result"
        }
      ],
      "source": [
        "type(a)"
      ]
    },
    {
      "cell_type": "code",
      "execution_count": null,
      "metadata": {
        "colab": {
          "base_uri": "https://localhost:8080/"
        },
        "id": "wE5EcakHRMq_",
        "outputId": "f05bbc0b-645c-437d-ed65-bc9d54ffe078"
      },
      "outputs": [
        {
          "data": {
            "text/plain": [
              "True"
            ]
          },
          "execution_count": 18,
          "metadata": {},
          "output_type": "execute_result"
        }
      ],
      "source": [
        "b.issubset(a)"
      ]
    },
    {
      "cell_type": "code",
      "execution_count": null,
      "metadata": {
        "id": "gXsTRPNoRfWd"
      },
      "outputs": [],
      "source": [
        "b.intersection_update()"
      ]
    },
    {
      "cell_type": "code",
      "execution_count": null,
      "metadata": {
        "colab": {
          "base_uri": "https://localhost:8080/"
        },
        "id": "LeGE5zg7RnX1",
        "outputId": "a121be56-4ab9-4d37-cef3-21190cf4fb74"
      },
      "outputs": [
        {
          "data": {
            "text/plain": [
              "3"
            ]
          },
          "execution_count": 22,
          "metadata": {},
          "output_type": "execute_result"
        }
      ],
      "source": [
        "3"
      ]
    },
    {
      "cell_type": "code",
      "execution_count": null,
      "metadata": {
        "id": "slz8nnCoRwT-"
      },
      "outputs": [],
      "source": [
        "def my_salary():\n",
        "\n",
        "  salary= float(input(\"Enter your salary: \"))\n",
        "  years = float(input(\"Enter your years: \"))\n",
        "\n",
        "if salary  > 100000:\n",
        "\n",
        "  print(\"Your percent is 15%\")\n",
        "\n",
        "elif salary  > 50000 and <=100000:\n",
        "\n",
        "  print(\"Your percent is 10%\")\n",
        "\n",
        "elif salary is <= 50000:\n",
        "\n",
        "  print(\"Your percent is 5%\")\n",
        "\n",
        "elif :\n",
        "  print(try_Again)\n",
        "my_salary()"
      ]
    },
    {
      "cell_type": "code",
      "execution_count": null,
      "metadata": {
        "colab": {
          "base_uri": "https://localhost:8080/"
        },
        "id": "-V9BqCXHWPCW",
        "outputId": "18a6eec6-9f1e-4a36-ecb0-cf15df10dde8"
      },
      "outputs": [
        {
          "name": "stdout",
          "output_type": "stream",
          "text": [
            "Enter amount of salary : 30000\n",
            "Enter years of service : 12\n",
            "You have been working here for 12.0 years\n",
            " Your salary is 30000.0\n",
            "Bonus given: 3000.0\n",
            "Total salary: 33000.0\n"
          ]
        }
      ],
      "source": [
        "salary= float(input(\"Enter amount of salary : \"))\n",
        "years = float(input(\"Enter years of service : \"))\n",
        "\n",
        "if years < 30:\n",
        "  if years > 10:\n",
        "    bonus = salary* 0.1\n",
        "  elif years >=6:\n",
        "    bonus =salary* 0.08\n",
        "  elif years < 6:\n",
        "    bonus = salary*0.05\n",
        "\n",
        "else:\n",
        "  print(\"You can only work in my company for 30years only\")\n",
        "\n",
        "print(f'You have been working here for {years} years\\n Your salary is {salary}\\nBonus given: {bonus}')\n",
        "print(\"Total salary:\",salary+bonus)"
      ]
    },
    {
      "cell_type": "code",
      "execution_count": null,
      "metadata": {
        "colab": {
          "base_uri": "https://localhost:8080/"
        },
        "id": "ln437MOneCsz",
        "outputId": "4f58348b-d14c-4d8d-b1af-6edfb5d9c4f6"
      },
      "outputs": [
        {
          "name": "stdout",
          "output_type": "stream",
          "text": [
            "Enter word: Desmond\n",
            "dnomseD\n"
          ]
        }
      ],
      "source": [
        "word= input(\"Enter word: \")\n",
        "word=word[::-1]\n",
        "print(word)"
      ]
    },
    {
      "cell_type": "code",
      "execution_count": null,
      "metadata": {
        "id": "Yg-2Cxk8fRRu"
      },
      "outputs": [],
      "source": [
        "import os\n",
        "os.system(\"C:\\\\Users\\\\HP\\\\Music\\\\Adam_Levine_Locked_Away.mp3\")"
      ]
    },
    {
      "cell_type": "code",
      "execution_count": null,
      "metadata": {
        "colab": {
          "background_save": true,
          "base_uri": "https://localhost:8080/"
        },
        "id": "E34qZYsofwR5",
        "outputId": "c4e7be5b-eac4-47ae-ef12-31d692bb104d"
      },
      "outputs": [
        {
          "name": "stdout",
          "output_type": "stream",
          "text": [
            "You have been working here for 2.0 years\n",
            " Your salary is 100.0\n",
            "Bonus given: 5.0\n",
            "Total salary: 105.0\n"
          ]
        }
      ],
      "source": [
        "def my_salary():\n",
        "  salary= float(input(\"Enter amount of salary : \"))\n",
        "  years = float(input(\"Enter years of service : \"))\n",
        "\n",
        "if years < 30:\n",
        "\n",
        "  if years > 10:\n",
        "    bonus = salary* 0.1\n",
        "  elif years >=6:\n",
        "    bonus =salary* 0.08\n",
        "  elif years < 6:\n",
        "    bonus = salary*0.05\n",
        "\n",
        "else:\n",
        "  print(\"You can only work in my company for 30years only\")\n",
        "\n",
        "print(f'You have been working here for {years} years\\n Your salary is {salary}\\nBonus given: {bonus}')\n",
        "print(\"Total salary:\",salary+bonus)\n",
        "\n",
        "my_salary()"
      ]
    },
    {
      "cell_type": "code",
      "execution_count": null,
      "metadata": {
        "id": "XGvxVRwuy5a1"
      },
      "outputs": [],
      "source": [
        "from email.message import EmailMessage\n",
        "from app2 import password\n",
        "import ssl\n",
        "import smtlib\n",
        "\n",
        "email_sender + \"codewithdesmondtimmy2021@gmail.com\"\n",
        "email_password = sgntjanvwalybndi\n",
        "\n",
        "email_receiver = \"lenen68873@dineroa.com\"\n",
        "\n",
        "subject= \"Don't for get to subscribe\"\n",
        "\n",
        "body= \"\"\"\n",
        "When you watch the video,pls hit subscribe\n",
        "\"\"\"\n",
        "\n",
        "em = EmailMessage()\n",
        "em = ['from'] = email_sender\n",
        "em[\"To\"]= email_receiver\n",
        "em[\"Subject\"]= subject\n",
        "em.set_content(body)\n",
        "\n",
        "\n",
        "context = ssl.create_default_context()\n",
        "\n",
        "with smtplib.SMTP_SSL(\"smtp.gmail.com\", 456, context = context) as smtp:\n",
        "\n",
        "  smtp.login(email_sender, email_password)\n",
        "  smtp.sendmail(email_sender, email_receiver, em.as_string())\n"
      ]
    },
    {
      "cell_type": "code",
      "execution_count": null,
      "metadata": {
        "id": "PPTK-u0v3eps"
      },
      "outputs": [],
      "source": [
        "import random"
      ]
    },
    {
      "cell_type": "code",
      "execution_count": null,
      "metadata": {
        "id": "RxcwWHaa3p0t"
      },
      "outputs": [],
      "source": [
        "#print random integers within a specific range of numbers"
      ]
    },
    {
      "cell_type": "code",
      "execution_count": null,
      "metadata": {
        "id": "5C7TuRGC3zGo"
      },
      "outputs": [],
      "source": [
        "random.randint() #the start and stop"
      ]
    },
    {
      "cell_type": "code",
      "execution_count": null,
      "metadata": {
        "colab": {
          "base_uri": "https://localhost:8080/"
        },
        "id": "rk0dS8354JAo",
        "outputId": "1e0c7fe4-6e4d-49b7-a566-934fb2eea889"
      },
      "outputs": [
        {
          "data": {
            "text/plain": [
              "0.4176109032022596"
            ]
          },
          "execution_count": 5,
          "metadata": {},
          "output_type": "execute_result"
        }
      ],
      "source": [
        "random.random()"
      ]
    },
    {
      "cell_type": "code",
      "execution_count": null,
      "metadata": {
        "colab": {
          "base_uri": "https://localhost:8080/"
        },
        "id": "LuSSXN9I4NRB",
        "outputId": "51ce6b76-dc51-444b-826d-639368622ac0"
      },
      "outputs": [
        {
          "name": "stdout",
          "output_type": "stream",
          "text": [
            "1\n"
          ]
        }
      ],
      "source": [
        "r1= random.randint(1,10)\n",
        "print(r1)# the start and the stop"
      ]
    },
    {
      "cell_type": "code",
      "execution_count": null,
      "metadata": {
        "colab": {
          "base_uri": "https://localhost:8080/"
        },
        "id": "F5mY_Jnp4fIq",
        "outputId": "59ef844c-acf1-42a0-f51f-2df960bba050"
      },
      "outputs": [
        {
          "name": "stdout",
          "output_type": "stream",
          "text": [
            "14\n"
          ]
        }
      ],
      "source": [
        "#random.randrange doesn't add the last number to the result\n",
        "a= random.randrange(12,20)\n",
        "print(a)"
      ]
    },
    {
      "cell_type": "code",
      "execution_count": null,
      "metadata": {
        "colab": {
          "base_uri": "https://localhost:8080/"
        },
        "id": "si1ZbZO55HTr",
        "outputId": "fd235d34-dbe4-4a37-fe62-7779c1002d77"
      },
      "outputs": [
        {
          "name": "stdout",
          "output_type": "stream",
          "text": [
            "7.34\n"
          ]
        }
      ],
      "source": [
        "e=random.uniform(11,2)\n",
        "e= round(e,2)\n",
        "print(e)"
      ]
    },
    {
      "cell_type": "code",
      "execution_count": null,
      "metadata": {
        "colab": {
          "base_uri": "https://localhost:8080/"
        },
        "id": "2wPDQaJw5dGo",
        "outputId": "6163cfab-eb71-4790-d009-d2783be0a5b7"
      },
      "outputs": [
        {
          "name": "stdout",
          "output_type": "stream",
          "text": [
            "i\n"
          ]
        }
      ],
      "source": [
        "#randoming through a string\n",
        "\n",
        "name =\"Cephas_digital_tecnology\"\n",
        "letter= random.choice(name)\n",
        "print(letter)"
      ]
    },
    {
      "cell_type": "code",
      "execution_count": null,
      "metadata": {
        "colab": {
          "base_uri": "https://localhost:8080/"
        },
        "id": "ZIU4KJNL69Gj",
        "outputId": "2a3f04d5-c337-4572-8b48-4307e0fd9544"
      },
      "outputs": [
        {
          "name": "stdout",
          "output_type": "stream",
          "text": [
            "i ate cashew in 6 times today\n"
          ]
        }
      ],
      "source": [
        "# working with a list\n",
        "\n",
        "fruits = ['oranges','pawpaw','guava','watermelon','cashew','mangoe']\n",
        "numbers = [1,2,3,4,5,6,7,7]\n",
        "fruit = random.choice(fruits)\n",
        "number = random.choice(numbers)\n",
        "print(f\"i ate {fruit} in {number} times today\")"
      ]
    },
    {
      "cell_type": "code",
      "execution_count": null,
      "metadata": {
        "colab": {
          "base_uri": "https://localhost:8080/"
        },
        "id": "kOvddozi9ETx",
        "outputId": "d1aa356e-088b-42e1-a8a1-2d0f01d36e25"
      },
      "outputs": [
        {
          "name": "stdout",
          "output_type": "stream",
          "text": [
            "['guava', 'pawpaw', 'mangoe', 'oranges', 'watermelon', 'cashew']\n"
          ]
        }
      ],
      "source": [
        "new_fruit= (fruits)\n",
        "random.shuffle(new_fruit)\n",
        "print(new_fruit)"
      ]
    },
    {
      "cell_type": "code",
      "execution_count": null,
      "metadata": {
        "colab": {
          "base_uri": "https://localhost:8080/"
        },
        "id": "kruSyo0T9ivM",
        "outputId": "60a52763-931c-4f07-f6f5-0813a721cd08"
      },
      "outputs": [
        {
          "name": "stdout",
          "output_type": "stream",
          "text": [
            "None\n"
          ]
        }
      ],
      "source": [
        "print(new_fruit)"
      ]
    },
    {
      "cell_type": "code",
      "execution_count": null,
      "metadata": {
        "colab": {
          "base_uri": "https://localhost:8080/"
        },
        "id": "evRt0vfl91OK",
        "outputId": "ae417c7e-b519-473b-e64b-e24061ba80f8"
      },
      "outputs": [
        {
          "name": "stdout",
          "output_type": "stream",
          "text": [
            "[3, 1, 4, 2]\n"
          ]
        }
      ],
      "source": [
        "c= [1,2,3,4]\n",
        "random.shuffle(c)\n",
        "print(c)"
      ]
    },
    {
      "cell_type": "code",
      "execution_count": null,
      "metadata": {
        "colab": {
          "base_uri": "https://localhost:8080/"
        },
        "id": "qTLbBX0XAUQI",
        "outputId": "87ec0d8a-62fa-4193-95c5-432a075628d6"
      },
      "outputs": [
        {
          "name": "stdout",
          "output_type": "stream",
          "text": [
            "\n",
            "* *W*E*L*C*O*M*E* *\n",
            "* * *T*O* *M*Y* *N*U*M*B*E*R* *G*U*E*S*S*I*N*G* *G*A*M*E*guess a number from 1 to 2011\n",
            "Sorry, guess is too low 😁\n",
            "guess a number from 1 to 2016\n",
            "Sorry, guess is too low 😁\n",
            "guess a number from 1 to 2018\n",
            "You're out of guesses\n"
          ]
        }
      ],
      "source": [
        "import random\n",
        "import time\n",
        "\n",
        "def intro():\n",
        "  global b\n",
        "  b = \"\"\"\\n WELCOME\n",
        "  TO MY NUMBER GUESSING GAME\"\"\"\n",
        "  for i in b:\n",
        "    print(i,end=\"*\")\n",
        "    time.sleep(0.12)\n",
        "no_of_guess= 0\n",
        "guess_limit=3\n",
        "out_of_guess= False\n",
        "\n",
        "\n",
        "def guess(x):\n",
        "  global no_of_guess\n",
        "  global guess_limit\n",
        "  global out_of_guess\n",
        "  guess=\"\"\n",
        "  random_num = random.randint(1,x)\n",
        "  while guess != random_num and not out_of_guess:\n",
        "    guess= int(input(\"guess a number from 1 to {}\". format(x)))\n",
        "    no_of_guess+=1\n",
        "    if no_of_guess< guess_limit:\n",
        "      if guess>random_num:\n",
        "        print(\"Sorry, guess is too high\\U0001f600\")\n",
        "      elif guess< random_num:\n",
        "        print(\"Sorry, guess is too low \\U0001f601\")\n",
        "\n",
        "    elif no_of_guess == 3:\n",
        "      print(\"You're out of guesses\")\n",
        "      break\n",
        "  else:\n",
        "    print(f\"Hurray, you have guessed{random_num} correctly\")\n",
        "\n",
        "\n",
        "\n",
        "intro()\n",
        "guess(20)"
      ]
    },
    {
      "cell_type": "code",
      "execution_count": null,
      "metadata": {
        "colab": {
          "base_uri": "https://localhost:8080/"
        },
        "id": "Jd1FD_EVC8KZ",
        "outputId": "2f532bb7-f72b-40aa-af43-76741680d641"
      },
      "outputs": [
        {
          "name": "stdout",
          "output_type": "stream",
          "text": [
            "1 is not prime\n",
            "2 is not prime\n",
            "3 is prime\n",
            "4 is not prime\n",
            "5 is not prime\n",
            "6 is prime\n",
            "7 is not prime\n",
            "8 is not prime\n",
            "9 is prime\n",
            "10 is not prime\n",
            "11 is not prime\n",
            "12 is prime\n",
            "13 is not prime\n",
            "14 is not prime\n",
            "15 is prime\n",
            "16 is not prime\n",
            "17 is not prime\n",
            "18 is prime\n",
            "19 is not prime\n"
          ]
        }
      ],
      "source": [
        "for i in range (1,20):\n",
        "    if i % 3==0:\n",
        "        print(i, 'is prime')\n",
        "    else:\n",
        "        print(i, \"is not prime\")\n"
      ]
    },
    {
      "cell_type": "code",
      "execution_count": null,
      "metadata": {
        "colab": {
          "base_uri": "https://localhost:8080/"
        },
        "id": "D3iXUGowlOiJ",
        "outputId": "3f07d9d6-2b62-41a6-ccb7-7c41beb7b989"
      },
      "outputs": [
        {
          "name": "stdout",
          "output_type": "stream",
          "text": [
            "Enter here your number: 3\n",
            "31 is not prime\n"
          ]
        }
      ],
      "source": [
        "b= input(\"Enter here your number: \")\n",
        "for i in b:\n",
        "  print(i,end= \"\")\n",
        "  for i in range (1,20):\n",
        "    if i % 3==0:\n",
        "        print(i, 'is prime')\n",
        "    else:\n",
        "        print(i, \"is not prime\")\n",
        "        break\n"
      ]
    },
    {
      "cell_type": "code",
      "execution_count": null,
      "metadata": {
        "id": "_Mw-IN0jyuDR"
      },
      "outputs": [],
      "source": [
        "num= int(input(\"Enter number here : \"))\n",
        "prime=None\n",
        "for i in range(3,num+1):\n",
        "  if num%i ==0:\n",
        "    num=False\n",
        "  else:\n",
        "    num=True\n",
        "if num:\n",
        "  print(\"A prime number\")\n",
        "else:\n",
        "  print(\"is not prime number\")"
      ]
    },
    {
      "cell_type": "code",
      "execution_count": null,
      "metadata": {
        "id": "JEwit8Ke5tR1"
      },
      "outputs": [],
      "source": [
        "def factorial(n):\n",
        "  fact= 1\n",
        "  for i in range(2, n+1):\n",
        "    fact*=1\n",
        "    return fact\n",
        "factorial(15)"
      ]
    },
    {
      "cell_type": "code",
      "execution_count": null,
      "metadata": {
        "id": "npL6Yk-x6eVz"
      },
      "outputs": [],
      "source": [
        "def permute (string,pocket=\"\"):\n",
        "  if len (string)== 0:\n",
        "    print(pocket)\n",
        "  else:\n",
        "    for i in range (len(string)):\n",
        "      letter = string[i]\n",
        "      front = string[0:1]\n",
        "      back= string[i+1:]\n",
        "      together= front+back\n",
        "      permute(together,letter+pocket)\n",
        "\n",
        "print(permute(\"ABCD\", \"\"))"
      ]
    },
    {
      "cell_type": "code",
      "execution_count": null,
      "metadata": {
        "id": "VxMFKotIw9mx"
      },
      "outputs": [],
      "source": [
        "import random\n",
        "def ML(x):\n",
        "  low=1\n",
        "  high=x\n",
        "  res= \"\"\n",
        "  while res!=\"c\":\n",
        "    if low!=high:\n",
        "      guess= random.randint(low,high)\n",
        "\n",
        "    else:\n",
        "      low=high\n",
        "      res=input(f\"Enter H if {guess} is high, L if {guess} is low, C if {guess} is correct\").lower()\n",
        "      if res==\"h\":\n",
        "        guess=-1\n",
        "      elif res==\"l\":\n",
        "        guess=+1\n",
        "\n",
        "  else:\n",
        "    print(\"You have successfully guess the secret number correctly\")\n",
        "\n",
        "ML(200)\n"
      ]
    },
    {
      "cell_type": "code",
      "execution_count": null,
      "metadata": {
        "colab": {
          "background_save": true,
          "base_uri": "https://localhost:8080/"
        },
        "id": "d5YdNWb1ymSc",
        "outputId": "43bbd049-240c-4471-facb-e759bb128ed7"
      },
      "outputs": [
        {
          "name": "stdout",
          "output_type": "stream",
          "text": [
            "Try harder\n",
            "Try harder\n"
          ]
        }
      ],
      "source": [
        "import random\n",
        "no_of_guess=0\n",
        "guess_limit =4\n",
        "out_of_guess =False\n",
        "\n",
        "words=[\" Atelier\", \"Banquette\", \"Disincline\",\"Impromptu\", \"Peignoir\",\"Pirogue\", \"Plapitant\", \"Pravus\", \"Quadroon\", \"Soiree\", \"Tragedian\",\n",
        " \"bewilder\",\"Desmond\",\"Timmy\",\"Cephas\",\"Technology\",\"Tech\",\" cicatrice\",\"conscientia\",\" compendium\"]\n",
        "\n",
        "b = random.choice(words)\n",
        "guess= \" \"\n",
        "while guess!=out_of_guess:\n",
        "\n",
        "  guess = input(\"Guess the secret words: \")\n",
        "\n",
        "  if no_of_guess ==4:\n",
        "    print(words[1::2])\n",
        "\n",
        "    if len(guess)<=5:\n",
        "\n",
        "       print(\"Try to remember the words\")\n",
        "\n",
        "\n",
        "  else:\n",
        "    print(\"Try harder\")\n",
        "    continue\n",
        "\n"
      ]
    },
    {
      "cell_type": "code",
      "execution_count": null,
      "metadata": {
        "id": "wiEMNeMXE2cc"
      },
      "outputs": [],
      "source": [
        "\n",
        "\n",
        "file = open(\"Words.txt\",\"x\")"
      ]
    },
    {
      "cell_type": "code",
      "execution_count": null,
      "metadata": {
        "id": "XzfHyPNrFmsM"
      },
      "outputs": [],
      "source": [
        "import time"
      ]
    },
    {
      "cell_type": "code",
      "execution_count": null,
      "metadata": {
        "id": "ZVdSdmhOJSIo"
      },
      "outputs": [],
      "source": [
        "#to get"
      ]
    },
    {
      "cell_type": "code",
      "execution_count": null,
      "metadata": {
        "id": "YO94rxKnI98R"
      },
      "outputs": [],
      "source": [
        "import datetime"
      ]
    },
    {
      "cell_type": "markdown",
      "metadata": {
        "id": "8XMcSxn8Y-HP"
      },
      "source": [
        "CLASS\n"
      ]
    },
    {
      "cell_type": "code",
      "execution_count": null,
      "metadata": {
        "id": "iE24oeg1W8-f"
      },
      "outputs": [],
      "source": [
        "# A class is a collection of object\n",
        "# when creating a class we normally use Capital letter and we use class to create a class"
      ]
    },
    {
      "cell_type": "code",
      "execution_count": null,
      "metadata": {
        "colab": {
          "base_uri": "https://localhost:8080/",
          "height": 272
        },
        "id": "aABYSVxZX1TO",
        "outputId": "e21d8c33-4a09-4810-dca9-ea2958dfa1dd"
      },
      "outputs": [
        {
          "ename": "NameError",
          "evalue": "ignored",
          "output_type": "error",
          "traceback": [
            "\u001b[0;31m---------------------------------------------------------------------------\u001b[0m",
            "\u001b[0;31mNameError\u001b[0m                                 Traceback (most recent call last)",
            "\u001b[0;32m<ipython-input-3-da75ec5a93e8>\u001b[0m in \u001b[0;36m<cell line: 1>\u001b[0;34m()\u001b[0m\n\u001b[0;32m----> 1\u001b[0;31m \u001b[0;32mclass\u001b[0m \u001b[0mMyclass\u001b[0m\u001b[0;34m:\u001b[0m\u001b[0;34m\u001b[0m\u001b[0;34m\u001b[0m\u001b[0m\n\u001b[0m\u001b[1;32m      2\u001b[0m   \u001b[0mx\u001b[0m\u001b[0;34m\u001b[0m\u001b[0;34m\u001b[0m\u001b[0m\n",
            "\u001b[0;32m<ipython-input-3-da75ec5a93e8>\u001b[0m in \u001b[0;36mMyclass\u001b[0;34m()\u001b[0m\n\u001b[1;32m      1\u001b[0m \u001b[0;32mclass\u001b[0m \u001b[0mMyclass\u001b[0m\u001b[0;34m:\u001b[0m\u001b[0;34m\u001b[0m\u001b[0;34m\u001b[0m\u001b[0m\n\u001b[0;32m----> 2\u001b[0;31m   \u001b[0mx\u001b[0m\u001b[0;34m\u001b[0m\u001b[0;34m\u001b[0m\u001b[0m\n\u001b[0m",
            "\u001b[0;31mNameError\u001b[0m: name 'x' is not defined"
          ]
        }
      ],
      "source": [
        "class Myclass:\n",
        "  x"
      ]
    },
    {
      "cell_type": "code",
      "execution_count": null,
      "metadata": {
        "id": "_aVYAdkPK236"
      },
      "outputs": [],
      "source": [
        "Numpy"
      ]
    },
    {
      "cell_type": "code",
      "execution_count": null,
      "metadata": {
        "id": "yimYkfWzK6G1"
      },
      "outputs": [],
      "source": [
        "#It is known as nuemrical python\n",
        "# its a foundational package on which many of the most common data science are built\n",
        "#it provides us with high performance"
      ]
    },
    {
      "cell_type": "code",
      "execution_count": null,
      "metadata": {
        "id": "NbD7HiajOqdh"
      },
      "outputs": [],
      "source": [
        "import numpy as np\n"
      ]
    },
    {
      "cell_type": "code",
      "execution_count": null,
      "metadata": {
        "colab": {
          "base_uri": "https://localhost:8080/"
        },
        "id": "QI0fi29_OvOk",
        "outputId": "f8767c0c-515b-4feb-d6ec-9166d7e6be00"
      },
      "outputs": [
        {
          "data": {
            "text/plain": [
              "array([  3,  33, 333])"
            ]
          },
          "execution_count": 14,
          "metadata": {},
          "output_type": "execute_result"
        }
      ],
      "source": [
        "import numpy as np\n",
        "an_argentina= np.array([3,33,333])#rank 1 array\n",
        "an_argentina"
      ]
    },
    {
      "cell_type": "code",
      "execution_count": null,
      "metadata": {
        "id": "AlrtszlZPKSZ"
      },
      "outputs": [],
      "source": [
        "#you can find the type using this type(array variable)"
      ]
    },
    {
      "cell_type": "code",
      "execution_count": null,
      "metadata": {
        "colab": {
          "base_uri": "https://localhost:8080/"
        },
        "id": "WnVH7ftiPW5b",
        "outputId": "92836d47-56bb-4a1c-f0b4-7b3e2c6d91f1"
      },
      "outputs": [
        {
          "name": "stdout",
          "output_type": "stream",
          "text": [
            "<class 'numpy.ndarray'>\n"
          ]
        }
      ],
      "source": [
        "print(type(an_array))"
      ]
    },
    {
      "cell_type": "code",
      "execution_count": null,
      "metadata": {
        "colab": {
          "base_uri": "https://localhost:8080/",
          "height": 37
        },
        "id": "TdTb4Uj_Pn88",
        "outputId": "ec8bace5-ef6c-4c5f-9bce-72ca617cf2ac"
      },
      "outputs": [
        {
          "data": {
            "application/vnd.google.colaboratory.intrinsic+json": {
              "type": "string"
            },
            "text/plain": [
              "'4.0'"
            ]
          },
          "execution_count": 29,
          "metadata": {},
          "output_type": "execute_result"
        }
      ],
      "source": [
        "x= 4.0\n",
        "str (x)\n"
      ]
    },
    {
      "cell_type": "code",
      "execution_count": null,
      "metadata": {
        "colab": {
          "base_uri": "https://localhost:8080/"
        },
        "id": "5imqcxxIQqQV",
        "outputId": "df57d9f3-d2f4-4284-fda2-378bc1e0786f"
      },
      "outputs": [
        {
          "data": {
            "text/plain": [
              "2"
            ]
          },
          "execution_count": 40,
          "metadata": {},
          "output_type": "execute_result"
        }
      ],
      "source": [
        "#NUMPY DIMENSION\n",
        "\n",
        "import numpy as np\n",
        "a = np.array([[1,2,3],[4,5,6]])# 2 dim of array\n",
        "a.ndim"
      ]
    },
    {
      "cell_type": "code",
      "execution_count": null,
      "metadata": {
        "colab": {
          "base_uri": "https://localhost:8080/"
        },
        "id": "bJKFE_5fSWK_",
        "outputId": "ae81af25-abde-4c6b-bbef-7419b997a34c"
      },
      "outputs": [
        {
          "data": {
            "text/plain": [
              "2"
            ]
          },
          "execution_count": 33,
          "metadata": {},
          "output_type": "execute_result"
        }
      ],
      "source": [
        "a.ndim\n",
        "#we use this to have acces to element of multi dimension arrays"
      ]
    },
    {
      "cell_type": "code",
      "execution_count": null,
      "metadata": {
        "id": "RhCF2s_SSsYT"
      },
      "outputs": [],
      "source": [
        "b= np.array([[[[1,2,3],[4,5,6],[7,8,9],[0,0,0]]]])\n",
        "b.ndim"
      ]
    },
    {
      "cell_type": "code",
      "execution_count": null,
      "metadata": {
        "id": "o-2UpygUVgOF"
      },
      "outputs": [],
      "source": [
        "#SHAPE"
      ]
    },
    {
      "cell_type": "code",
      "execution_count": null,
      "metadata": {
        "colab": {
          "base_uri": "https://localhost:8080/"
        },
        "id": "qaC-jkW9S9aB",
        "outputId": "170835be-833e-41fc-cdbe-f8360c941bd6"
      },
      "outputs": [
        {
          "name": "stderr",
          "output_type": "stream",
          "text": [
            "<ipython-input-73-8318afc59234>:1: VisibleDeprecationWarning: Creating an ndarray from ragged nested sequences (which is a list-or-tuple of lists-or-tuples-or ndarrays with different lengths or shapes) is deprecated. If you meant to do this, you must specify 'dtype=object' when creating the ndarray.\n",
            "  c= np.array([[[1,2,3],[4,5,6],[0,0,-1]],[[-1.-2-3],[-4,-5,-6],[0,0,1]]])\n"
          ]
        }
      ],
      "source": [
        "c= np.array([[[1,2,3],[4,5,6],[0,0,-1]],[[-1.-2-3],[-4,-5,-6],[0,0,1]]])"
      ]
    },
    {
      "cell_type": "code",
      "execution_count": null,
      "metadata": {
        "colab": {
          "base_uri": "https://localhost:8080/"
        },
        "id": "lsdjvxUPU0ps",
        "outputId": "ac34272b-454c-49dd-a620-cec785298fa5"
      },
      "outputs": [
        {
          "data": {
            "text/plain": [
              "2"
            ]
          },
          "execution_count": 45,
          "metadata": {},
          "output_type": "execute_result"
        }
      ],
      "source": [
        "c.ndim"
      ]
    },
    {
      "cell_type": "code",
      "execution_count": null,
      "metadata": {
        "colab": {
          "base_uri": "https://localhost:8080/"
        },
        "id": "3ytH9-bNU206",
        "outputId": "3de2a7d4-7b30-402f-dfba-603ef761d7ac"
      },
      "outputs": [
        {
          "data": {
            "text/plain": [
              "(2, 3)"
            ]
          },
          "execution_count": 48,
          "metadata": {},
          "output_type": "execute_result"
        }
      ],
      "source": [
        "c.shape"
      ]
    },
    {
      "cell_type": "code",
      "execution_count": null,
      "metadata": {
        "colab": {
          "base_uri": "https://localhost:8080/"
        },
        "id": "IzlgsUNxVxbh",
        "outputId": "72497d6f-8294-4a99-9f40-806b8d732d88"
      },
      "outputs": [
        {
          "name": "stderr",
          "output_type": "stream",
          "text": [
            "<ipython-input-54-df24496925d0>:1: VisibleDeprecationWarning: Creating an ndarray from ragged nested sequences (which is a list-or-tuple of lists-or-tuples-or ndarrays with different lengths or shapes) is deprecated. If you meant to do this, you must specify 'dtype=object' when creating the ndarray.\n",
            "  d= np.array([[[[2,4,5,],[6,-2,7],[8,-1,-2]]],[[[4,6,8],[10,-4,7],[3,3,-3],[0,0,0]]]])\n"
          ]
        }
      ],
      "source": [
        "d= np.array([[[[2,4,5,],[6,-2,7],[8,-1,-2]]],[[[4,6,8],[10,-4,7],[3,3,-3],[0,0,0]]]])"
      ]
    },
    {
      "cell_type": "code",
      "execution_count": null,
      "metadata": {
        "colab": {
          "base_uri": "https://localhost:8080/"
        },
        "id": "-L3rZ5rEXLXJ",
        "outputId": "0bb4aedd-fc05-4c11-ecef-681154d20977"
      },
      "outputs": [
        {
          "data": {
            "text/plain": [
              "2"
            ]
          },
          "execution_count": 55,
          "metadata": {},
          "output_type": "execute_result"
        }
      ],
      "source": [
        "d.ndim"
      ]
    },
    {
      "cell_type": "code",
      "execution_count": null,
      "metadata": {
        "colab": {
          "base_uri": "https://localhost:8080/"
        },
        "id": "mGTGVSPGXNlS",
        "outputId": "d639a9e4-6a5f-41e4-d24a-d053326ee710"
      },
      "outputs": [
        {
          "data": {
            "text/plain": [
              "(2, 1)"
            ]
          },
          "execution_count": 56,
          "metadata": {},
          "output_type": "execute_result"
        }
      ],
      "source": [
        "d.shape"
      ]
    },
    {
      "cell_type": "code",
      "execution_count": null,
      "metadata": {
        "id": "i0ftBQQEXP71"
      },
      "outputs": [],
      "source": [
        "#RAnk means non-zero row\n"
      ]
    },
    {
      "cell_type": "code",
      "execution_count": null,
      "metadata": {
        "colab": {
          "base_uri": "https://localhost:8080/",
          "height": 195
        },
        "id": "C8oBbYmgZoRC",
        "outputId": "2d446eb7-9046-4aab-b490-65e2b54c2f5e"
      },
      "outputs": [
        {
          "ename": "NameError",
          "evalue": "ignored",
          "output_type": "error",
          "traceback": [
            "\u001b[0;31m---------------------------------------------------------------------------\u001b[0m",
            "\u001b[0;31mNameError\u001b[0m                                 Traceback (most recent call last)",
            "\u001b[0;32m<ipython-input-76-d85cedd4ca3f>\u001b[0m in \u001b[0;36m<cell line: 1>\u001b[0;34m()\u001b[0m\n\u001b[0;32m----> 1\u001b[0;31m \u001b[0mc\u001b[0m \u001b[0;34m=\u001b[0m \u001b[0mindex\u001b[0m\u001b[0;34m[\u001b[0m\u001b[0;34m[\u001b[0m\u001b[0;36m0\u001b[0m\u001b[0;34m]\u001b[0m\u001b[0;34m]\u001b[0m\u001b[0;34m=\u001b[0m\u001b[0;36m91\u001b[0m\u001b[0;34m\u001b[0m\u001b[0;34m\u001b[0m\u001b[0m\n\u001b[0m\u001b[1;32m      2\u001b[0m \u001b[0mprint\u001b[0m\u001b[0;34m(\u001b[0m\u001b[0mc\u001b[0m\u001b[0;34m)\u001b[0m\u001b[0;34m\u001b[0m\u001b[0;34m\u001b[0m\u001b[0m\n",
            "\u001b[0;31mNameError\u001b[0m: name 'index' is not defined"
          ]
        }
      ],
      "source": [
        "\n",
        "c = index[[0]]=91\n",
        "print(c)"
      ]
    },
    {
      "cell_type": "code",
      "execution_count": null,
      "metadata": {
        "id": "IPwF4cv1Z2DM"
      },
      "outputs": [],
      "source": [
        "f= np.array([[1,2,3],[3,4,6]])"
      ]
    },
    {
      "cell_type": "code",
      "execution_count": null,
      "metadata": {
        "colab": {
          "base_uri": "https://localhost:8080/"
        },
        "id": "WmsnhyfTbEmZ",
        "outputId": "e74cbb4d-e7ea-472a-bfbc-05c035b33880"
      },
      "outputs": [
        {
          "data": {
            "text/plain": [
              "2"
            ]
          },
          "execution_count": 78,
          "metadata": {},
          "output_type": "execute_result"
        }
      ],
      "source": [
        "f.ndim"
      ]
    },
    {
      "cell_type": "code",
      "execution_count": null,
      "metadata": {
        "id": "kgvB6yF8bGym"
      },
      "outputs": [],
      "source": [
        "f[0]=90\n",
        "print(f)"
      ]
    },
    {
      "cell_type": "code",
      "execution_count": null,
      "metadata": {
        "id": "1Nsqn0gDback"
      },
      "outputs": [],
      "source": [
        "f= np.array([[1,2,3]])"
      ]
    },
    {
      "cell_type": "code",
      "execution_count": null,
      "metadata": {
        "id": "YeBYs2DTb6-i"
      },
      "outputs": [],
      "source": [
        "f[0]= 20\n",
        "print(f)"
      ]
    },
    {
      "cell_type": "code",
      "execution_count": null,
      "metadata": {
        "id": "l5r5XUBAcBsT"
      },
      "outputs": [],
      "source": [
        "#SORT"
      ]
    },
    {
      "cell_type": "code",
      "execution_count": null,
      "metadata": {
        "colab": {
          "base_uri": "https://localhost:8080/"
        },
        "id": "ChysNxWVcRuo",
        "outputId": "3cccca7b-b020-4ed8-d2a5-2a16b680b137"
      },
      "outputs": [
        {
          "name": "stderr",
          "output_type": "stream",
          "text": [
            "<ipython-input-90-cc3c63d64d0a>:2: VisibleDeprecationWarning: Creating an ndarray from ragged nested sequences (which is a list-or-tuple of lists-or-tuples-or ndarrays with different lengths or shapes) is deprecated. If you meant to do this, you must specify 'dtype=object' when creating the ndarray.\n",
            "  c= np.array([[[[2,4,5,],[6,-2,7],[8,-1,-2]]],[[[4,6,8],[10,-4,7],[3,3,-3],[0,0,0]]]])\n"
          ]
        }
      ],
      "source": [
        "import numpy as np\n",
        "c= np.array([[[[2,4,5,],[6,-2,7],[8,-1,-2]]],[[[4,6,8],[10,-4,7],[3,3,-3],[0,0,0]]]])\n",
        "c.sort()"
      ]
    },
    {
      "cell_type": "code",
      "execution_count": null,
      "metadata": {
        "colab": {
          "base_uri": "https://localhost:8080/"
        },
        "id": "mb2vPy--cyy5",
        "outputId": "b2a0e9a6-7c51-4abc-8971-190bfb0d8f36"
      },
      "outputs": [
        {
          "data": {
            "text/plain": [
              "2"
            ]
          },
          "execution_count": 92,
          "metadata": {},
          "output_type": "execute_result"
        }
      ],
      "source": [
        "c.size"
      ]
    },
    {
      "cell_type": "code",
      "execution_count": null,
      "metadata": {
        "colab": {
          "base_uri": "https://localhost:8080/"
        },
        "id": "sa210DMNc66s",
        "outputId": "31c2291b-871f-406c-c526-c8c8a00b7976"
      },
      "outputs": [
        {
          "data": {
            "text/plain": [
              "<function ndarray.sort>"
            ]
          },
          "execution_count": 93,
          "metadata": {},
          "output_type": "execute_result"
        }
      ],
      "source": [
        "c.sort\n"
      ]
    },
    {
      "cell_type": "code",
      "execution_count": null,
      "metadata": {
        "id": "PXK8XSVBdW0V"
      },
      "outputs": [],
      "source": [
        "import numpy as np"
      ]
    },
    {
      "cell_type": "code",
      "execution_count": null,
      "metadata": {
        "id": "2KPfAGAYeLZs"
      },
      "outputs": [],
      "source": [
        "ai=np.zeros((4,4))#print zeros in both rows and coloumn\n",
        "print(ai)"
      ]
    },
    {
      "cell_type": "code",
      "execution_count": null,
      "metadata": {
        "id": "72uvWrKJe6_u"
      },
      "outputs": [],
      "source": [
        "ai.np.ones(1,2)# to print 1 throughtout\n",
        "print(ai)"
      ]
    },
    {
      "cell_type": "code",
      "execution_count": null,
      "metadata": {
        "id": "nGNaaZG2f9hp"
      },
      "outputs": [],
      "source": [
        "ai.eyes(5)#eyes means diagonal"
      ]
    },
    {
      "cell_type": "code",
      "execution_count": null,
      "metadata": {
        "colab": {
          "base_uri": "https://localhost:8080/"
        },
        "id": "ZMakQPTsjoCC",
        "outputId": "a3a8aca0-6ab2-4504-a842-5c116baf7ea1"
      },
      "outputs": [
        {
          "name": "stdout",
          "output_type": "stream",
          "text": [
            "[[0.12493867 0.11390345 0.92148679 0.78878629 0.85557802]\n",
            " [0.61144464 0.57692017 0.33291088 0.70221893 0.68618129]\n",
            " [0.24688347 0.33164319 0.80248975 0.00182766 0.37487625]]\n"
          ]
        }
      ],
      "source": [
        "import numpy as np\n",
        "tp1 = np.random.random((3,5))\n",
        "print(tp1)\n",
        "#create an array random between 0 and 1"
      ]
    },
    {
      "cell_type": "code",
      "execution_count": null,
      "metadata": {
        "colab": {
          "base_uri": "https://localhost:8080/"
        },
        "id": "C_wIPFqej3E9",
        "outputId": "7dfae9ee-18ca-48e7-a847-44f796fc6320"
      },
      "outputs": [
        {
          "name": "stdout",
          "output_type": "stream",
          "text": [
            "[0 1 2 3 4 5 6 7 8 9]\n"
          ]
        }
      ],
      "source": [
        "wo=np.arange(10)\n",
        "print(wo)"
      ]
    },
    {
      "cell_type": "code",
      "execution_count": null,
      "metadata": {
        "colab": {
          "base_uri": "https://localhost:8080/"
        },
        "id": "bwIlfKB0kblb",
        "outputId": "b95f6f38-a82f-46bc-c819-ff367c5e46fe"
      },
      "outputs": [
        {
          "name": "stdout",
          "output_type": "stream",
          "text": [
            "[1 0 2 5 4 3]\n"
          ]
        }
      ],
      "source": [
        "e= np.arange(6)\n",
        "a=np.random.permutation(e)\n",
        "print(a)"
      ]
    },
    {
      "cell_type": "code",
      "execution_count": null,
      "metadata": {
        "colab": {
          "base_uri": "https://localhost:8080/"
        },
        "id": "unLbYclbktWh",
        "outputId": "28f14e29-7244-4eed-d9d2-0b1c0a0ae8a5"
      },
      "outputs": [
        {
          "name": "stdout",
          "output_type": "stream",
          "text": [
            "Cpa C u\n"
          ]
        }
      ],
      "source": [
        "s = \"Cephas ICT Hub\"\n",
        "print(s[0::2])"
      ]
    },
    {
      "cell_type": "code",
      "execution_count": null,
      "metadata": {
        "colab": {
          "base_uri": "https://localhost:8080/"
        },
        "id": "3beZwZUtmuT_",
        "outputId": "16ed66f2-7bc5-4b14-fcf0-22dc853e3ddd"
      },
      "outputs": [
        {
          "name": "stdout",
          "output_type": "stream",
          "text": [
            "[[11 12 13 14]\n",
            " [21 22 23 24]\n",
            " [31 32 33 34]]\n"
          ]
        }
      ],
      "source": [
        "import numpy as np\n",
        "an_arrays = np.array([[11,12,13,14],[21,22,23,24],[31,32,33,34]])\n",
        "print(an_arrays)"
      ]
    },
    {
      "cell_type": "code",
      "execution_count": null,
      "metadata": {
        "colab": {
          "base_uri": "https://localhost:8080/"
        },
        "id": "OICoBDY4qout",
        "outputId": "a0ead69f-d685-41c3-b5aa-877c3d6505d6"
      },
      "outputs": [
        {
          "data": {
            "text/plain": [
              "array([[22, 24]])"
            ]
          },
          "execution_count": 43,
          "metadata": {},
          "output_type": "execute_result"
        }
      ],
      "source": [
        "an_arrays[1::2,1::2]"
      ]
    },
    {
      "cell_type": "code",
      "execution_count": null,
      "metadata": {
        "colab": {
          "base_uri": "https://localhost:8080/"
        },
        "id": "bDBg8f17q79H",
        "outputId": "b37289c7-8cf8-45b5-db05-48c6b3817bbf"
      },
      "outputs": [
        {
          "data": {
            "text/plain": [
              "array([32, 34])"
            ]
          },
          "execution_count": 98,
          "metadata": {},
          "output_type": "execute_result"
        }
      ],
      "source": [
        "an_arrays[2,1:5:2]"
      ]
    },
    {
      "cell_type": "code",
      "execution_count": null,
      "metadata": {
        "id": "pGOmGXvtrxz6"
      },
      "outputs": [],
      "source": [
        "an_arrays[1:2,1::2];[2,1:5:2]"
      ]
    },
    {
      "cell_type": "code",
      "execution_count": null,
      "metadata": {
        "id": "oNA3GXZJtTqB"
      },
      "outputs": [],
      "source": [
        "an_arrays[[1,1::2];[2,1:5:2]]\n",
        "\n",
        "\n",
        "\n",
        "\n",
        "\n",
        "\n"
      ]
    },
    {
      "cell_type": "code",
      "execution_count": null,
      "metadata": {
        "colab": {
          "base_uri": "https://localhost:8080/"
        },
        "id": "Sz-Hl1hCuBpg",
        "outputId": "14825108-24cc-4657-bdf4-6a4e9d1bb17c"
      },
      "outputs": [
        {
          "name": "stdout",
          "output_type": "stream",
          "text": [
            "[[10 10 10 10 10]\n",
            " [10 10 10 10 10]\n",
            " [10 10 10 10 10]\n",
            " [10 10 10 10 10]]\n"
          ]
        }
      ],
      "source": [
        "ex=np.full((4,5),10)\n",
        "print(ex)"
      ]
    },
    {
      "cell_type": "markdown",
      "metadata": {
        "id": "LPhNibpJvljx"
      },
      "source": [
        "BOOLEAN INDEXING\n"
      ]
    },
    {
      "cell_type": "code",
      "execution_count": null,
      "metadata": {
        "colab": {
          "base_uri": "https://localhost:8080/"
        },
        "id": "eLqvW8BwvjE5",
        "outputId": "3a762c60-4211-4206-b755-98288b768a84"
      },
      "outputs": [
        {
          "name": "stdout",
          "output_type": "stream",
          "text": [
            "[[ True False]\n",
            " [False  True]\n",
            " [False  True]]\n"
          ]
        }
      ],
      "source": [
        "an_array=np.array([[33,65],[41,33],[64,33],])\n",
        "filter=(an_array<40)\n",
        "print(filter)"
      ]
    },
    {
      "cell_type": "code",
      "execution_count": null,
      "metadata": {
        "colab": {
          "base_uri": "https://localhost:8080/"
        },
        "id": "AWAqkHx5wY5E",
        "outputId": "ab23860e-6519-4230-d075-6aae5cf9c3ea"
      },
      "outputs": [
        {
          "data": {
            "text/plain": [
              "array([[33, 65],\n",
              "       [41, 33],\n",
              "       [84, 33]])"
            ]
          },
          "execution_count": 69,
          "metadata": {},
          "output_type": "execute_result"
        }
      ],
      "source": [
        "an_array[an_array%4==0]+=20\n",
        "an_array"
      ]
    },
    {
      "cell_type": "code",
      "execution_count": null,
      "metadata": {
        "colab": {
          "base_uri": "https://localhost:8080/"
        },
        "id": "Cvx3Ugk5xNZV",
        "outputId": "01aec230-989d-4709-dc9e-4c43a100ceb5"
      },
      "outputs": [
        {
          "data": {
            "text/plain": [
              "array([[ 53,  65],\n",
              "       [ 41,  53],\n",
              "       [104,  53]])"
            ]
          },
          "execution_count": 71,
          "metadata": {},
          "output_type": "execute_result"
        }
      ],
      "source": [
        "an_array[an_array%3==0]+=3\n",
        "an_array"
      ]
    },
    {
      "cell_type": "code",
      "execution_count": null,
      "metadata": {
        "id": "WVgcsk4cxVmF"
      },
      "outputs": [],
      "source": [
        "#random.random is from 0 to 1\n",
        "#but random.rand generate it anyhow"
      ]
    },
    {
      "cell_type": "code",
      "execution_count": null,
      "metadata": {
        "colab": {
          "base_uri": "https://localhost:8080/"
        },
        "id": "WNkV9OTTyNBU",
        "outputId": "d5cfb102-102c-4c1c-d33d-8542ea0924a3"
      },
      "outputs": [
        {
          "name": "stdout",
          "output_type": "stream",
          "text": [
            "[[0.68358136 0.34600701 0.17309029 0.00690731 0.2467699  0.14177162\n",
            "  0.7102947 ]\n",
            " [0.17826618 0.38194488 0.89878203 0.19661199 0.56620785 0.89749221\n",
            "  0.10692893]\n",
            " [0.84786196 0.20735155 0.98201953 0.06249663 0.62293421 0.22863524\n",
            "  0.85832222]\n",
            " [0.72058647 0.02165108 0.85492747 0.75861671 0.06648478 0.60142054\n",
            "  0.93948021]\n",
            " [0.06743376 0.95267102 0.73902935 0.67852017 0.67191848 0.13994229\n",
            "  0.43701434]]\n"
          ]
        }
      ],
      "source": [
        "arr= np.random.rand(5,7)\n",
        "print(arr)"
      ]
    },
    {
      "cell_type": "code",
      "execution_count": null,
      "metadata": {
        "colab": {
          "base_uri": "https://localhost:8080/"
        },
        "id": "54oSBd-fybOm",
        "outputId": "a141c7cb-6f2e-4a45-d1a3-dab1183bb4c2"
      },
      "outputs": [
        {
          "name": "stdout",
          "output_type": "stream",
          "text": [
            "0.4855421216728712\n"
          ]
        }
      ],
      "source": [
        "#to find mean\n",
        "print(arr.mean())"
      ]
    },
    {
      "cell_type": "code",
      "execution_count": null,
      "metadata": {
        "id": "qY5k3uw6ypad"
      },
      "outputs": [],
      "source": [
        "print(arr.ave())"
      ]
    },
    {
      "cell_type": "code",
      "execution_count": null,
      "metadata": {
        "colab": {
          "base_uri": "https://localhost:8080/"
        },
        "id": "AHV9rwA9ytDD",
        "outputId": "540db413-99c3-4949-f358-3252f44ee1c2"
      },
      "outputs": [
        {
          "name": "stdout",
          "output_type": "stream",
          "text": [
            "[0.3297746  0.46089058 0.54423162 0.56616675 0.52664706]\n"
          ]
        }
      ],
      "source": [
        "#let find the mean by row\n",
        "print(arr.mean(axis=1))"
      ]
    },
    {
      "cell_type": "code",
      "execution_count": null,
      "metadata": {
        "colab": {
          "base_uri": "https://localhost:8080/"
        },
        "id": "uYM8g2DUzHon",
        "outputId": "d4d0d43c-1195-4180-c34d-a69302f4f6b6"
      },
      "outputs": [
        {
          "name": "stdout",
          "output_type": "stream",
          "text": [
            "[0.49954594 0.38192511 0.72956974 0.34063056 0.43486304 0.40185238\n",
            " 0.61040808]\n"
          ]
        }
      ],
      "source": [
        "#let find for coloumn\n",
        "print(arr.mean(axis=0))"
      ]
    },
    {
      "cell_type": "code",
      "execution_count": null,
      "metadata": {
        "colab": {
          "base_uri": "https://localhost:8080/"
        },
        "id": "W1LbOn1QzTEi",
        "outputId": "9035f98e-b4d3-4a6e-f6f7-1398c512c3e2"
      },
      "outputs": [
        {
          "name": "stdout",
          "output_type": "stream",
          "text": [
            "16.99397425855049\n"
          ]
        }
      ],
      "source": [
        "#let find the sum of all the element\n",
        "print(arr.sum())"
      ]
    },
    {
      "cell_type": "code",
      "execution_count": null,
      "metadata": {
        "colab": {
          "base_uri": "https://localhost:8080/"
        },
        "id": "OpnTE3jdzh12",
        "outputId": "b281960f-b73b-443d-a0c8-851ed57b40c6"
      },
      "outputs": [
        {
          "name": "stdout",
          "output_type": "stream",
          "text": [
            "[0.2467699  0.38194488 0.62293421 0.72058647 0.67191848]\n"
          ]
        }
      ],
      "source": [
        "#let find the median\n",
        "print(np.median(arr,axis=1))"
      ]
    },
    {
      "cell_type": "code",
      "execution_count": null,
      "metadata": {
        "colab": {
          "base_uri": "https://localhost:8080/"
        },
        "id": "A7Ky8F9azvvz",
        "outputId": "01369480-eb23-46d3-971a-a4e9a5a394fe"
      },
      "outputs": [
        {
          "name": "stdout",
          "output_type": "stream",
          "text": [
            "[2.30842219 3.22623407 3.80962133 3.96316726 3.68652941]\n"
          ]
        }
      ],
      "source": [
        "#sum of row\n",
        "print(arr.sum(axis=1))"
      ]
    },
    {
      "cell_type": "code",
      "execution_count": null,
      "metadata": {
        "colab": {
          "base_uri": "https://localhost:8080/"
        },
        "id": "R6dF-SHGz3vj",
        "outputId": "77c1646f-ca43-48d3-a592-2d02718a3d93"
      },
      "outputs": [
        {
          "name": "stdout",
          "output_type": "stream",
          "text": [
            "[2.49772972 1.90962554 3.64784868 1.70315281 2.17431521 2.00926189\n",
            " 3.0520404 ]\n"
          ]
        }
      ],
      "source": [
        "#sum of all coloumn\n",
        "print(arr.sum(axis=0))"
      ]
    },
    {
      "cell_type": "code",
      "execution_count": null,
      "metadata": {
        "id": "L14GZewl0IRf"
      },
      "outputs": [],
      "source": [
        "#SORT"
      ]
    },
    {
      "cell_type": "code",
      "execution_count": null,
      "metadata": {
        "colab": {
          "base_uri": "https://localhost:8080/"
        },
        "id": "VY-1tYzehX1p",
        "outputId": "2f6e0d1a-8501-45eb-f1cf-8e87386c61f4"
      },
      "outputs": [
        {
          "name": "stdout",
          "output_type": "stream",
          "text": [
            "[-0.5964281   0.76369413  0.43290858  1.49581308  0.37450841  0.39049321]\n"
          ]
        }
      ],
      "source": [
        "unsorted=np.random.randn(6)\n",
        "print(unsorted)"
      ]
    },
    {
      "cell_type": "code",
      "execution_count": null,
      "metadata": {
        "colab": {
          "base_uri": "https://localhost:8080/"
        },
        "id": "GW-f_zjLhrVY",
        "outputId": "e871f9a6-e807-4f13-902e-66760a5b41f2"
      },
      "outputs": [
        {
          "name": "stdout",
          "output_type": "stream",
          "text": [
            "[-0.5964281   0.37450841  0.39049321  0.43290858  0.76369413  1.49581308]\n"
          ]
        }
      ],
      "source": [
        "unsorted.sort()\n",
        "print(unsorted)"
      ]
    },
    {
      "cell_type": "code",
      "execution_count": null,
      "metadata": {
        "id": "RlndbBHQiA6G"
      },
      "outputs": [],
      "source": [
        "#Unique Element\n",
        "# unique element are element that appears exactly once in array"
      ]
    },
    {
      "cell_type": "code",
      "execution_count": null,
      "metadata": {
        "colab": {
          "base_uri": "https://localhost:8080/"
        },
        "id": "7SWyOiI8ide6",
        "outputId": "3f5953f5-e382-4d42-b6d6-50c412a2fbcb"
      },
      "outputs": [
        {
          "name": "stdout",
          "output_type": "stream",
          "text": [
            "[1 2 3 4 5 6]\n"
          ]
        }
      ],
      "source": [
        "arr= np.array([1,1,2,1,4,3,3,5,6,2,4])\n",
        "print(np.unique(arr))"
      ]
    },
    {
      "cell_type": "code",
      "execution_count": null,
      "metadata": {
        "colab": {
          "base_uri": "https://localhost:8080/"
        },
        "id": "dpBXwOfPi7jP",
        "outputId": "82dbad60-308a-4a54-b6e0-067692f2fd82"
      },
      "outputs": [
        {
          "name": "stdout",
          "output_type": "stream",
          "text": [
            "['Amala' 'Puff-Puff' 'Onion'] ['Pine' 'Guava' 'Orange']\n"
          ]
        }
      ],
      "source": [
        "#Set Operations\n",
        "set1= np.array([\"Amala\",\"Puff-Puff\",\"Onion\"])\n",
        "set2= np.array([\"Pine\",\"Guava\",\"Orange\"])\n",
        "print(set1,set2)"
      ]
    },
    {
      "cell_type": "code",
      "execution_count": null,
      "metadata": {
        "colab": {
          "base_uri": "https://localhost:8080/"
        },
        "id": "kcWoWsmjjtdw",
        "outputId": "0a46f30f-1489-4d96-c757-695cdf149382"
      },
      "outputs": [
        {
          "name": "stdout",
          "output_type": "stream",
          "text": [
            "[]\n"
          ]
        }
      ],
      "source": [
        "print(np.intersect1d(set1,set2))# intersect means what's common between them\n",
        "#it printed empty set because there is nothing common between them"
      ]
    },
    {
      "cell_type": "code",
      "execution_count": null,
      "metadata": {
        "colab": {
          "base_uri": "https://localhost:8080/"
        },
        "id": "vqx7w2XAkgJx",
        "outputId": "2747cb9d-8563-469a-c371-3d92bd3a8aac"
      },
      "outputs": [
        {
          "name": "stdout",
          "output_type": "stream",
          "text": [
            "['Amala' 'Guava' 'Onion' 'Orange' 'Pine' 'Puff-Puff']\n"
          ]
        }
      ],
      "source": [
        "print(np.union1d(set1,set2))"
      ]
    },
    {
      "cell_type": "code",
      "execution_count": null,
      "metadata": {
        "colab": {
          "base_uri": "https://localhost:8080/"
        },
        "id": "jF20ZcMgk7mZ",
        "outputId": "88e8a0dd-21e5-442b-b4bf-d6885f81d347"
      },
      "outputs": [
        {
          "name": "stdout",
          "output_type": "stream",
          "text": [
            "['Amala' 'Onion' 'Puff-Puff']\n"
          ]
        }
      ],
      "source": [
        "print(np.setdiff1d(set1,set2))# what's in set1 and not in set2"
      ]
    },
    {
      "cell_type": "code",
      "execution_count": null,
      "metadata": {
        "colab": {
          "base_uri": "https://localhost:8080/"
        },
        "id": "z7rdGytslQrq",
        "outputId": "664d0fe7-b5e2-496a-ec7c-2ee673588d56"
      },
      "outputs": [
        {
          "name": "stdout",
          "output_type": "stream",
          "text": [
            "[False False False]\n"
          ]
        }
      ],
      "source": [
        "#in\n",
        "print(np.in1d(set1,set2))#element thats in set1 thats also in set2"
      ]
    },
    {
      "cell_type": "code",
      "execution_count": null,
      "metadata": {
        "colab": {
          "base_uri": "https://localhost:8080/"
        },
        "id": "Y89KyArwlk_P",
        "outputId": "d821cc42-22ee-4509-b548-7ebd9a75775f"
      },
      "outputs": [
        {
          "name": "stdout",
          "output_type": "stream",
          "text": [
            "['Guava' 'Orange' 'Pine']\n"
          ]
        }
      ],
      "source": [
        "print(np.setdiff1d(set2,set1))#whats in set2 and not in set1"
      ]
    },
    {
      "cell_type": "code",
      "execution_count": null,
      "metadata": {
        "colab": {
          "base_uri": "https://localhost:8080/"
        },
        "id": "rQkXFAaKl8GC",
        "outputId": "50a7e378-b54b-4b06-b516-e440686da184"
      },
      "outputs": [
        {
          "data": {
            "text/plain": [
              "array([[1, 5],\n",
              "       [2, 6],\n",
              "       [3, 7],\n",
              "       [4, 8]])"
            ]
          },
          "execution_count": 6,
          "metadata": {},
          "output_type": "execute_result"
        }
      ],
      "source": [
        "#Transpose of matrix\n",
        "import numpy as np\n",
        "arr=np.array([[1,2,3,4],[5,6,7,8]])\n",
        "bab=arr.T #you can use another variable, thats why i used Bab\n",
        "bab\n"
      ]
    },
    {
      "cell_type": "code",
      "execution_count": null,
      "metadata": {
        "id": "vkuyaAkim4Kj"
      },
      "outputs": [],
      "source": [
        "#Indexing using where\n",
        "x_1=np.array([1,2,3,4])\n",
        "y_2=np.array([10,11,12,13,14,15])\n",
        "filter=np.array([True,False,True,False,True,True])"
      ]
    },
    {
      "cell_type": "code",
      "execution_count": null,
      "metadata": {
        "colab": {
          "base_uri": "https://localhost:8080/"
        },
        "id": "yzvvRa44omrt",
        "outputId": "9f3ee986-ba5d-46f5-f55f-9de25c36fc51"
      },
      "outputs": [
        {
          "data": {
            "text/plain": [
              "array([[0.2638324 , 0.90421675, 0.18333078, 0.03907126, 0.57487984],\n",
              "       [0.85045638, 0.54485228, 0.61537449, 0.33463491, 0.27244276],\n",
              "       [0.3225906 , 0.90562443, 0.11415373, 0.7312909 , 0.32335097],\n",
              "       [0.20812703, 0.30784226, 0.67539609, 0.35316052, 0.03522649],\n",
              "       [0.10480762, 0.16700799, 0.20586848, 0.88530196, 0.32351018]])"
            ]
          },
          "execution_count": 26,
          "metadata": {},
          "output_type": "execute_result"
        }
      ],
      "source": [
        "mat = np.random.rand(5,5)\n",
        "mat"
      ]
    },
    {
      "cell_type": "code",
      "execution_count": null,
      "metadata": {
        "colab": {
          "base_uri": "https://localhost:8080/"
        },
        "id": "r_vfHRCyoxTA",
        "outputId": "866e27bc-48ab-4217-800a-0f94994e4add"
      },
      "outputs": [
        {
          "data": {
            "text/plain": [
              "array([[  -1, 1000,   -1,   -1, 1000],\n",
              "       [1000, 1000, 1000,   -1,   -1],\n",
              "       [  -1, 1000,   -1, 1000,   -1],\n",
              "       [  -1,   -1, 1000,   -1,   -1],\n",
              "       [  -1,   -1,   -1, 1000,   -1]])"
            ]
          },
          "execution_count": 27,
          "metadata": {},
          "output_type": "execute_result"
        }
      ],
      "source": [
        "np.where(mat>0.5,1000,-1)#(0.5)any element greater than 0.5,change it to 1000,else change it to -1"
      ]
    },
    {
      "cell_type": "code",
      "execution_count": null,
      "metadata": {
        "colab": {
          "base_uri": "https://localhost:8080/"
        },
        "id": "l_9GoTnZpGvk",
        "outputId": "72bee6c7-4135-4768-c609-fa9498b46df4"
      },
      "outputs": [
        {
          "name": "stdout",
          "output_type": "stream",
          "text": [
            "[[4 4]\n",
            " [4 4]]\n",
            "\n",
            "[[4 4]\n",
            " [4 4]]\n"
          ]
        }
      ],
      "source": [
        "#Dot product on matrices and Inner Product on Vectors\n",
        "x2d= np.array([[1,1],[1,1]])\n",
        "y2d= np.array([[2,2],[2,2]])\n",
        "\n",
        "print(x2d.dot(y2d))\n",
        "print()\n",
        "print(np.dot(x2d, y2d))"
      ]
    },
    {
      "cell_type": "code",
      "execution_count": null,
      "metadata": {
        "colab": {
          "base_uri": "https://localhost:8080/"
        },
        "id": "YmOjFWoiFOAV",
        "outputId": "1d68e72a-4e5b-4bd7-94a2-770bfc262851"
      },
      "outputs": [
        {
          "data": {
            "text/plain": [
              "array([[2, 2],\n",
              "       [2, 2]])"
            ]
          },
          "execution_count": 9,
          "metadata": {},
          "output_type": "execute_result"
        }
      ],
      "source": [
        "x2d*y2d"
      ]
    },
    {
      "cell_type": "code",
      "execution_count": null,
      "metadata": {
        "colab": {
          "base_uri": "https://localhost:8080/"
        },
        "id": "dX9qyvpoGJO_",
        "outputId": "1a646eff-845c-479a-d45a-39f8e38c3354"
      },
      "outputs": [
        {
          "data": {
            "text/plain": [
              "array([[2, 2],\n",
              "       [2, 2]])"
            ]
          },
          "execution_count": 14,
          "metadata": {},
          "output_type": "execute_result"
        }
      ],
      "source": [
        "x2d\n",
        "\n",
        "y2d"
      ]
    },
    {
      "cell_type": "code",
      "execution_count": null,
      "metadata": {
        "colab": {
          "base_uri": "https://localhost:8080/"
        },
        "id": "v_LVCcfjGoFC",
        "outputId": "0cdb3007-65b5-488b-99d6-6c2e8c5c1829"
      },
      "outputs": [
        {
          "name": "stdout",
          "output_type": "stream",
          "text": [
            "65\n",
            "\n",
            "65\n"
          ]
        }
      ],
      "source": [
        "#determine the inner product of two vectors\n",
        "v1d=np.array([5,5])\n",
        "f1d=np.array([6,7])\n",
        "\n",
        "print(v1d.dot(f1d))\n",
        "print()\n",
        "print(np.dot(v1d,f1d))"
      ]
    },
    {
      "cell_type": "code",
      "execution_count": null,
      "metadata": {
        "colab": {
          "base_uri": "https://localhost:8080/"
        },
        "id": "eLuezxm_Higq",
        "outputId": "da7b5931-25aa-493d-b9cc-0aaef60a70e6"
      },
      "outputs": [
        {
          "name": "stdout",
          "output_type": "stream",
          "text": [
            "65\n",
            "\n",
            "65\n"
          ]
        }
      ],
      "source": [
        "v1d=np.array([5,5])\n",
        "f1d=np.array([6,7])\n",
        "\n",
        "print(f1d.dot(v1d))\n",
        "print()# for space\n",
        "print(np.dot(v1d,f1d))"
      ]
    },
    {
      "cell_type": "code",
      "execution_count": null,
      "metadata": {
        "colab": {
          "base_uri": "https://localhost:8080/"
        },
        "id": "VVNd-kV6HwUE",
        "outputId": "bfe6bd50-3121-4296-ca3e-c52c62d118d7"
      },
      "outputs": [
        {
          "name": "stdout",
          "output_type": "stream",
          "text": [
            "[10 10]\n",
            "\n",
            "[10 10]\n"
          ]
        }
      ],
      "source": [
        "#dot produce on an array and vector\n",
        "print(x2d.dot(v1d))\n",
        "print()\n",
        "print(np.dot(x2d,v1d))"
      ]
    },
    {
      "cell_type": "markdown",
      "metadata": {
        "id": "0EROGBjwIZm0"
      },
      "source": []
    },
    {
      "cell_type": "code",
      "execution_count": null,
      "metadata": {
        "id": "WsOJ1G0HINMO"
      },
      "outputs": [],
      "source": []
    },
    {
      "cell_type": "markdown",
      "metadata": {
        "id": "KBxmcKatIeAV"
      },
      "source": [
        "SUM\n",
        "\n",
        "---\n",
        "\n",
        "\n",
        "\n",
        "---\n",
        "\n"
      ]
    },
    {
      "cell_type": "markdown",
      "metadata": {
        "id": "4nsQRZlmIQze"
      },
      "source": []
    },
    {
      "cell_type": "code",
      "execution_count": null,
      "metadata": {
        "colab": {
          "base_uri": "https://localhost:8080/"
        },
        "id": "Kl_yZAc7Iwtk",
        "outputId": "0d92bce9-d771-4389-df4c-89cd69dcf440"
      },
      "outputs": [
        {
          "name": "stdout",
          "output_type": "stream",
          "text": [
            "[67]\n"
          ]
        }
      ],
      "source": [
        "#sum elements in array\n",
        "ex1=np.array([[11,12],[21,23]])\n",
        "\n",
        "print([np.sum(ex1)])"
      ]
    },
    {
      "cell_type": "code",
      "execution_count": null,
      "metadata": {
        "colab": {
          "base_uri": "https://localhost:8080/"
        },
        "id": "f-u3Q2LjJKhk",
        "outputId": "1b68139c-4c1a-4363-9676-fccdf9be6b84"
      },
      "outputs": [
        {
          "name": "stdout",
          "output_type": "stream",
          "text": [
            "[32 35]\n",
            "\n",
            "[23 44]\n"
          ]
        }
      ],
      "source": [
        "print(ex1.sum(axis=0))#coloumn sum\n",
        "print()\n",
        "print(ex1.sum(axis=1))#row sum"
      ]
    },
    {
      "cell_type": "code",
      "execution_count": null,
      "metadata": {
        "colab": {
          "base_uri": "https://localhost:8080/"
        },
        "id": "6T4zRiUzJbHC",
        "outputId": "be73c973-abed-4108-ac24-16f238167fe8"
      },
      "outputs": [
        {
          "name": "stdout",
          "output_type": "stream",
          "text": [
            "\n"
          ]
        },
        {
          "data": {
            "text/plain": [
              "array([0.46781431, 0.19453865, 0.1743213 , 0.97609191, 0.40600727,\n",
              "       0.8126249 , 0.33349435, 0.13552051, 0.28601138])"
            ]
          },
          "execution_count": 29,
          "metadata": {},
          "output_type": "execute_result"
        }
      ],
      "source": [
        "#random array\n",
        "x=np.random.randn(9)\n",
        "x\n",
        "print()\n",
        "y=np.random.rand(9)\n",
        "y"
      ]
    },
    {
      "cell_type": "code",
      "execution_count": null,
      "metadata": {
        "colab": {
          "base_uri": "https://localhost:8080/"
        },
        "id": "QR0vdNyZKEEu",
        "outputId": "65ae03b8-8017-45b9-cca5-ea69ff8514f8"
      },
      "outputs": [
        {
          "data": {
            "text/plain": [
              "array([0.46781431, 0.19453865, 0.1743213 , 0.97609191, 0.58734617,\n",
              "       0.8126249 , 0.33349435, 0.13552051, 0.55445174])"
            ]
          },
          "execution_count": 30,
          "metadata": {},
          "output_type": "execute_result"
        }
      ],
      "source": [
        "np.maximum(x,y)"
      ]
    },
    {
      "cell_type": "markdown",
      "metadata": {
        "id": "ktYhIgsCKhDF"
      },
      "source": []
    },
    {
      "cell_type": "markdown",
      "metadata": {
        "id": "ugU561CgKIXb"
      },
      "source": [
        "RE-SHAPING ARRAY"
      ]
    },
    {
      "cell_type": "code",
      "execution_count": null,
      "metadata": {
        "colab": {
          "base_uri": "https://localhost:8080/"
        },
        "id": "0qBSy5sXKpxG",
        "outputId": "30e48cac-c83e-4a44-fca5-96c334282c0a"
      },
      "outputs": [
        {
          "name": "stdout",
          "output_type": "stream",
          "text": [
            "[ 0  1  2  3  4  5  6  7  8  9 10 11 12 13 14 15 16 17 18 19]\n"
          ]
        }
      ],
      "source": [
        "#grab a value from 0 to 19 in an array\n",
        "arr = np.arange(20)\n",
        "print(arr)"
      ]
    },
    {
      "cell_type": "code",
      "execution_count": null,
      "metadata": {
        "colab": {
          "base_uri": "https://localhost:8080/"
        },
        "id": "2ZkFcweAwRrc",
        "outputId": "8ef265ec-b2e3-45e7-948b-0bee7c8da69d"
      },
      "outputs": [
        {
          "data": {
            "text/plain": [
              "array([[ 0,  1,  2,  3,  4],\n",
              "       [ 5,  6,  7,  8,  9],\n",
              "       [10, 11, 12, 13, 14],\n",
              "       [15, 16, 17, 18, 19]])"
            ]
          },
          "execution_count": 9,
          "metadata": {},
          "output_type": "execute_result"
        }
      ],
      "source": [
        "#reshape to be a 4x5 matrix\n",
        "arr.reshape(4,5)"
      ]
    },
    {
      "cell_type": "code",
      "execution_count": null,
      "metadata": {
        "colab": {
          "base_uri": "https://localhost:8080/"
        },
        "id": "nrX5YLFKwdkY",
        "outputId": "23dd4f8b-6af2-4db9-f3ef-d118f3dc5966"
      },
      "outputs": [
        {
          "data": {
            "text/plain": [
              "array([[11, 21],\n",
              "       [12, 22]])"
            ]
          },
          "execution_count": 10,
          "metadata": {},
          "output_type": "execute_result"
        }
      ],
      "source": [
        "#transpose\n",
        "ex1=np.array([[11,12],[21,22]])\n",
        "\n",
        "ex1.T"
      ]
    },
    {
      "cell_type": "code",
      "execution_count": null,
      "metadata": {
        "id": "dgYAX_Vww27z"
      },
      "outputs": [],
      "source": [
        "#Indexing using where()\n",
        "\n",
        "x_1 = np.array([1,2,3,4,5,6])\n",
        "\n",
        "y_1 = np.array([11,22,33,44,55,66])\n",
        "\n",
        "filter=np.array([True,False,True,False,True,False])"
      ]
    },
    {
      "cell_type": "code",
      "execution_count": null,
      "metadata": {
        "colab": {
          "base_uri": "https://localhost:8080/"
        },
        "id": "hkYfNxwKyBce",
        "outputId": "a132594e-773c-4940-bf58-d134c71b8c9b"
      },
      "outputs": [
        {
          "name": "stdout",
          "output_type": "stream",
          "text": [
            "[ 1 22  3 44  5 66]\n"
          ]
        }
      ],
      "source": [
        "out= np.where(filter,x_1,y_1)\n",
        "print(out)"
      ]
    },
    {
      "cell_type": "code",
      "execution_count": null,
      "metadata": {
        "colab": {
          "base_uri": "https://localhost:8080/"
        },
        "id": "YfGY1pH0yb4g",
        "outputId": "4ce799bc-7887-4451-a6ff-326c48bfebe3"
      },
      "outputs": [
        {
          "data": {
            "text/plain": [
              "array([[0.01446867, 0.75134183, 0.53918401, 0.93523666, 0.91670617,\n",
              "        0.17377303],\n",
              "       [0.73466244, 0.09210237, 0.72449374, 0.5034382 , 0.46159759,\n",
              "        0.4774967 ],\n",
              "       [0.56111923, 0.74573745, 0.52316056, 0.26899828, 0.95371645,\n",
              "        0.33841344],\n",
              "       [0.89581969, 0.98463452, 0.93217095, 0.06155797, 0.37237583,\n",
              "        0.95360315],\n",
              "       [0.0475463 , 0.90766187, 0.12580118, 0.56274067, 0.2510447 ,\n",
              "        0.07762393]])"
            ]
          },
          "execution_count": 17,
          "metadata": {},
          "output_type": "execute_result"
        }
      ],
      "source": [
        "mat= np.random.rand(5,6)\n",
        "mat"
      ]
    },
    {
      "cell_type": "code",
      "execution_count": null,
      "metadata": {
        "colab": {
          "base_uri": "https://localhost:8080/"
        },
        "id": "2SMZXpK_yqkT",
        "outputId": "02d4a983-eb6f-4e70-8beb-189436645fbc"
      },
      "outputs": [
        {
          "data": {
            "text/plain": [
              "array([[  -1, 1000, 1000, 1000, 1000,   -1],\n",
              "       [1000,   -1, 1000, 1000,   -1,   -1],\n",
              "       [1000, 1000, 1000,   -1, 1000,   -1],\n",
              "       [1000, 1000, 1000,   -1,   -1, 1000],\n",
              "       [  -1, 1000,   -1, 1000,   -1,   -1]])"
            ]
          },
          "execution_count": 19,
          "metadata": {},
          "output_type": "execute_result"
        }
      ],
      "source": [
        "np.where(mat>0.5,1000,-1)"
      ]
    },
    {
      "cell_type": "code",
      "execution_count": null,
      "metadata": {
        "id": "jk6SqSOjy9lb"
      },
      "outputs": [],
      "source": [
        "arr_bools=np.array([True,False,True,True,False])\n"
      ]
    },
    {
      "cell_type": "code",
      "execution_count": null,
      "metadata": {
        "colab": {
          "base_uri": "https://localhost:8080/"
        },
        "id": "akGTnm870ATn",
        "outputId": "f0adc719-1fdc-4881-9219-9622556d3540"
      },
      "outputs": [
        {
          "data": {
            "text/plain": [
              "True"
            ]
          },
          "execution_count": 22,
          "metadata": {},
          "output_type": "execute_result"
        }
      ],
      "source": [
        "arr_bools.any()"
      ]
    },
    {
      "cell_type": "code",
      "execution_count": null,
      "metadata": {
        "id": "OlfO5x2N0EKq"
      },
      "outputs": [],
      "source": [
        "arr_bools.all()"
      ]
    },
    {
      "cell_type": "code",
      "execution_count": null,
      "metadata": {
        "colab": {
          "base_uri": "https://localhost:8080/"
        },
        "id": "_GkiEyVx0OpE",
        "outputId": "2b942928-a6f0-46bd-b141-bde3f4f9d573"
      },
      "outputs": [
        {
          "name": "stdout",
          "output_type": "stream",
          "text": [
            "Enter a condition (malaria, cough, catarrh): 1\n"
          ]
        }
      ],
      "source": [
        "def get_drug_description(condition):\n",
        "    if condition == \"malaria\":\n",
        "        return \"Drug X is an antimalarial medication commonly used for treating malaria. It works by killing the malaria parasites in the body and preventing further infection.\"\n",
        "    elif condition == \"cough\":\n",
        "        return \"Drug Y is a cough suppressant that helps relieve cough symptoms. It works by reducing the urge to cough and soothing the throat.\"\n",
        "    elif condition == \"catarrh\":\n",
        "        return \"Drug Z is an over-the-counter medication used for relieving symptoms of catarrh, such as nasal congestion and runny nose. It helps reduce inflammation and congestion in the nasal passages.\"\n",
        "    else:\n",
        "        return \"Sorry, we don't have a drug description for that condition.\"\n",
        "\n",
        "# Example usage:\n",
        "condition = input(\"Enter a condition (malaria, cough, catarrh): \")\n",
        "description = get_drug_description(condition.lower())\n",
        "print(description)\n"
      ]
    },
    {
      "cell_type": "code",
      "execution_count": null,
      "metadata": {
        "colab": {
          "background_save": true,
          "base_uri": "https://localhost:8080/"
        },
        "id": "8gYdyIaw37bP",
        "outputId": "ed159990-9314-4a5f-f8af-d491adce486a"
      },
      "outputs": [
        {
          "name": "stdout",
          "output_type": "stream",
          "text": [
            "Welcome\n",
            " to  DESMOND's CALCULATOR\n",
            "1,Quadratic Equation\n",
            "2.Simultaneous EquationSOLVE QUADRATIC\n"
          ]
        }
      ],
      "source": [
        "import sys\n",
        "import time\n",
        "\n",
        "def homepage():\n",
        "  for i in \"\"\"Welcome\\n to  DESMOND's CALCULATOR\\n1,Quadratic Equation\\n2.Simultaneous Equation\"\"\":\n",
        "    print(i,end=\"\")\n",
        "    time.sleep(0.1)\n",
        "  res=input(\"Enter here:\")\n",
        "  if res==\"1\":\n",
        "    quadratic()\n",
        "  elif res==\"2\":\n",
        "    simultaneous()\n",
        "  else :\n",
        "    print(\"invalid response\")\n",
        "    homepage()\n",
        "\n",
        "\n",
        "def quadratic():\n",
        "  print(\"SOLVE QUADRATIC\")\n",
        "  a=float(input(\"Enter value for A\"))\n",
        "  b=float(input(\"Enter value for B\"))\n",
        "  c=float(input(\"Enter Value for C\"))\n",
        "  d=(b**2)-(4*a*c)\n",
        "  x1=(-b+d**0.5)/(2*a)\n",
        "  x2=(-b-d**0.5)/(2*a)\n",
        "  print('x1:',x1)\n",
        "  print('x2:',x2)\n",
        "\n",
        "\n",
        "def simultaneous():\n",
        "  print(\"SOLVE SIMULTANEOUS\")\n",
        "  a1=float(input(\"Enter value for A1 : \"))\n",
        "  b1=float(input(\"Enter value for B1 : \"))\n",
        "  c1=float(input(\"Enter value for C1 : \"))\n",
        "  a2=float(input(\"Enter value for A2 : \"))\n",
        "  b2=float(input(\"Enter value for B2 : \"))\n",
        "  c2=float(input(\"Enter value for C2 : \"))\n",
        "  numx = b2*c1 - b1*c2\n",
        "  denx = a1*b2 - a2*b2\n",
        "  numy = a2*c1 - a1*c2\n",
        "  deny = a2*b1* - a1*b2\n",
        "  while denx ==0 or deny ==0:\n",
        "    print(\"error\")\n",
        "    print(\"Tryagain\")\n",
        "    simultaneous()\n",
        "  x = numx/denx\n",
        "  y = numy/deny\n",
        "  print(\"x1 :\", x)\n",
        "  print(\"y1 :\",y)\n",
        "homepage()"
      ]
    },
    {
      "cell_type": "code",
      "execution_count": null,
      "metadata": {
        "id": "5qeUhatu39O9"
      },
      "outputs": [],
      "source": [
        "def drug_des(state):\n",
        "  for i in \"\"\"Welcome to Desmond's Store\\n1,Malaria\\n2,Cough\\n3.Catarrh\"\"\":\n",
        "    print(i,end=\"\")\n",
        "  res=input(\"enter here: \")\n",
        "  if res ==\"1\":\n",
        "    malaria()\n",
        "\n",
        "  elif res==\"2\":\n",
        "    cough()\n",
        "\n",
        "  elif res==\"3\":\n",
        "    catarrh()\n",
        "\n",
        "  else:\n",
        "      print(\"invalid syntax\")\n",
        "      drug_des()\n",
        "\n",
        "\n",
        "    def malaria():\n",
        "      res=input(\"How many days have you been having this Malaria: \")\n",
        "      if res==\"<5 days\":\n",
        "        print(\"You need to buy malaria drugs\")\n",
        "      else:\n",
        "        print(\"Re-read\")\n",
        "        malaria()\n",
        "\n",
        "\n",
        "drug_des"
      ]
    },
    {
      "cell_type": "code",
      "execution_count": null,
      "metadata": {
        "id": "H83QJyn36Hl0"
      },
      "outputs": [],
      "source": [
        "#how to access your column in dataset\n",
        "#variable.column\n",
        "#to know the number of column and row\n",
        "#variables.shape\n",
        "#iloc means index location\n",
        "#loc means normal location"
      ]
    },
    {
      "cell_type": "code",
      "execution_count": null,
      "metadata": {
        "id": "E3LwdMILuyZ4"
      },
      "outputs": [],
      "source": [
        "from google.colab import drive"
      ]
    },
    {
      "cell_type": "code",
      "execution_count": null,
      "metadata": {
        "colab": {
          "base_uri": "https://localhost:8080/"
        },
        "id": "GHMHVzyYvCFG",
        "outputId": "25d425f5-7f68-44a3-ab90-dafac1f2d523"
      },
      "outputs": [
        {
          "name": "stdout",
          "output_type": "stream",
          "text": [
            "Mounted at /content/drive\n"
          ]
        }
      ],
      "source": [
        "drive.mount('/content/drive') #then change the slash to backward to stop the code"
      ]
    },
    {
      "cell_type": "code",
      "execution_count": null,
      "metadata": {
        "id": "1Fw8B25fvh5A"
      },
      "outputs": [],
      "source": [
        "import pandas as pd"
      ]
    },
    {
      "cell_type": "code",
      "execution_count": null,
      "metadata": {
        "id": "CPhmbFTpxEKg"
      },
      "outputs": [],
      "source": [
        "data= pd.read_csv('/content/drive/MyDrive/Dataset/weatherAUS.csv')"
      ]
    },
    {
      "cell_type": "code",
      "execution_count": null,
      "metadata": {
        "colab": {
          "background_save": true
        },
        "id": "BjF6RbrVzA4c",
        "outputId": "73ffb319-a798-46f6-d013-250aa1abe46c"
      },
      "outputs": [
        {
          "data": {
            "text/html": [
              "\n",
              "  <div id=\"df-842e80eb-0b0d-4c0d-89a6-64b493765443\">\n",
              "    <div class=\"colab-df-container\">\n",
              "      <div>\n",
              "<style scoped>\n",
              "    .dataframe tbody tr th:only-of-type {\n",
              "        vertical-align: middle;\n",
              "    }\n",
              "\n",
              "    .dataframe tbody tr th {\n",
              "        vertical-align: top;\n",
              "    }\n",
              "\n",
              "    .dataframe thead th {\n",
              "        text-align: right;\n",
              "    }\n",
              "</style>\n",
              "<table border=\"1\" class=\"dataframe\">\n",
              "  <thead>\n",
              "    <tr style=\"text-align: right;\">\n",
              "      <th></th>\n",
              "      <th>Date</th>\n",
              "      <th>Location</th>\n",
              "      <th>MinTemp</th>\n",
              "      <th>MaxTemp</th>\n",
              "      <th>Rainfall</th>\n",
              "      <th>Evaporation</th>\n",
              "      <th>Sunshine</th>\n",
              "      <th>WindGustDir</th>\n",
              "      <th>WindGustSpeed</th>\n",
              "      <th>WindDir9am</th>\n",
              "      <th>...</th>\n",
              "      <th>Humidity9am</th>\n",
              "      <th>Humidity3pm</th>\n",
              "      <th>Pressure9am</th>\n",
              "      <th>Pressure3pm</th>\n",
              "      <th>Cloud9am</th>\n",
              "      <th>Cloud3pm</th>\n",
              "      <th>Temp9am</th>\n",
              "      <th>Temp3pm</th>\n",
              "      <th>RainToday</th>\n",
              "      <th>RainTomorrow</th>\n",
              "    </tr>\n",
              "  </thead>\n",
              "  <tbody>\n",
              "    <tr>\n",
              "      <th>0</th>\n",
              "      <td>2008-12-01</td>\n",
              "      <td>Albury</td>\n",
              "      <td>13.4</td>\n",
              "      <td>22.9</td>\n",
              "      <td>0.6</td>\n",
              "      <td>NaN</td>\n",
              "      <td>NaN</td>\n",
              "      <td>W</td>\n",
              "      <td>44.0</td>\n",
              "      <td>W</td>\n",
              "      <td>...</td>\n",
              "      <td>71.0</td>\n",
              "      <td>22.0</td>\n",
              "      <td>1007.7</td>\n",
              "      <td>1007.1</td>\n",
              "      <td>8.0</td>\n",
              "      <td>NaN</td>\n",
              "      <td>16.9</td>\n",
              "      <td>21.8</td>\n",
              "      <td>No</td>\n",
              "      <td>No</td>\n",
              "    </tr>\n",
              "    <tr>\n",
              "      <th>1</th>\n",
              "      <td>2008-12-02</td>\n",
              "      <td>Albury</td>\n",
              "      <td>7.4</td>\n",
              "      <td>25.1</td>\n",
              "      <td>0.0</td>\n",
              "      <td>NaN</td>\n",
              "      <td>NaN</td>\n",
              "      <td>WNW</td>\n",
              "      <td>44.0</td>\n",
              "      <td>NNW</td>\n",
              "      <td>...</td>\n",
              "      <td>44.0</td>\n",
              "      <td>25.0</td>\n",
              "      <td>1010.6</td>\n",
              "      <td>1007.8</td>\n",
              "      <td>NaN</td>\n",
              "      <td>NaN</td>\n",
              "      <td>17.2</td>\n",
              "      <td>24.3</td>\n",
              "      <td>No</td>\n",
              "      <td>No</td>\n",
              "    </tr>\n",
              "    <tr>\n",
              "      <th>2</th>\n",
              "      <td>2008-12-03</td>\n",
              "      <td>Albury</td>\n",
              "      <td>12.9</td>\n",
              "      <td>25.7</td>\n",
              "      <td>0.0</td>\n",
              "      <td>NaN</td>\n",
              "      <td>NaN</td>\n",
              "      <td>WSW</td>\n",
              "      <td>46.0</td>\n",
              "      <td>W</td>\n",
              "      <td>...</td>\n",
              "      <td>38.0</td>\n",
              "      <td>30.0</td>\n",
              "      <td>1007.6</td>\n",
              "      <td>1008.7</td>\n",
              "      <td>NaN</td>\n",
              "      <td>2.0</td>\n",
              "      <td>21.0</td>\n",
              "      <td>23.2</td>\n",
              "      <td>No</td>\n",
              "      <td>No</td>\n",
              "    </tr>\n",
              "    <tr>\n",
              "      <th>3</th>\n",
              "      <td>2008-12-04</td>\n",
              "      <td>Albury</td>\n",
              "      <td>9.2</td>\n",
              "      <td>28.0</td>\n",
              "      <td>0.0</td>\n",
              "      <td>NaN</td>\n",
              "      <td>NaN</td>\n",
              "      <td>NE</td>\n",
              "      <td>24.0</td>\n",
              "      <td>SE</td>\n",
              "      <td>...</td>\n",
              "      <td>45.0</td>\n",
              "      <td>16.0</td>\n",
              "      <td>1017.6</td>\n",
              "      <td>1012.8</td>\n",
              "      <td>NaN</td>\n",
              "      <td>NaN</td>\n",
              "      <td>18.1</td>\n",
              "      <td>26.5</td>\n",
              "      <td>No</td>\n",
              "      <td>No</td>\n",
              "    </tr>\n",
              "    <tr>\n",
              "      <th>4</th>\n",
              "      <td>2008-12-05</td>\n",
              "      <td>Albury</td>\n",
              "      <td>17.5</td>\n",
              "      <td>32.3</td>\n",
              "      <td>1.0</td>\n",
              "      <td>NaN</td>\n",
              "      <td>NaN</td>\n",
              "      <td>W</td>\n",
              "      <td>41.0</td>\n",
              "      <td>ENE</td>\n",
              "      <td>...</td>\n",
              "      <td>82.0</td>\n",
              "      <td>33.0</td>\n",
              "      <td>1010.8</td>\n",
              "      <td>1006.0</td>\n",
              "      <td>7.0</td>\n",
              "      <td>8.0</td>\n",
              "      <td>17.8</td>\n",
              "      <td>29.7</td>\n",
              "      <td>No</td>\n",
              "      <td>No</td>\n",
              "    </tr>\n",
              "  </tbody>\n",
              "</table>\n",
              "<p>5 rows × 23 columns</p>\n",
              "</div>\n",
              "      <button class=\"colab-df-convert\" onclick=\"convertToInteractive('df-842e80eb-0b0d-4c0d-89a6-64b493765443')\"\n",
              "              title=\"Convert this dataframe to an interactive table.\"\n",
              "              style=\"display:none;\">\n",
              "        \n",
              "  <svg xmlns=\"http://www.w3.org/2000/svg\" height=\"24px\"viewBox=\"0 0 24 24\"\n",
              "       width=\"24px\">\n",
              "    <path d=\"M0 0h24v24H0V0z\" fill=\"none\"/>\n",
              "    <path d=\"M18.56 5.44l.94 2.06.94-2.06 2.06-.94-2.06-.94-.94-2.06-.94 2.06-2.06.94zm-11 1L8.5 8.5l.94-2.06 2.06-.94-2.06-.94L8.5 2.5l-.94 2.06-2.06.94zm10 10l.94 2.06.94-2.06 2.06-.94-2.06-.94-.94-2.06-.94 2.06-2.06.94z\"/><path d=\"M17.41 7.96l-1.37-1.37c-.4-.4-.92-.59-1.43-.59-.52 0-1.04.2-1.43.59L10.3 9.45l-7.72 7.72c-.78.78-.78 2.05 0 2.83L4 21.41c.39.39.9.59 1.41.59.51 0 1.02-.2 1.41-.59l7.78-7.78 2.81-2.81c.8-.78.8-2.07 0-2.86zM5.41 20L4 18.59l7.72-7.72 1.47 1.35L5.41 20z\"/>\n",
              "  </svg>\n",
              "      </button>\n",
              "      \n",
              "  <style>\n",
              "    .colab-df-container {\n",
              "      display:flex;\n",
              "      flex-wrap:wrap;\n",
              "      gap: 12px;\n",
              "    }\n",
              "\n",
              "    .colab-df-convert {\n",
              "      background-color: #E8F0FE;\n",
              "      border: none;\n",
              "      border-radius: 50%;\n",
              "      cursor: pointer;\n",
              "      display: none;\n",
              "      fill: #1967D2;\n",
              "      height: 32px;\n",
              "      padding: 0 0 0 0;\n",
              "      width: 32px;\n",
              "    }\n",
              "\n",
              "    .colab-df-convert:hover {\n",
              "      background-color: #E2EBFA;\n",
              "      box-shadow: 0px 1px 2px rgba(60, 64, 67, 0.3), 0px 1px 3px 1px rgba(60, 64, 67, 0.15);\n",
              "      fill: #174EA6;\n",
              "    }\n",
              "\n",
              "    [theme=dark] .colab-df-convert {\n",
              "      background-color: #3B4455;\n",
              "      fill: #D2E3FC;\n",
              "    }\n",
              "\n",
              "    [theme=dark] .colab-df-convert:hover {\n",
              "      background-color: #434B5C;\n",
              "      box-shadow: 0px 1px 3px 1px rgba(0, 0, 0, 0.15);\n",
              "      filter: drop-shadow(0px 1px 2px rgba(0, 0, 0, 0.3));\n",
              "      fill: #FFFFFF;\n",
              "    }\n",
              "  </style>\n",
              "\n",
              "      <script>\n",
              "        const buttonEl =\n",
              "          document.querySelector('#df-842e80eb-0b0d-4c0d-89a6-64b493765443 button.colab-df-convert');\n",
              "        buttonEl.style.display =\n",
              "          google.colab.kernel.accessAllowed ? 'block' : 'none';\n",
              "\n",
              "        async function convertToInteractive(key) {\n",
              "          const element = document.querySelector('#df-842e80eb-0b0d-4c0d-89a6-64b493765443');\n",
              "          const dataTable =\n",
              "            await google.colab.kernel.invokeFunction('convertToInteractive',\n",
              "                                                     [key], {});\n",
              "          if (!dataTable) return;\n",
              "\n",
              "          const docLinkHtml = 'Like what you see? Visit the ' +\n",
              "            '<a target=\"_blank\" href=https://colab.research.google.com/notebooks/data_table.ipynb>data table notebook</a>'\n",
              "            + ' to learn more about interactive tables.';\n",
              "          element.innerHTML = '';\n",
              "          dataTable['output_type'] = 'display_data';\n",
              "          await google.colab.output.renderOutput(dataTable, element);\n",
              "          const docLink = document.createElement('div');\n",
              "          docLink.innerHTML = docLinkHtml;\n",
              "          element.appendChild(docLink);\n",
              "        }\n",
              "      </script>\n",
              "    </div>\n",
              "  </div>\n",
              "  "
            ],
            "text/plain": [
              "         Date Location  MinTemp  MaxTemp  Rainfall  Evaporation  Sunshine  \\\n",
              "0  2008-12-01   Albury     13.4     22.9       0.6          NaN       NaN   \n",
              "1  2008-12-02   Albury      7.4     25.1       0.0          NaN       NaN   \n",
              "2  2008-12-03   Albury     12.9     25.7       0.0          NaN       NaN   \n",
              "3  2008-12-04   Albury      9.2     28.0       0.0          NaN       NaN   \n",
              "4  2008-12-05   Albury     17.5     32.3       1.0          NaN       NaN   \n",
              "\n",
              "  WindGustDir  WindGustSpeed WindDir9am  ... Humidity9am  Humidity3pm  \\\n",
              "0           W           44.0          W  ...        71.0         22.0   \n",
              "1         WNW           44.0        NNW  ...        44.0         25.0   \n",
              "2         WSW           46.0          W  ...        38.0         30.0   \n",
              "3          NE           24.0         SE  ...        45.0         16.0   \n",
              "4           W           41.0        ENE  ...        82.0         33.0   \n",
              "\n",
              "   Pressure9am  Pressure3pm  Cloud9am  Cloud3pm  Temp9am  Temp3pm  RainToday  \\\n",
              "0       1007.7       1007.1       8.0       NaN     16.9     21.8         No   \n",
              "1       1010.6       1007.8       NaN       NaN     17.2     24.3         No   \n",
              "2       1007.6       1008.7       NaN       2.0     21.0     23.2         No   \n",
              "3       1017.6       1012.8       NaN       NaN     18.1     26.5         No   \n",
              "4       1010.8       1006.0       7.0       8.0     17.8     29.7         No   \n",
              "\n",
              "   RainTomorrow  \n",
              "0            No  \n",
              "1            No  \n",
              "2            No  \n",
              "3            No  \n",
              "4            No  \n",
              "\n",
              "[5 rows x 23 columns]"
            ]
          },
          "execution_count": 9,
          "metadata": {},
          "output_type": "execute_result"
        }
      ],
      "source": [
        "data.head()#to print five first line of data starting fro"
      ]
    },
    {
      "cell_type": "code",
      "execution_count": null,
      "metadata": {
        "colab": {
          "base_uri": "https://localhost:8080/"
        },
        "id": "QI6KkYqMstK2",
        "outputId": "c927d6bd-ee1a-4cc6-d849-c91d78f9095d"
      },
      "outputs": [
        {
          "name": "stdout",
          "output_type": "stream",
          "text": [
            "hello\n"
          ]
        }
      ],
      "source": [
        "print(\"hello\")"
      ]
    },
    {
      "cell_type": "code",
      "execution_count": null,
      "metadata": {
        "id": "p7W_XQDbsx8c"
      },
      "outputs": [],
      "source": [
        "n= int(input(\"Enter a number: \"))\n",
        "i=1\n",
        "while i <=12:\n",
        "  product= n*i\n",
        "  print(f\"{n} x {i} = {product}\")\n",
        "  i += 1"
      ]
    },
    {
      "cell_type": "code",
      "execution_count": null,
      "metadata": {
        "colab": {
          "base_uri": "https://localhost:8080/"
        },
        "id": "raCfoWyC0P_L",
        "outputId": "ec2266e7-413c-476e-dda3-81e5d654fe92"
      },
      "outputs": [
        {
          "name": "stdout",
          "output_type": "stream",
          "text": [
            "0.625\n",
            "17\n"
          ]
        }
      ],
      "source": [
        "print(5/8)\n",
        "\n",
        "print(7+10)\n"
      ]
    },
    {
      "cell_type": "markdown",
      "metadata": {
        "id": "rjhLDmlEzwns"
      },
      "source": [
        "\n"
      ]
    },
    {
      "cell_type": "markdown",
      "metadata": {
        "id": "OBcjuvRsz_yv"
      },
      "source": [
        "STARTING ALL OVER AGAIN FROM PYTHON...LORD HELP ME\n",
        "\n"
      ]
    },
    {
      "cell_type": "code",
      "execution_count": null,
      "metadata": {
        "id": "4D673or8zi4N"
      },
      "outputs": [],
      "source": []
    },
    {
      "cell_type": "markdown",
      "metadata": {
        "id": "aKEK-95M2vk9"
      },
      "source": [
        "FILE SYSTEM\n"
      ]
    },
    {
      "cell_type": "code",
      "execution_count": null,
      "metadata": {
        "id": "5MFha2ejzyLy"
      },
      "outputs": [],
      "source": [
        "*temporary file\n",
        "*permanent file"
      ]
    },
    {
      "cell_type": "markdown",
      "metadata": {
        "id": "aIVIbUMP-Nsz"
      },
      "source": [
        "To open file(first method)"
      ]
    },
    {
      "cell_type": "code",
      "execution_count": null,
      "metadata": {
        "colab": {
          "base_uri": "https://localhost:8080/"
        },
        "id": "gRq5yVNxzt66",
        "outputId": "bca3d5d3-ab4f-4104-eab6-332e9f93f3d6"
      },
      "outputs": [
        {
          "name": "stdout",
          "output_type": "stream",
          "text": [
            "<_io.TextIOWrapper name='sample.txt' mode='r' encoding='UTF-8'>\n"
          ]
        }
      ],
      "source": [
        "f = open(\"sample.txt\",mode='r')#the default mode is r\n",
        "print(f)\n",
        "f.close()"
      ]
    },
    {
      "cell_type": "code",
      "execution_count": null,
      "metadata": {
        "id": "Qxz7rsMV8i2N"
      },
      "outputs": [],
      "source": [
        "f.close()\n",
        "#once you open you have to close your files"
      ]
    },
    {
      "cell_type": "markdown",
      "metadata": {
        "id": "HoAsQ4_0-UeG"
      },
      "source": [
        "###To open file (second method)"
      ]
    },
    {
      "cell_type": "code",
      "execution_count": null,
      "metadata": {
        "id": "cE9TU7Je-ULr"
      },
      "outputs": [],
      "source": []
    },
    {
      "cell_type": "code",
      "execution_count": null,
      "metadata": {
        "colab": {
          "base_uri": "https://localhost:8080/"
        },
        "id": "Wj7s7Mx48oxH",
        "outputId": "4d6460a5-5203-422d-f6be-8934a7b6b80f"
      },
      "outputs": [
        {
          "name": "stdout",
          "output_type": "stream",
          "text": [
            "<_io.TextIOWrapper name='sample.txt' mode='r' encoding='UTF-8'>\n"
          ]
        }
      ],
      "source": [
        "with open(\"sample.txt\") as f:\n",
        "  print(f)\n",
        "  #once you use with open method you dont have to close, it close automatically"
      ]
    },
    {
      "cell_type": "code",
      "execution_count": null,
      "metadata": {
        "colab": {
          "base_uri": "https://localhost:8080/"
        },
        "id": "UIbre5KR-Alv",
        "outputId": "0bc115bb-3af9-4f7f-c466-0e008a77f6ab"
      },
      "outputs": [
        {
          "name": "stdout",
          "output_type": "stream",
          "text": [
            "[\"'Twas brillig, and the slithy toves\\n\", 'Did gyre and gimble in the wabe;\\n', 'All mimsy were the borogoves,\\n', 'And the mome raths outgrabe.\\n', '\\n', '\"Beware the Jabberwock, my son!\\n', 'The jaws that bite, the claws that catch!\\n', 'Beware the Jubjub bird, and shun\\n', 'The frumious Bandersnatch!\"\\n', '\\n', 'He took his vorpal sword in hand:\\n', 'Long time the manxome foe he sought,\\n', 'So rested he by the Tumtum tree,\\n', 'And stood a while in thought.\\n', '\\n', 'And, as in uffish thought he stood,\\n', 'The Jabberwock, with eyes of flame,\\n', 'Came whiffling through the tulgey wood,\\n', 'And burbled as it came!\\n', '\\n', 'One two! One two! And through and through\\n', 'The vorpal blade went snicker-snack!\\n', 'He left it dead, and with its head\\n', 'He went galumphing back.\\n', '\\n', '\"And hast thou slain the Jabberwock?\\n', 'Come to my arms, my beamish boy!\"\\n', '\"Oh frabjous day! Callooh! Callay!\"\\n', 'He chortled in his joy.\\n', '\\n', \"'Twas brillig, and the slithy toves\\n\", 'Did gyre and gimble in the wabe:\\n', 'All mimsy were the borogoves,\\n', 'And the mome raths outgrabe.\\n']\n"
          ]
        }
      ],
      "source": [
        "with open (\"sample.txt\") as f:\n",
        "  print([text for text in f])\n"
      ]
    },
    {
      "cell_type": "code",
      "execution_count": null,
      "metadata": {
        "colab": {
          "base_uri": "https://localhost:8080/"
        },
        "id": "nzn_LU2j__r9",
        "outputId": "07fc182b-acb0-4b54-c5bd-73e0b1ca022a"
      },
      "outputs": [
        {
          "name": "stdout",
          "output_type": "stream",
          "text": [
            "'Twas brillig, and the slithy toves\n",
            "Did gyre and gimble in the wabe;\n",
            "All mimsy were the borogoves,\n",
            "And the mome raths outgrabe.\n",
            "\n",
            "\"Beware the Jabberwock, my son!\n",
            "The jaws that bite, the claws that catch!\n",
            "Beware the Jubjub bird, and shun\n",
            "The frumious Bandersnatch!\"\n",
            "\n",
            "He took his vorpal sword in hand:\n",
            "Long time the manxome foe he sought,\n",
            "So rested he by the Tumtum tree,\n",
            "And stood a while in thought.\n",
            "\n",
            "And, as in uffish thought he stood,\n",
            "The Jabberwock, with eyes of flame,\n",
            "Came whiffling through the tulgey wood,\n",
            "And burbled as it came!\n",
            "\n",
            "One two! One two! And through and through\n",
            "The vorpal blade went snicker-snack!\n",
            "He left it dead, and with its head\n",
            "He went galumphing back.\n",
            "\n",
            "\"And hast thou slain the Jabberwock?\n",
            "Come to my arms, my beamish boy!\"\n",
            "\"Oh frabjous day! Callooh! Callay!\"\n",
            "He chortled in his joy.\n",
            "\n",
            "'Twas brillig, and the slithy toves\n",
            "Did gyre and gimble in the wabe:\n",
            "All mimsy were the borogoves,\n",
            "And the mome raths outgrabe.\n",
            "\n"
          ]
        }
      ],
      "source": [
        "with open(\"sample.txt\") as f:\n",
        "  print(f.read())"
      ]
    },
    {
      "cell_type": "markdown",
      "metadata": {
        "id": "qvP7252wEUkq"
      },
      "source": [
        "WRITE FILE\n"
      ]
    },
    {
      "cell_type": "markdown",
      "metadata": {
        "id": "GGTmxzo7ELsJ"
      },
      "source": []
    },
    {
      "cell_type": "code",
      "execution_count": null,
      "metadata": {
        "colab": {
          "base_uri": "https://localhost:8080/"
        },
        "id": "vytOOKCoASk-",
        "outputId": "333cedd4-0f82-4b8e-f289-2a5460f1c9df"
      },
      "outputs": [
        {
          "name": "stdout",
          "output_type": "stream",
          "text": [
            "[]\n"
          ]
        }
      ],
      "source": [
        "with open(\"sample.txt\") as f:\n",
        "\n",
        "    print(f.readlines())"
      ]
    },
    {
      "cell_type": "code",
      "execution_count": null,
      "metadata": {
        "colab": {
          "base_uri": "https://localhost:8080/"
        },
        "id": "q22EIJvzCCN3",
        "outputId": "5f260359-fd2d-4fed-83d4-665c78755bd7"
      },
      "outputs": [
        {
          "name": "stdout",
          "output_type": "stream",
          "text": [
            "[2, 4, 6, 8, 10, 12, 14, 16, 18, 20, 22, 24]\n"
          ]
        }
      ],
      "source": [
        "multiplication_table=[]\n",
        "for i in range(1,13):\n",
        "  multiplication_table.append(i*2)\n",
        "print(multiplication_table)"
      ]
    },
    {
      "cell_type": "code",
      "execution_count": null,
      "metadata": {
        "id": "83TTMbZJCoEg"
      },
      "outputs": [],
      "source": [
        "\n",
        "\n",
        "with open(\"tables.txt\", mode=\"w\") as multiplication_table2:\n",
        "  print(multiplication_table, file=multiplication_table2)"
      ]
    },
    {
      "cell_type": "code",
      "execution_count": null,
      "metadata": {
        "id": "qYCs823UDcHG"
      },
      "outputs": [],
      "source": []
    },
    {
      "cell_type": "markdown",
      "metadata": {
        "id": "jOW53S0IGPZg"
      },
      "source": [
        "APPEND"
      ]
    },
    {
      "cell_type": "code",
      "execution_count": null,
      "metadata": {
        "id": "SwY4rU_VAeJc"
      },
      "outputs": [],
      "source": [
        "#write\n",
        "with open(\"sample.txt\",mode=\"a\") as multiplication_table2:# using append to add more to the files in order not to override\n",
        "  print(multiplication_table, file=multiplication_table2)"
      ]
    },
    {
      "cell_type": "markdown",
      "metadata": {
        "id": "AoqXpBGxFzbw"
      },
      "source": [
        "WRITE TO CSV FILE\n"
      ]
    },
    {
      "cell_type": "code",
      "execution_count": null,
      "metadata": {
        "id": "sCpeCg29F4dT"
      },
      "outputs": [],
      "source": [
        "from csv import writer\n",
        "\n",
        "platform= \"Laptop\"\n",
        "password=1111\n",
        "pass_data= [platform, password]\n",
        "\n",
        "with open(\"tables_csv.csv\", mode=\"w\") as f:\n",
        " writer_data =writer(f)\n",
        " writer_data.writerow(pass_data)"
      ]
    },
    {
      "cell_type": "code",
      "execution_count": null,
      "metadata": {
        "id": "_0ruxn_KJdTn"
      },
      "outputs": [],
      "source": [
        "#### SIMPLE REGISTRATION FORM\n",
        "#     ACCEPT THE INPUT\n",
        "name= input(\"Enter your name: \")\n",
        "phone_number= input(\"Enter your phone number: \")\n",
        "email= input(\"Enter your email: \")\n",
        "password= input(\"Enter your password: \")\n",
        "confirm_password= input(\"Confirm your password: \")\n",
        "\n",
        "#save the above info\n",
        "details=[name,phone_number,email,password,confirm_password]\n",
        "with open(\"student_details1.csv\", mode=\"w\") as f:\n",
        "  writer_data= writer(f)\n",
        "  writer_data.writerow(details)"
      ]
    },
    {
      "cell_type": "code",
      "execution_count": null,
      "metadata": {
        "colab": {
          "base_uri": "https://localhost:8080/"
        },
        "id": "vod6jVJ1Iqip",
        "outputId": "2fe9d1a2-8859-43a8-abca-072c0da2d4fe"
      },
      "outputs": [
        {
          "name": "stdout",
          "output_type": "stream",
          "text": [
            "Enter your name: desmond\n",
            "Enter your phone number: 99382266\n",
            "Enter your password: 23443\n"
          ]
        }
      ],
      "source": [
        "#### SIMPLE REGISTRATION FORM\n",
        "#     ACCEPT THE INPUT\n",
        "name= input(\"Enter your name: \")\n",
        "phone_number= input(\"Enter your phone number: \")\n",
        "\n",
        "password= input(\"Enter your password: \")\n",
        "\n",
        "\n",
        "#save the above info\n",
        "details=[name,phone_number,password,]\n",
        "with open(\"student_details2.csv\", mode=\"a\") as f:\n",
        "  writer_data= writer(f)\n",
        "  writer_data.writerow(details)"
      ]
    },
    {
      "cell_type": "code",
      "execution_count": null,
      "metadata": {
        "id": "MAxNa_FUK35R"
      },
      "outputs": [],
      "source": [
        "###login form\n",
        "phone_number= input(\"Enter your phone number: \")\n",
        "password= input(\"Enter your password: \")\n",
        "with open(\"student_details2.csv\", mode=\"r\") as f:\n",
        "  reader_file= csv_reader(f)\n",
        "  #print(reader_data)\n",
        "\n",
        "  for row in reader_file:\n",
        "    if phone_number in row and password in row:\n",
        "      print(\"login successful, \", row[0], \"account has been found,with phone number\", row[1])\n",
        "      break\n",
        "    else:\n",
        "      pass\n",
        "  else:\n",
        "      print(\"login failed\")"
      ]
    },
    {
      "cell_type": "code",
      "execution_count": null,
      "metadata": {
        "id": "_i-IfbEGOxvR"
      },
      "outputs": [],
      "source": [
        "print(\" New Section\")"
      ]
    },
    {
      "cell_type": "markdown",
      "metadata": {
        "id": "fQ0plBhdU0Y9"
      },
      "source": [
        "CLASS WORK"
      ]
    },
    {
      "cell_type": "code",
      "execution_count": null,
      "metadata": {
        "id": "ikEmix5hVYWe"
      },
      "outputs": [],
      "source": [
        "from csv import writer\n",
        "phone_number= input(\"Enter your phone number: \")\n",
        "password= input(\"Enter your password: \")\n",
        "with open(\"classwork.csv\", mode=\"r\") as f:\n",
        "  reader_file= csv_reader(f)\n",
        "\n",
        "\n",
        "multiplication_table12= []\n",
        "for i in range(1,12):\n",
        "\n",
        "  multiplication_table12.append(1*6)\n",
        "print(Multiplication_table12)"
      ]
    },
    {
      "cell_type": "code",
      "execution_count": null,
      "metadata": {
        "id": "pBzraMzvRNmX"
      },
      "outputs": [],
      "source": [
        "classwork\n",
        "+ generate a multiplication 1 to 12 and save it in a txt, csv file\n",
        "+create sign in form"
      ]
    },
    {
      "cell_type": "code",
      "execution_count": null,
      "metadata": {
        "id": "9TPb0T62WRl5"
      },
      "outputs": [],
      "source": [
        "with open(\"classwork.csv\", mode=\"r\") as f:\n",
        "  reader_file= csv_reader(f)\n",
        "\n",
        "\n",
        "multiplication_table12= []\n",
        "for i in range(1,12):\n",
        "\n",
        "  multiplication_table12.append(1*6)\n",
        "print(Multiplication_table12)"
      ]
    },
    {
      "cell_type": "code",
      "execution_count": null,
      "metadata": {
        "id": "eHdiZVKqXnsa"
      },
      "outputs": [],
      "source": [
        "multiplication_table12= []\n",
        "for i in range(1,12):\n",
        "\n",
        "  multiplication_table12.append(1*6)\n",
        "print(Multiplication_table12)\n"
      ]
    },
    {
      "cell_type": "code",
      "execution_count": null,
      "metadata": {
        "id": "3ZYoDTW0ZCCV"
      },
      "outputs": [],
      "source": [
        "with open(\"tables.txt\", mode=\"w\") as multiplication_table2:\n",
        "  print(multiplication_table, file=multiplication_table2)"
      ]
    },
    {
      "cell_type": "code",
      "execution_count": null,
      "metadata": {
        "id": "OrQVF0jWZDUN"
      },
      "outputs": [],
      "source": [
        "from csv import writer\n",
        "name= input(\"Enter your nDeame: \")\n",
        "phone_number= input(\"Enter your phone number: \")\n",
        "access_status= input(\"Enter your status: \")\n",
        "password= input(\"Enter your password: \")\n",
        "confirm_password= input(\"Confirm your password: \")\n",
        "\n",
        "#save the above info\n",
        "with open(\"student_details2.csv\", mode=\"r\") as f:\n",
        "  reader_file= csv_reader(f)\n",
        "  #print(reader_data)\n",
        "\n",
        "  for row in reader_file:\n",
        "    if phone_number in row and password in row:\n",
        "      print(\"login successful, \", row[0], \"account has been found,with phone number\", row[1])\n",
        "      break\n",
        "    else:\n",
        "      pass\n",
        "  else:\n",
        "      print(\"login failed\")"
      ]
    },
    {
      "cell_type": "code",
      "execution_count": null,
      "metadata": {
        "id": "yge1mCkpgRDa"
      },
      "outputs": [],
      "source": [
        "username= input(\"Enter your username: \")\n",
        "password= input(\"Enter your password: \")\n",
        "access_status= input('enter access_status')\n",
        "\n",
        "#save the above info\n",
        "details=[name,password,access_status]\n",
        "with open(\"user_details4.csv\", mode=\"w\") as f:\n",
        "  writer_data= writer(f)\n",
        "  writer_data.writerow(details)"
      ]
    },
    {
      "cell_type": "code",
      "execution_count": null,
      "metadata": {
        "id": "Q4gDCLWRhCoU"
      },
      "outputs": [],
      "source": [
        "usernamename= input(\"Enter your username: \")\n",
        "password= input(\"Enter your password: \")\n",
        "\n",
        "with open(\"users_details4.csv\", mode='r') as f:\n",
        "  reader_file = csv.reader(f)\n",
        "  for row in reader_file:\n",
        "    if username in row and password in row:\n",
        "      print(\"Success\", row[2], 'account accessed')\n",
        "      break\n",
        "\n",
        "  else:\n",
        "    print(\"User not found\")"
      ]
    },
    {
      "cell_type": "code",
      "execution_count": null,
      "metadata": {
        "id": "ugZJK0F7iT9m"
      },
      "outputs": [],
      "source": []
    },
    {
      "cell_type": "markdown",
      "metadata": {
        "id": "rxqjfFeCelbg"
      },
      "source": [
        "PROJECT QUESTION: DEVELOP A CGPA CALCULATOR\n"
      ]
    },
    {
      "cell_type": "code",
      "execution_count": null,
      "metadata": {
        "id": "W9XXgfEkfuq1"
      },
      "outputs": [],
      "source": [
        "#VALIDATEERROR"
      ]
    },
    {
      "cell_type": "markdown",
      "metadata": {
        "id": "ZKv8BHmBWYOa"
      },
      "source": [
        "FRIDAY,12, 2024\n"
      ]
    },
    {
      "cell_type": "code",
      "execution_count": null,
      "metadata": {
        "collapsed": true,
        "id": "hWR7PMUtjGU6"
      },
      "outputs": [],
      "source": [
        "print(\"******Welcome to CGPA calculator******\")\n",
        "print(\"\")\n",
        "\n",
        "student_name=input(\"Enter student_name: \")\n",
        "student_matric_no=(int(input(\"Enter student_matric_no: \")))\n",
        "student_level= (int(input(\"Enter student_level: \")))\n",
        "student_semester=input(\"Enter student_semester: \")\n",
        "student_section=input(\"Enter student_section: \")\n",
        "Year_of_exam=input(\"Enter year_of_exam: \")\n",
        "\n",
        "\n",
        "def cgpa_calculator():\n",
        "  total_credit=0\n",
        "  total_grade_point=0\n",
        "\n",
        "  totalcoursesno=\"4\"\n",
        "  totalcoursesno=int(input(\"Enter number of courses you do: \"))\n",
        "  while totalcoursesno not in range(1,4):\n",
        "    print(\"Enter course no under 4 numbers: \")\n",
        "    totalcoursesno += 1\n",
        "    break\n",
        "\n",
        "  for i in range(0, totalcoursesno):\n",
        "\n",
        "    course1 = input(\"Enter course name :  \")\n",
        "    code=int(input(\"Enter course code: \"))\n",
        "    unit=int(input(\"Enter course unit:  \"))\n",
        "    score=int(input(\"Enter course score:  \"))\n",
        "    total_credit += unit* 5\n",
        "\n",
        "  if (score >= 70):\n",
        "        grade = 5\n",
        "  elif (score < 70 and score >= 60):\n",
        "    grade = 4\n",
        "  elif (score < 60 and score >= 50):\n",
        "    grade = 3\n",
        "  elif (score < 50 and score >= 45):\n",
        "    grade = 2\n",
        "  elif (score < 45 and score >= 40):\n",
        "    grade = 1\n",
        "    grade= 1\n",
        "  else:\n",
        "    grade= 0\n",
        "    obtainedGrade += unit*grade\n",
        "\n",
        "  Cgpa =float((obtainedGrade / total_credit) * 5)\n",
        "  print(\"THANKS FOR ALL YOUR INPUT YOUR CGPA IS : \" + str(Cgpa))\n",
        "\n",
        "\n",
        "cgpa_calculator()\n",
        "\n",
        "\n",
        "\n",
        "\n",
        "\n"
      ]
    },
    {
      "cell_type": "code",
      "execution_count": null,
      "metadata": {
        "id": "CAmzsW6TBawe"
      },
      "outputs": [],
      "source": [
        "print(\"******Welcome to CGPA calculator******\")\n",
        "print(\"\")\n",
        "\n",
        "student_name=input(\"Enter student_name: \")\n",
        "student_matric_no=(int(input(\"Enter student_matric_no: \")))\n",
        "student_level= (int(input(\"Enter student_level: \")))\n",
        "student_semester=input(\"Enter student_semester: \")\n",
        "student_section=input(\"Enter student_section: \")\n",
        "Year_of_exam=input(\"Enter year_of_exam: \")\n",
        "\n",
        "\n",
        "def cgpa_calculator():\n",
        "  total_credit=0\n",
        "  obtainedGrade = 0 # Initialize obtainedGrade\n",
        "\n",
        "  totalcoursesno=\"4\"\n",
        "  totalcoursesno=int(input(\"Enter number of courses you do: \"))\n",
        "  while totalcoursesno not in range(1,4):\n",
        "    print(\"Enter course no under 4 numbers: \")\n",
        "    totalcoursesno += 1\n",
        "    break\n",
        "\n",
        "  for i in range(0, totalcoursesno):\n",
        "\n",
        "    course1 = input(\"Enter course name :  \")\n",
        "    code=input(\"Enter course code: \") # Keep course code as a string\n",
        "    unit=int(input(\"Enter course unit:  \"))\n",
        "    score=int(input(\"Enter course score:  \"))\n",
        "    total_credit += unit* 5\n",
        "\n",
        "    if (score >= 70):\n",
        "        grade = 5\n",
        "    elif (score < 70 and score >= 60):\n",
        "        grade = 4\n",
        "    elif (score < 60 and score >= 50):\n",
        "        grade = 3\n",
        "    elif (score < 50 and score >= 45):\n",
        "        grade = 2\n",
        "    elif (score < 45 and score >= 40):\n",
        "        grade = 1\n",
        "        # grade= 1  # This line seems redundant\n",
        "    else:\n",
        "        grade= 0\n",
        "    obtainedGrade += unit * grade # Calculate obtainedGrade within the loop\n",
        "\n",
        "Cgpa = float((obtainedGrade / total_credit) * 5)\n",
        "print(\"name: \", student_name,\n",
        "      \"matric no: \", student_matric_no,\n",
        "      \"CGPA: \", Cgpa)\n",
        "cgpa_calculator()"
      ]
    },
    {
      "cell_type": "code",
      "execution_count": null,
      "metadata": {
        "id": "VbFoan0ibmxy"
      },
      "outputs": [],
      "source": [
        "print(\"******Welcome to CGPA calculator******\")\n",
        "print(\"\")\n",
        "\n",
        "student_name = input(\"Enter student_name: \")\n",
        "student_matric_no = int(input(\"Enter student_matric_no: \"))\n",
        "student_level = int(input(\"Enter student_level: \"))\n",
        "student_semester = input(\"Enter student_semester: \")\n",
        "student_section = input(\"Enter student_section: \")\n",
        "Year_of_exam = input(\"Enter year_of_exam: \")\n",
        "\n",
        "def cgpa_calculator():\n",
        "    total_credit = 0\n",
        "    total_grade_point = 0\n",
        "\n",
        "    # Initialize lists to store course data\n",
        "    course_names = []\n",
        "    course_codes = []\n",
        "    course_units = []\n",
        "    course_scores = []\n",
        "    course_grades = []\n",
        "\n",
        "    # Input for 4 courses\n",
        "    for i in range(4):\n",
        "        course_name = input(f\"Enter course {i+1} name: \")\n",
        "        code = input(f\"Enter course {i+1} code: \")\n",
        "        unit = int(input(f\"Enter course {i+1} unit: \"))\n",
        "        score = int(input(f\"Enter course {i+1} score: \"))\n",
        "\n",
        "        # Append data to lists\n",
        "        course_names.append(course_name)\n",
        "        course_codes.append(code)\n",
        "        course_units.append(unit)\n",
        "        course_scores.append(score)\n",
        "\n",
        "        # Calculate grade and append\n",
        "        if score >= 70:\n",
        "            grade = 5\n",
        "        elif score < 70 and score >= 60:\n",
        "            grade = 4\n",
        "        elif score < 60 and score >= 50:\n",
        "            grade = 3\n",
        "        elif score < 50 and score >= 45:\n",
        "            grade = 2\n",
        "        elif score < 45 and score >= 40:\n",
        "            grade = 1\n",
        "        else:\n",
        "            grade = 0\n",
        "        course_grades.append(grade)\n",
        "\n",
        "        total_credit += unit * 5\n",
        "        grade_point = unit * grade\n",
        "        total_grade_point += grade_point\n",
        "\n",
        "    cgpa = float((total_grade_point / total_credit) * 5)\n",
        "    print(\"Name: \", student_name,\n",
        "          \"Matric No: \", student_matric_no,\n",
        "          \"CGPA: \", cgpa)\n",
        "\n",
        "    # Option to add more courses\n",
        "    while True:\n",
        "        add_more = input(\"Do you want to add more courses? (yes/no): \")\n",
        "        if add_more.lower() == 'yes':\n",
        "            course_name = input(\"Enter course name: \")\n",
        "            code = input(\"Enter course code: \")\n",
        "            unit = int(input(\"Enter course unit: \"))\n",
        "            score = int(input(\"Enter course score: \"))\n",
        "\n",
        "            # Append data to lists\n",
        "            course_names.append(course_name)\n",
        "            course_codes.append(code)\n",
        "            course_units.append(unit)\n",
        "            course_scores.append(score)\n",
        "\n",
        "            # Calculate grade and append\n",
        "            if score >= 70:\n",
        "                grade = 5\n",
        "            elif score < 70 and score >= 60:\n",
        "                grade = 4\n",
        "            elif score < 60 and score >= 50:\n",
        "                grade = 3\n",
        "            elif score < 50 and score >= 45:\n",
        "                grade = 2\n",
        "            elif score < 45 and score >= 40:\n",
        "                grade = 1\n",
        "            else:\n",
        "                grade = 0\n",
        "            course_grades.append(grade)\n",
        "\n",
        "            total_credit += unit * 5\n",
        "            grade_point = unit * grade\n",
        "            total_grade_point += grade_point\n",
        "\n",
        "            # Recalculate CGPA\n",
        "            cgpa = float((total_grade_point / total_credit) * 5)\n",
        "            print(\"Updated CGPA: \", (round(cgpa,2)))\n",
        "\n",
        "        else:\n",
        "            break\n",
        "\n",
        "cgpa_calculator()"
      ]
    },
    {
      "cell_type": "code",
      "execution_count": null,
      "metadata": {
        "id": "ArksKEvFo06O"
      },
      "outputs": [],
      "source": [
        "print(\"******Welcome to CGPA calculator******\")\n",
        "print(\"\")\n",
        "\n",
        "student_name = input(\"Enter student_name: \")\n",
        "student_matric_no = input(\"Enter student_matric_no: \")\n",
        "student_level = int(input(\"Enter student_level: \"))\n",
        "student_semester = input(\"Enter student_semester: \")\n",
        "student_section = input(\"Enter student_section: \")\n",
        "year_of_exam = input(\"Enter year_of_exam: \")\n",
        "\n",
        "def cgpa_calculator():\n",
        "    total_credit = 0\n",
        "    total_grade_point = 0\n",
        "\n",
        "    # Initialize lists to store course data\n",
        "    course_names = []\n",
        "    course_codes = []\n",
        "    course_units = []\n",
        "    course_scores = []\n",
        "    course_grades = []\n",
        "\n",
        "    # Input for 4 courses\n",
        "    for i in range(4):\n",
        "        course_name = input(f\"Enter course {i+1} name: \")\n",
        "        code = input(f\"Enter course {i+1} code: \")\n",
        "        unit = int(input(f\"Enter course {i+1} unit: \"))\n",
        "        score = int(input(f\"Enter course {i+1} score: \"))\n",
        "\n",
        "        # Append data to lists\n",
        "        course_names.append(course_name)\n",
        "        course_codes.append(code)\n",
        "        course_units.append(unit)\n",
        "        course_scores.append(score)\n",
        "\n",
        "        # Calculate grade and append\n",
        "        if score >= 70:\n",
        "            grade = 'A'\n",
        "            grade_point = 5\n",
        "        elif score >= 60:\n",
        "            grade = 'B'\n",
        "            grade_point = 4\n",
        "        elif score >= 50:\n",
        "            grade = 'C'\n",
        "            grade_point = 3\n",
        "        elif score >= 45:\n",
        "            grade = 'D'\n",
        "            grade_point = 2\n",
        "        elif score >= 40:\n",
        "            grade = 'E'\n",
        "            grade_point = 1\n",
        "        else:\n",
        "            grade = 'F'\n",
        "            grade_point = 0\n",
        "        course_grades.append(grade)\n",
        "\n",
        "        total_credit += unit\n",
        "        total_grade_point += unit * grade_point\n",
        "\n",
        "    cgpa = total_grade_point / total_credit\n",
        "    print(\"Name:\", student_name,\n",
        "          \"Matric No:\", student_matric_no,\n",
        "          \"CGPA:\", round(cgpa, 2))\n",
        "\n",
        "    # Option to add more courses\n",
        "    while True:\n",
        "        add_more = input(\"Do you want to add more courses? (yes/no): \")\n",
        "        if add_more.lower() == 'yes':\n",
        "            course_name = input(\"Enter course name: \")\n",
        "            code = input(\"Enter course code: \")\n",
        "            unit = int(input(\"Enter course unit: \"))\n",
        "            score = int(input(\"Enter course score: \"))\n",
        "\n",
        "            # Append data to lists\n",
        "            course_names.append(course_name)\n",
        "            course_codes.append(code)\n",
        "            course_units.append(unit)\n",
        "            course_scores.append(score)\n",
        "\n",
        "            # Calculate grade and append\n",
        "            if score >= 70:\n",
        "                grade = 'A'\n",
        "                grade_point = 5\n",
        "            elif score >= 60:\n",
        "                grade = 'B'\n",
        "                grade_point = 4\n",
        "            elif score >= 50:\n",
        "                grade = 'C'\n",
        "                grade_point = 3\n",
        "            elif score >= 45:\n",
        "                grade = 'D'\n",
        "                grade_point = 2\n",
        "            elif score >= 40:\n",
        "                grade = 'E'\n",
        "                grade_point = 1\n",
        "            else:\n",
        "                grade = 'F'\n",
        "                grade_point = 0\n",
        "            course_grades.append(grade)\n",
        "\n",
        "            total_credit += unit\n",
        "            total_grade_point += unit * grade_point\n",
        "\n",
        "            # Recalculate CGPA\n",
        "            cgpa = total_grade_point / total_credit\n",
        "            print(\"Updated CGPA:\", round(cgpa, 2))\n",
        "\n",
        "        else:\n",
        "            break\n",
        "\n",
        "cgpa_calculator()\n"
      ]
    },
    {
      "cell_type": "code",
      "execution_count": null,
      "metadata": {
        "collapsed": true,
        "id": "zREnMbCFzlTY"
      },
      "outputs": [],
      "source": [
        "print(\"******\\n\"\n",
        "      \"**      LAUTECH STUDENT CGPA CALCULATOR   **\\n\"\n",
        "      \"**   DEPARTMENT OF NUTRITION AND DIETETICS  **\\n\"\n",
        "      \"******\\n\")\n",
        "\n",
        "student_name = input(\"Enter student name: \")\n",
        "student_matric_no = int(input(\"Enter student matric number: \"))\n",
        "student_level = int(input(\"Enter student level: \"))\n",
        "\n",
        "\n",
        "while True:\n",
        "    student_semester = input(\"Enter student semester (First semester/Second semester): \")\n",
        "    if student_semester in [\"First semester\", \"Second semester\"]:\n",
        "        break\n",
        "    else:\n",
        "        print(\"Invalid input. Please enter 'First semester' or 'Second semester'.\")\n",
        "\n",
        "#i want the user to enter anything other than either first semester or second semester,else print error\n",
        "while True:\n",
        "    student_session = input(\"Enter student section (Rain session/Harmattan session): \")\n",
        "    if student_session in [\"Rain session\", \"Harmattan session\"]:\n",
        "        break\n",
        "    else:\n",
        "        print(\"Invalid input. Please enter 'Rain session' or 'Harmattan session'.\")\n",
        "\n",
        "year_of_exam = int(input(\"Enter year of exam: \"))\n",
        "\n",
        "def cgpa_calculator():\n",
        "    total_credit = 0\n",
        "    total_grade_point = 0\n",
        "\n",
        "    # these are the lists i needed to collect and store as data\n",
        "    course_names = []\n",
        "    course_codes = []\n",
        "    course_units = []\n",
        "    course_scores = []\n",
        "    course_grades = []\n",
        "\n",
        "    num_courses = int(input(\"Enter the number of courses: \"))\n",
        "\n",
        "    for i in range(num_courses):\n",
        "        course_name = input(f\"Enter course {i + 1} name: \")  # {i + 1} is to present a user-friendly numbering of courses, starting from 1 instead of 0\n",
        "        code = input(f\"Enter course {i + 1} code: \")\n",
        "        unit = int(input(f\"Enter course {i + 1} unit: \"))\n",
        "        score = int(input(f\"Enter course {i + 1} score: \"))\n",
        "\n",
        "        # I'm Appending the data to the  lists here\n",
        "        course_names.append(course_name)\n",
        "        course_codes.append(code)\n",
        "        course_units.append(unit)\n",
        "        course_scores.append(score)\n",
        "\n",
        "      #let grade\n",
        "\n",
        "        if score >= 70:\n",
        "            grade = 'A'\n",
        "            grade_point = 5\n",
        "        elif score >= 60:\n",
        "            grade = 'B'\n",
        "            grade_point = 4\n",
        "        elif score >= 50:\n",
        "            grade = 'C'\n",
        "            grade_point = 3\n",
        "        elif score >= 45:\n",
        "            grade = 'D'\n",
        "            grade_point = 2\n",
        "        elif score >= 40:\n",
        "            grade = 'E'\n",
        "            grade_point = 1\n",
        "        else:\n",
        "            grade = 'F'\n",
        "            grade_point = 0\n",
        "        course_grades.append(grade)\n",
        "\n",
        "        total_credit += unit\n",
        "        total_grade_point += unit * grade_point\n",
        "\n",
        "    cgpa = total_grade_point / total_credit\n",
        "\n",
        "    if cgpa >= 4.5 and cgpa <= 5.0:\n",
        "        class_ = \"First Class\"\n",
        "    elif cgpa >= 3.5 and cgpa <= 4.49:\n",
        "        class_ = \"Second Class Upper\"\n",
        "    elif cgpa >= 2.5 and cgpa <= 3.49:\n",
        "        class_ = \"Second Class Lower\"\n",
        "    elif cgpa >= 1.5 and cgpa <= 2.49:\n",
        "        class_ = \"Third Class\"\n",
        "    elif cgpa >= 1.0 and cgpa <= 1.49:\n",
        "        class_ = \"Advise to Withdraw\"\n",
        "    else:\n",
        "        class_ = \"FAILED\"\n",
        "\n",
        "    print(\"\\n****** STUDENT RESULT ******\")\n",
        "    print(f\"Name: {student_name}\")\n",
        "    print(f\"Matric No: {student_matric_no}\")\n",
        "    print(f\"Level: {student_level}\")\n",
        "    print(f\"Semester: {student_semester}\")\n",
        "    print(f\"Section: {student_section}\")\n",
        "    print(f\"Year of Exam: {year_of_exam}\\n\")\n",
        "\n",
        "    print(\"Course Details:\")\n",
        "    print(f\"{'Course Name':<20} {'Code':<10} {'Unit':<5} {'Score':<5} {'Grade':<5}\")\n",
        "    print(\"=\" * 50)\n",
        "\n",
        "    for i in range(num_courses):\n",
        "        print(f\"{course_names[i]:<20} {course_codes[i]:<10} {course_units[i]:<5} {course_scores[i]:<5} {course_grades[i]:<5}\")\n",
        "\n",
        "    print(\"=\" * 50)\n",
        "    print(f\"Total Credits: {total_credit}\")\n",
        "    print(f\"Total Grade Points: {total_grade_point}\")\n",
        "    print(f\"CGPA: {round(cgpa, 2)}\")\n",
        "    print(f\"Class: {class_}\")\n",
        "    print(\"****************************\")\n",
        "\n",
        "    # Option to add more courses\n",
        "    while True:\n",
        "        add_more = input(\"Do you want to add more courses? (yes/no): \")\n",
        "        if add_more.lower() == 'yes':\n",
        "            course_name = input(\"Enter course name: \")\n",
        "            code = int(input(\"Enter course code: \"))\n",
        "            unit = int(input(\"Enter course unit: \"))\n",
        "            score = int(input(\"Enter course score: \"))\n",
        "\n",
        "            # let me append list to avoid overwritten\n",
        "            course_names.append(course_name)\n",
        "            course_codes.append(code)\n",
        "            course_units.append(unit)\n",
        "            course_scores.append(score)\n",
        "\n",
        "            if score >= 70:\n",
        "                grade = 'A'\n",
        "                grade_point = 5\n",
        "            elif score >= 60:\n",
        "                grade = 'B'\n",
        "                grade_point = 4\n",
        "            elif score >= 50:\n",
        "                grade = 'C'\n",
        "                grade_point = 3\n",
        "            elif score >= 45:\n",
        "                grade = 'D'\n",
        "                grade_point = 2\n",
        "            elif score >= 40:\n",
        "                grade = 'E'\n",
        "                grade_point = 1\n",
        "            else:\n",
        "                grade = 'F'\n",
        "                grade_point = 0\n",
        "            course_grades.append(grade)\n",
        "\n",
        "            total_credit += unit\n",
        "            total_grade_point += unit * grade_point\n",
        "\n",
        "\n",
        "            cgpa = total_grade_point / total_credit\n",
        "\n",
        "            if cgpa >= 4.5 and cgpa <= 5.0:\n",
        "                class_ = \"First Class\"\n",
        "            elif cgpa >= 3.5 and cgpa <= 4.49:\n",
        "                class_ = \"Second Class Upper\"\n",
        "            elif cgpa >= 2.5 and cgpa <= 3.49:\n",
        "                class_ = \"Second Class Lower\"\n",
        "            elif cgpa >= 1.5 and cgpa <= 2.49:\n",
        "                class_ = \"Third Class\"\n",
        "            elif cgpa >= 1.0 and cgpa <= 1.49:\n",
        "                class_ = \"Advise to Withdraw\"\n",
        "            else:\n",
        "                class_ = \"FAILED\"\n",
        "\n",
        "            print(\"\\n****** UPDATED STUDENT RESULT ******\")\n",
        "            print(f\"Updated CGPA: {round(cgpa, 2)}\")\n",
        "            print(f\"Class: {class_}\")\n",
        "            print(\"****************************\")\n",
        "\n",
        "        else:\n",
        "            break\n",
        "\n",
        "cgpa_calculator()\n"
      ]
    },
    {
      "cell_type": "code",
      "source": [
        "print(\"******\\n\"\n",
        "      \"**      LAUTECH STUDENT CGPA CALCULATOR   **\\n\"\n",
        "      \"**   DEPARTMENT OF NUTRITION AND DIETETICS  **\\n\"\n",
        "      \"******\\n\")\n",
        "\n",
        "student_name = input(\"Enter student name: \")\n",
        "\n",
        "# Validate matric number (must be exactly 6 digits)\n",
        "while True:\n",
        "    student_matric_no = input(\"Enter student matric number (6 digits): \")\n",
        "    if student_matric_no.isdigit() and len(student_matric_no) == 6:\n",
        "        student_matric_no = int(student_matric_no)\n",
        "        break\n",
        "    else:\n",
        "        print(\"Invalid input. Matric number must be exactly 6 digits.\")\n",
        "\n",
        "# Validate student level (must be between 100 and 500)\n",
        "while True:\n",
        "    student_level = input(\"Enter student level (100-500): \")\n",
        "    if student_level.isdigit() and 100 <= int(student_level) <= 500:\n",
        "        student_level = int(student_level)\n",
        "        break\n",
        "    else:\n",
        "        print(\"Invalid input. Level must be a digit between 100 and 500.\")\n",
        "\n",
        "# Validate semester input (case-insensitive)\n",
        "while True:\n",
        "    student_semester = input(\"Enter student semester (First semester/Second semester): \").lower()\n",
        "    if student_semester in [\"first semester\", \"second semester\"]:\n",
        "        break\n",
        "    else:\n",
        "        print(\"Invalid input. Please enter 'First semester' or 'Second semester'.\")\n",
        "\n",
        "# Validate session input (case-insensitive)\n",
        "while True:\n",
        "    student_session = input(\"Enter student session (Rain session/Harmattan session): \").lower()\n",
        "    if student_session in [\"rain session\", \"harmattan session\"]:\n",
        "        break\n",
        "    else:\n",
        "        print(\"Invalid input. Please enter 'Rain session' or 'Harmattan session'.\")\n",
        "\n",
        "# Validate year of exam (must be a digit)\n",
        "while True:\n",
        "    year_of_exam = input(\"Enter year of exam: \")\n",
        "    if year_of_exam.isdigit():\n",
        "        year_of_exam = int(year_of_exam)\n",
        "        break\n",
        "    else:\n",
        "        print(\"Invalid input. Year of exam must be a digit.\")\n",
        "\n",
        "# CGPA calculator for both semesters\n",
        "def cgpa_calculator(semester):\n",
        "    print(f\"\\n** Calculating CGPA for {semester} **\\n\")\n",
        "    total_credit = 0\n",
        "    total_grade_point = 0\n",
        "\n",
        "    # these are the lists to collect and store as data\n",
        "    course_names = []\n",
        "    course_codes = []\n",
        "    course_units = []\n",
        "    course_scores = []\n",
        "    course_grades = []\n",
        "\n",
        "    num_courses = int(input(f\"Enter the number of courses for {semester}: \"))\n",
        "\n",
        "    for i in range(num_courses):\n",
        "        course_name = input(f\"Enter course {i + 1} name: \")\n",
        "        code = input(f\"Enter course {i + 1} code: \")\n",
        "        unit = int(input(f\"Enter course {i + 1} unit: \"))\n",
        "        score = int(input(f\"Enter course {i + 1} score: \"))\n",
        "\n",
        "        # Append data to the lists\n",
        "        course_names.append(course_name)\n",
        "        course_codes.append(code)\n",
        "        course_units.append(unit)\n",
        "        course_scores.append(score)\n",
        "\n",
        "        # Assign grades and grade points\n",
        "        if score >= 70:\n",
        "            grade = 'A'\n",
        "            grade_point = 5\n",
        "        elif score >= 60:\n",
        "            grade = 'B'\n",
        "            grade_point = 4\n",
        "        elif score >= 50:\n",
        "            grade = 'C'\n",
        "            grade_point = 3\n",
        "        elif score >= 45:\n",
        "            grade = 'D'\n",
        "            grade_point = 2\n",
        "        elif score >= 40:\n",
        "            grade = 'E'\n",
        "            grade_point = 1\n",
        "        else:\n",
        "            grade = 'F'\n",
        "            grade_point = 0\n",
        "        course_grades.append(grade)\n",
        "\n",
        "        total_credit += unit\n",
        "        total_grade_point += unit * grade_point\n",
        "\n",
        "    cgpa = total_grade_point / total_credit\n",
        "\n",
        "    # Determine class\n",
        "    if cgpa >= 4.5 and cgpa <= 5.0:\n",
        "        class_ = \"First Class\"\n",
        "    elif cgpa >= 3.5 and cgpa <= 4.49:\n",
        "        class_ = \"Second Class Upper\"\n",
        "    elif cgpa >= 2.5 and cgpa <= 3.49:\n",
        "        class_ = \"Second Class Lower\"\n",
        "    elif cgpa >= 1.5 and cgpa <= 2.49:\n",
        "        class_ = \"Third Class\"\n",
        "    elif cgpa >= 1.0 and cgpa <= 1.49:\n",
        "        class_ = \"Advise to Withdraw\"\n",
        "    else:\n",
        "        class_ = \"FAILED\"\n",
        "\n",
        "    # Print results\n",
        "    print(\"\\n****** STUDENT RESULT ******\")\n",
        "    print(f\"Name: {student_name}\")\n",
        "    print(f\"Matric No: {student_matric_no}\")\n",
        "    print(f\"Level: {student_level}\")\n",
        "    print(f\"Semester: {semester}\")\n",
        "    print(f\"Session: {student_session}\")\n",
        "    print(f\"Year of Exam: {year_of_exam}\\n\")\n",
        "\n",
        "    print(\"Course Details:\")\n",
        "    print(f\"{'Course Name':<20} {'Code':<10} {'Unit':<5} {'Score':<5} {'Grade':<5}\")\n",
        "    print(\"=\" * 50)\n",
        "\n",
        "    for i in range(num_courses):\n",
        "        print(f\"{course_names[i]:<20} {course_codes[i]:<10} {course_units[i]:<5} {course_scores[i]:<5} {course_grades[i]:<5}\")\n",
        "\n",
        "    print(\"=\" * 50)\n",
        "    print(f\"Total Credits: {total_credit}\")\n",
        "    print(f\"Total Grade Points: {total_grade_point}\")\n",
        "    print(f\"CGPA: {round(cgpa, 2)}\")\n",
        "    print(f\"Class: {class_}\")\n",
        "    print(\"****************************\")\n",
        "\n",
        "    return cgpa, total_credit\n",
        "\n",
        "# Calculate for both semesters\n",
        "first_semester_cgpa, first_semester_credits = cgpa_calculator(\"First Semester\")\n",
        "second_semester_cgpa, second_semester_credits = cgpa_calculator(\"Second Semester\")\n",
        "\n",
        "# Calculate the overall CGPA\n",
        "total_credits = first_semester_credits + second_semester_credits\n",
        "overall_cgpa = (first_semester_cgpa * first_semester_credits + second_semester_cgpa * second_semester_credits) / total_credits\n",
        "\n",
        "print(\"\\n****** OVERALL CGPA ******\")\n",
        "print(f\"Overall CGPA: {round(overall_cgpa, 2)}\")\n",
        "print(\"****************************\")\n"
      ],
      "metadata": {
        "colab": {
          "base_uri": "https://localhost:8080/"
        },
        "id": "_LCEdkL35VaC",
        "outputId": "021f5600-0cec-49f0-ea43-61ef015daa04"
      },
      "execution_count": null,
      "outputs": [
        {
          "output_type": "stream",
          "name": "stdout",
          "text": [
            "******\n",
            "**      LAUTECH STUDENT CGPA CALCULATOR   **\n",
            "**   DEPARTMENT OF NUTRITION AND DIETETICS  **\n",
            "******\n",
            "\n",
            "Enter student name: desmond\n",
            "Enter student matric number (6 digits): 222\n",
            "Invalid input. Matric number must be exactly 6 digits.\n",
            "Enter student matric number (6 digits): 195275\n",
            "Enter student level (100-500): 200\n",
            "Enter student semester (First semester/Second semester): first semester\n",
            "Enter student session (Rain session/Harmattan session): rain\n",
            "Invalid input. Please enter 'Rain session' or 'Harmattan session'.\n",
            "Enter student session (Rain session/Harmattan session): rain session\n",
            "Enter year of exam: 2004\n",
            "\n",
            "** Calculating CGPA for First Semester **\n",
            "\n",
            "Enter the number of courses for First Semester: 2\n",
            "Enter course 1 name: mth\n",
            "Enter course 1 code: 202\n",
            "Enter course 1 unit: 4\n",
            "Enter course 1 score: 69\n",
            "Enter course 2 name: gns\n",
            "Enter course 2 code: 202\n",
            "Enter course 2 unit: 4\n",
            "Enter course 2 score: 53\n",
            "\n",
            "****** STUDENT RESULT ******\n",
            "Name: desmond\n",
            "Matric No: 195275\n",
            "Level: 200\n",
            "Semester: First Semester\n",
            "Session: rain session\n",
            "Year of Exam: 2004\n",
            "\n",
            "Course Details:\n",
            "Course Name          Code       Unit  Score Grade\n",
            "==================================================\n",
            "mth                  202        4     69    B    \n",
            "gns                  202        4     53    C    \n",
            "==================================================\n",
            "Total Credits: 8\n",
            "Total Grade Points: 28\n",
            "CGPA: 3.5\n",
            "Class: Second Class Upper\n",
            "****************************\n",
            "\n",
            "** Calculating CGPA for Second Semester **\n",
            "\n",
            "Enter the number of courses for Second Semester: 1\n",
            "Enter course 1 name: fsc\n",
            "Enter course 1 code: 202\n",
            "Enter course 1 unit: 4\n",
            "Enter course 1 score: 40\n",
            "\n",
            "****** STUDENT RESULT ******\n",
            "Name: desmond\n",
            "Matric No: 195275\n",
            "Level: 200\n",
            "Semester: Second Semester\n",
            "Session: rain session\n",
            "Year of Exam: 2004\n",
            "\n",
            "Course Details:\n",
            "Course Name          Code       Unit  Score Grade\n",
            "==================================================\n",
            "fsc                  202        4     40    E    \n",
            "==================================================\n",
            "Total Credits: 4\n",
            "Total Grade Points: 4\n",
            "CGPA: 1.0\n",
            "Class: Advise to Withdraw\n",
            "****************************\n",
            "\n",
            "****** OVERALL CGPA ******\n",
            "Overall CGPA: 2.67\n",
            "****************************\n"
          ]
        }
      ]
    },
    {
      "cell_type": "markdown",
      "source": [
        "# New section"
      ],
      "metadata": {
        "id": "0Gdq2V34BNcx"
      }
    },
    {
      "cell_type": "code",
      "source": [
        "print(\"******\\n\"\n",
        "      \"**      LAUTECH STUDENT CGPA CALCULATOR   **\\n\"\n",
        "      \"**   DEPARTMENT OF NUTRITION AND DIETETICS  **\\n\"\n",
        "      \"******\\n\")\n",
        "\n",
        "student_name = input(\"Enter student name: \")\n",
        "\n",
        "# Validate matric number (must be exactly 6 digits)\n",
        "while True:\n",
        "    student_matric_no = input(\"Enter student matric number (6 digits): \")\n",
        "    if student_matric_no.isdigit() and len(student_matric_no) == 6:\n",
        "        student_matric_no = int(student_matric_no)\n",
        "        break\n",
        "    else:\n",
        "        print(\"Invalid input. Matric number must be exactly 6 digits.\")\n",
        "\n",
        "# Validate gender (male/female)\n",
        "while True:\n",
        "    student_gender = input(\"Enter gender (Male/Female): \").lower()\n",
        "    if student_gender in [\"male\", \"female\"]:\n",
        "        break\n",
        "    else:\n",
        "        print(\"Invalid input. Gender must be 'Male' or 'Female'.\")\n",
        "\n",
        "# Validate student level (must be between 100 and 500)\n",
        "while True:\n",
        "    student_level = input(\"Enter student level (100-500): \")\n",
        "    if student_level.isdigit() and 100 <= int(student_level) <= 500:\n",
        "        student_level = int(student_level)\n",
        "        break\n",
        "    else:\n",
        "        print(\"Invalid input. Level must be a digit between 100 and 500.\")\n",
        "\n",
        "# Validate semester input (case-insensitive)\n",
        "while True:\n",
        "    student_semester = input(\"Enter student semester (First semester/Second semester): \").lower()\n",
        "    if student_semester in [\"first semester\", \"second semester\"]:\n",
        "        break\n",
        "    else:\n",
        "        print(\"Invalid input. Please enter 'First semester' or 'Second semester'.\")\n",
        "\n",
        "# Validate session input (case-insensitive)\n",
        "while True:\n",
        "    student_session = input(\"Enter student session (Rain session/Harmattan session): \").lower()\n",
        "    if student_session in [\"rain session\", \"harmattan session\"]:\n",
        "        break\n",
        "    else:\n",
        "        print(\"Invalid input. Please enter 'Rain session' or 'Harmattan session'.\")\n",
        "\n",
        "# Validate year of exam (must be a digit)\n",
        "while True:\n",
        "    year_of_exam = input(\"Enter year of exam: \")\n",
        "    if year_of_exam.isdigit():\n",
        "        year_of_exam = int(year_of_exam)\n",
        "        break\n",
        "    else:\n",
        "        print(\"Invalid input. Year of exam must be a digit.\")\n",
        "\n",
        "# CGPA calculator for both semesters\n",
        "def cgpa_calculator(semester):\n",
        "    print(f\"\\n** Calculating CGPA for {semester} **\\n\")\n",
        "    total_credit = 0\n",
        "    total_grade_point = 0\n",
        "\n",
        "    # these are the lists to collect and store as data\n",
        "    course_names = []\n",
        "    course_codes = []\n",
        "    course_units = []\n",
        "    course_scores = []\n",
        "    course_grades = []\n",
        "\n",
        "    num_courses = int(input(f\"Enter the number of courses for {semester}: \"))\n",
        "\n",
        "    for i in range(num_courses):\n",
        "        course_name = input(f\"Enter course {i + 1} name: \")\n",
        "        code = input(f\"Enter course {i + 1} code: \")\n",
        "        unit = int(input(f\"Enter course {i + 1} unit: \"))\n",
        "        score = int(input(f\"Enter course {i + 1} score: \"))\n",
        "\n",
        "        # Append data to the lists\n",
        "        course_names.append(course_name)\n",
        "        course_codes.append(code)\n",
        "        course_units.append(unit)\n",
        "        course_scores.append(score)\n",
        "\n",
        "        # Assign grades and grade points\n",
        "        if score >= 70:\n",
        "            grade = 'A'\n",
        "            grade_point = 5\n",
        "        elif score >= 60:\n",
        "            grade = 'B'\n",
        "            grade_point = 4\n",
        "        elif score >= 50:\n",
        "            grade = 'C'\n",
        "            grade_point = 3\n",
        "        elif score >= 45:\n",
        "            grade = 'D'\n",
        "            grade_point = 2\n",
        "        elif score >= 40:\n",
        "            grade = 'E'\n",
        "            grade_point = 1\n",
        "        else:\n",
        "            grade = 'F'\n",
        "            grade_point = 0\n",
        "        course_grades.append(grade)\n",
        "\n",
        "        total_credit += unit\n",
        "        total_grade_point += unit * grade_point\n",
        "\n",
        "    gpa = total_grade_point / total_credit\n",
        "\n",
        "    # Determine class\n",
        "    if gpa >= 4.5 and gpa <= 5.0:\n",
        "        class_ = \"First Class\"\n",
        "    elif gpa >= 3.5 and gpa <= 4.49:\n",
        "        class_ = \"Second Class Upper\"\n",
        "    elif gpa >= 2.5 and gpa <= 3.49:\n",
        "        class_ = \"Second Class Lower\"\n",
        "    elif gpa >= 1.5 and gpa <= 2.49:\n",
        "        class_ = \"Third Class\"\n",
        "    elif gpa >= 1.0 and gpa <= 1.49:\n",
        "        class_ = \"Advise to Withdraw\"\n",
        "    else:\n",
        "        class_ = \"FAILED\"\n",
        "\n",
        "    # Print results with design formatting\n",
        "    print(f'''\n",
        "    __________________________________________________________________________________________________\n",
        "    |MATRIC NO: {student_matric_no}   |STUDENT NAME: {student_name.upper()}   |BATCH: A    |GPR: A|\n",
        "    ---------------------------------------------------------------------------------------------------\n",
        "    |GENDER: {student_gender.upper()}   |SEMESTER: {semester.upper()}   |PROGRAM: B.TECH   |DEPT: NUTRITION   |LEVEL: {student_level}\n",
        "    ---------------------------------------------------------------------------------------------------\n",
        "    |REMARK: CLEARED|\n",
        "    ---------------------------------------------------------------------------------------------------\n",
        "    ''')\n",
        "\n",
        "    print(f'''\n",
        "    ---------------------------------------------------------------------------------------------------\n",
        "                               {student_level} LEVEL {semester.upper()} SEMESTER\n",
        "    ---------------------------------------------------------------------------------------------------\n",
        "    S/N    COURSE CODE                 COURSE TITLE                       UNIT      SCORE    GRADE    POINT\n",
        "    ---------------------------------------------------------------------------------------------------''')\n",
        "\n",
        "    for i in range(num_courses):\n",
        "        print(f\"{i + 1:<7}{course_codes[i]:<25}{course_names[i]:<30}{course_units[i]:<10}{course_scores[i]:<10}{course_grades[i]:<10}\")\n",
        "\n",
        "    print(f'''\n",
        "    ---------------------------------------------------------------------------------------------------\n",
        "                                    {semester.upper()} SEMESTER PERFORMANCE\n",
        "    ---------------------------------------------------------------------------------------------------\n",
        "    POINT               UNIT           GPA        CLASS\n",
        "    ---------------------------------------------------------------------------------------------------\n",
        "    {total_grade_point}   {total_credit}     {gpa:.2f}    {class_}\n",
        "    ---------------------------------------------------------------------------------------------------\n",
        "    ''')\n",
        "\n",
        "    return gpa, total_credit\n",
        "\n",
        "# Calculate for both semesters\n",
        "first_semester_gpa, first_semester_credits = cgpa_calculator(\"First Semester\")\n",
        "second_semester_gpa, second_semester_credits = cgpa_calculator(\"Second Semester\")\n",
        "\n",
        "# Calculate the overall CGPA\n",
        "total_credits = first_semester_credits + second_semester_credits\n",
        "overall_cgpa = (first_semester_gpa * first_semester_credits + second_semester_gpa * second_semester_credits) / total_credits\n",
        "\n",
        "# Print overall CGPA with design formatting\n",
        "print(f'''\n",
        "---------------------------------------------------------------------------------------------------\n",
        "                                    OVERALL CGPA PERFORMANCE\n",
        "---------------------------------------------------------------------------------------------------\n",
        "POINT               UNIT           GPA        CLASS\n",
        "---------------------------------------------------------------------------------------------------\n",
        "{first_semester_gpa * first_semester_credits + second_semester_gpa * second_semester_credits:.2f}    {total_credits}    {overall_cgpa:.2f}    {class_}\n",
        "---------------------------------------------------------------------------------------------------\n",
        "''')\n"
      ],
      "metadata": {
        "colab": {
          "base_uri": "https://localhost:8080/",
          "height": 460
        },
        "id": "sFoqSnQZD-hC",
        "outputId": "65eb0b24-bc52-4485-e492-6268d668e767"
      },
      "execution_count": 13,
      "outputs": [
        {
          "output_type": "stream",
          "name": "stdout",
          "text": [
            "******\n",
            "**      LAUTECH STUDENT CGPA CALCULATOR   **\n",
            "**   DEPARTMENT OF NUTRITION AND DIETETICS  **\n",
            "******\n",
            "\n"
          ]
        },
        {
          "output_type": "error",
          "ename": "KeyboardInterrupt",
          "evalue": "Interrupted by user",
          "traceback": [
            "\u001b[0;31m---------------------------------------------------------------------------\u001b[0m",
            "\u001b[0;31mKeyboardInterrupt\u001b[0m                         Traceback (most recent call last)",
            "\u001b[0;32m<ipython-input-13-3583a9079c59>\u001b[0m in \u001b[0;36m<cell line: 6>\u001b[0;34m()\u001b[0m\n\u001b[1;32m      4\u001b[0m       \"******\\n\")\n\u001b[1;32m      5\u001b[0m \u001b[0;34m\u001b[0m\u001b[0m\n\u001b[0;32m----> 6\u001b[0;31m \u001b[0mstudent_name\u001b[0m \u001b[0;34m=\u001b[0m \u001b[0minput\u001b[0m\u001b[0;34m(\u001b[0m\u001b[0;34m\"Enter student name: \"\u001b[0m\u001b[0;34m)\u001b[0m\u001b[0;34m\u001b[0m\u001b[0;34m\u001b[0m\u001b[0m\n\u001b[0m\u001b[1;32m      7\u001b[0m \u001b[0;34m\u001b[0m\u001b[0m\n\u001b[1;32m      8\u001b[0m \u001b[0;31m# Validate matric number (must be exactly 6 digits)\u001b[0m\u001b[0;34m\u001b[0m\u001b[0;34m\u001b[0m\u001b[0m\n",
            "\u001b[0;32m/usr/local/lib/python3.10/dist-packages/ipykernel/kernelbase.py\u001b[0m in \u001b[0;36mraw_input\u001b[0;34m(self, prompt)\u001b[0m\n\u001b[1;32m    849\u001b[0m                 \u001b[0;34m\"raw_input was called, but this frontend does not support input requests.\"\u001b[0m\u001b[0;34m\u001b[0m\u001b[0;34m\u001b[0m\u001b[0m\n\u001b[1;32m    850\u001b[0m             )\n\u001b[0;32m--> 851\u001b[0;31m         return self._input_request(str(prompt),\n\u001b[0m\u001b[1;32m    852\u001b[0m             \u001b[0mself\u001b[0m\u001b[0;34m.\u001b[0m\u001b[0m_parent_ident\u001b[0m\u001b[0;34m,\u001b[0m\u001b[0;34m\u001b[0m\u001b[0;34m\u001b[0m\u001b[0m\n\u001b[1;32m    853\u001b[0m             \u001b[0mself\u001b[0m\u001b[0;34m.\u001b[0m\u001b[0m_parent_header\u001b[0m\u001b[0;34m,\u001b[0m\u001b[0;34m\u001b[0m\u001b[0;34m\u001b[0m\u001b[0m\n",
            "\u001b[0;32m/usr/local/lib/python3.10/dist-packages/ipykernel/kernelbase.py\u001b[0m in \u001b[0;36m_input_request\u001b[0;34m(self, prompt, ident, parent, password)\u001b[0m\n\u001b[1;32m    893\u001b[0m             \u001b[0;32mexcept\u001b[0m \u001b[0mKeyboardInterrupt\u001b[0m\u001b[0;34m:\u001b[0m\u001b[0;34m\u001b[0m\u001b[0;34m\u001b[0m\u001b[0m\n\u001b[1;32m    894\u001b[0m                 \u001b[0;31m# re-raise KeyboardInterrupt, to truncate traceback\u001b[0m\u001b[0;34m\u001b[0m\u001b[0;34m\u001b[0m\u001b[0m\n\u001b[0;32m--> 895\u001b[0;31m                 \u001b[0;32mraise\u001b[0m \u001b[0mKeyboardInterrupt\u001b[0m\u001b[0;34m(\u001b[0m\u001b[0;34m\"Interrupted by user\"\u001b[0m\u001b[0;34m)\u001b[0m \u001b[0;32mfrom\u001b[0m \u001b[0;32mNone\u001b[0m\u001b[0;34m\u001b[0m\u001b[0;34m\u001b[0m\u001b[0m\n\u001b[0m\u001b[1;32m    896\u001b[0m             \u001b[0;32mexcept\u001b[0m \u001b[0mException\u001b[0m \u001b[0;32mas\u001b[0m \u001b[0me\u001b[0m\u001b[0;34m:\u001b[0m\u001b[0;34m\u001b[0m\u001b[0;34m\u001b[0m\u001b[0m\n\u001b[1;32m    897\u001b[0m                 \u001b[0mself\u001b[0m\u001b[0;34m.\u001b[0m\u001b[0mlog\u001b[0m\u001b[0;34m.\u001b[0m\u001b[0mwarning\u001b[0m\u001b[0;34m(\u001b[0m\u001b[0;34m\"Invalid Message:\"\u001b[0m\u001b[0;34m,\u001b[0m \u001b[0mexc_info\u001b[0m\u001b[0;34m=\u001b[0m\u001b[0;32mTrue\u001b[0m\u001b[0;34m)\u001b[0m\u001b[0;34m\u001b[0m\u001b[0;34m\u001b[0m\u001b[0m\n",
            "\u001b[0;31mKeyboardInterrupt\u001b[0m: Interrupted by user"
          ]
        }
      ]
    },
    {
      "cell_type": "code",
      "source": [
        "print(\"******\\n\"\n",
        "      \"**      LAUTECH STUDENT CGPA CALCULATOR   **\\n\"\n",
        "      \"**   DEPARTMENT OF NUTRITION AND DIETETICS  **\\n\"\n",
        "      \"******\\n\")\n",
        "\n",
        "student_name = input(\"Enter student name: \")\n",
        "\n",
        "# Validate gender input (must be male or female)\n",
        "while True:\n",
        "    student_gender = input(\"Enter gender (Male/Female): \").lower()\n",
        "    if student_gender in [\"male\", \"female\"]:\n",
        "        student_gender = student_gender.capitalize()\n",
        "        break\n",
        "    else:\n",
        "        print(\"Invalid input. Please enter 'Male' or 'Female'.\")\n",
        "\n",
        "# Validate matric number (must be exactly 6 digits)\n",
        "while True:\n",
        "    student_matric_no = input(\"Enter student matric number (6 digits): \")\n",
        "    if student_matric_no.isdigit() and len(student_matric_no) == 6:\n",
        "        student_matric_no = int(student_matric_no)\n",
        "        break\n",
        "    else:\n",
        "        print(\"Invalid input. Matric number must be exactly 6 digits.\")\n",
        "\n",
        "# Validate student level (must be between 100 and 500)\n",
        "while True:\n",
        "    student_level = input(\"Enter student level (100-500): \")\n",
        "    if student_level.isdigit() and 100 <= int(student_level) <= 500:\n",
        "        student_level = int(student_level)\n",
        "        break\n",
        "    else:\n",
        "        print(\"Invalid input. Level must be a digit between 100 and 500.\")\n",
        "\n",
        "# Validate semester input (case-insensitive)\n",
        "while True:\n",
        "    student_semester = input(\"Enter student semester (First semester/Second semester): \").lower()\n",
        "    if student_semester in [\"first semester\", \"second semester\"]:\n",
        "        break\n",
        "    else:\n",
        "        print(\"Invalid input. Please enter 'First semester' or 'Second semester'.\")\n",
        "\n",
        "# Validate session input (case-insensitive)\n",
        "while True:\n",
        "    student_session = input(\"Enter student session (Rain session/Harmattan session): \").lower()\n",
        "    if student_session in [\"rain session\", \"harmattan session\"]:\n",
        "        break\n",
        "    else:\n",
        "        print(\"Invalid input. Please enter 'Rain session' or 'Harmattan session'.\")\n",
        "\n",
        "# Validate year of exam (must be a digit)\n",
        "while True:\n",
        "    year_of_exam = input(\"Enter year of exam: \")\n",
        "    if year_of_exam.isdigit():\n",
        "        year_of_exam = int(year_of_exam)\n",
        "        break\n",
        "    else:\n",
        "        print(\"Invalid input. Year of exam must be a digit.\")\n",
        "\n",
        "# CGPA calculator for both semesters\n",
        "def cgpa_calculator(semester):\n",
        "    print(f\"\\n** Calculating CGPA for {semester} **\\n\")\n",
        "    total_credit = 0\n",
        "    total_grade_point = 0\n",
        "\n",
        "    # these are the lists to collect and store as data\n",
        "    course_names = []\n",
        "    course_codes = []\n",
        "    course_units = []\n",
        "    course_scores = []\n",
        "    course_grades = []\n",
        "\n",
        "    num_courses = int(input(f\"Enter the number of courses for {semester}: \"))\n",
        "\n",
        "    for i in range(num_courses):\n",
        "        course_name = input(f\"Enter course {i + 1} name: \")\n",
        "        code = input(f\"Enter course {i + 1} code: \")\n",
        "        unit = int(input(f\"Enter course {i + 1} unit: \"))\n",
        "        score = int(input(f\"Enter course {i + 1} score: \"))\n",
        "\n",
        "        # Append data to the lists\n",
        "        course_names.append(course_name)\n",
        "        course_codes.append(code)\n",
        "        course_units.append(unit)\n",
        "        course_scores.append(score)\n",
        "\n",
        "        # Assign grades and grade points\n",
        "        if score >= 70:\n",
        "            grade = 'A'\n",
        "            grade_point = 5\n",
        "        elif score >= 60:\n",
        "            grade = 'B'\n",
        "            grade_point = 4\n",
        "        elif score >= 50:\n",
        "            grade = 'C'\n",
        "            grade_point = 3\n",
        "        elif score >= 45:\n",
        "            grade = 'D'\n",
        "            grade_point = 2\n",
        "        elif score >= 40:\n",
        "            grade = 'E'\n",
        "            grade_point = 1\n",
        "        else:\n",
        "            grade = 'F'\n",
        "            grade_point = 0\n",
        "        course_grades.append(grade)\n",
        "\n",
        "        total_credit += unit\n",
        "        total_grade_point += unit * grade_point\n",
        "\n",
        "    cgpa = total_grade_point / total_credit\n",
        "\n",
        "    # Determine class\n",
        "    if cgpa >= 4.5 and cgpa <= 5.0:\n",
        "        class_ = \"First Class\"\n",
        "    elif cgpa >= 3.5 and cgpa <= 4.49:\n",
        "        class_ = \"Second Class Upper\"\n",
        "    elif cgpa >= 2.5 and cgpa <= 3.49:\n",
        "        class_ = \"Second Class Lower\"\n",
        "    elif cgpa >= 1.5 and cgpa <= 2.49:\n",
        "        class_ = \"Third Class\"\n",
        "    elif cgpa >= 1.0 and cgpa <= 1.49:\n",
        "        class_ = \"Advise to Withdraw\"\n",
        "    else:\n",
        "        class_ = \"FAILED\"\n",
        "\n",
        "    # Print formatted results\n",
        "    print(f'''\n",
        "__________________________________________________________________________________________________\n",
        "|MATRIC NO: {student_matric_no:<12} | STUDENT NAME: {student_name.upper():<20} | BATCH: A | GPR: A |\n",
        "---------------------------------------------------------------------------------------------------\n",
        "|GENDER: {student_gender:<10} | SEMESTER: {semester.upper():<15} | PROGRAM: B.TECH | DEPT: {'NUTRITION AND DIETETICS':<20} | LEVEL: {student_level}\n",
        "---------------------------------------------------------------------------------------------------\n",
        "|REMARK: CLEARED |\n",
        "---------------------------------------------------------------------------------------------------''')\n",
        "\n",
        "    print(f'''\n",
        "---------------------------------------------------------------------------------------------------\n",
        "                               {student_level} LEVEL {semester.upper()} SEMESTER\n",
        "---------------------------------------------------------------------------------------------------\n",
        "S/N    COURSE CODE                 COURSE TITLE                       UNIT      SCORE    GRADE    POINT\n",
        "---------------------------------------------------------------------------------------------------''')\n",
        "\n",
        "    for i in range(num_courses):\n",
        "        # Align all values using string formatting\n",
        "        print(f'{i + 1:<6} {course_codes[i]:<27} {course_names[i]:<35} {course_units[i]:<9} {course_scores[i]:<9} {course_grades[i]:<8} {course_units[i] * (5 if course_grades[i] == \"A\" else 4 if course_grades[i] == \"B\" else 3 if course_grades[i] == \"C\" else 2 if course_grades[i] == \"D\" else 1 if course_grades[i] == \"E\" else 0):<5}')\n",
        "\n",
        "    print(f'''\n",
        "---------------------------------------------------------------------------------------------------\n",
        "                                    {semester.upper()} SEMESTER PERFORMANCE\n",
        "---------------------------------------------------------------------------------------------------\n",
        "POINT               UNIT           GPA        CLASS              POINT              UNIT         CGPA     CLASS\n",
        "---------------------------------------------------------------------------------------------------''')\n",
        "\n",
        "    print(f'{total_grade_point:<19} {total_credit:<14} {round(cgpa, 2):<11} {class_:<17} {total_grade_point:<19} {total_credit:<13} {round(cgpa, 2):<9} {class_:<10}')\n",
        "    print(\"---------------------------------------------------------------------------------------------------\")\n",
        "\n",
        "    return cgpa, total_credit\n",
        "\n",
        "# Calculate for both semesters\n",
        "first_semester_cgpa, first_semester_credits = cgpa_calculator(\"First Semester\")\n",
        "second_semester_cgpa, second_semester_credits = cgpa_calculator(\"Second Semester\")\n",
        "\n",
        "# Calculate the overall CGPA\n",
        "total_credits = first_semester_credits + second_semester_credits\n",
        "overall_cgpa = (first_semester_cgpa * first_semester_credits + second_semester_cgpa * second_semester_credits) / total_credits\n",
        "\n",
        "print(\"\\n****** OVERALL CGPA ******\")\n",
        "print(f\"Overall CGPA: {round(overall_cgpa, 2)}\")\n",
        "print(\"****************************\")\n"
      ],
      "metadata": {
        "colab": {
          "base_uri": "https://localhost:8080/"
        },
        "id": "DlMNPKYsGkVH",
        "outputId": "146512d7-dc9d-436d-8fff-0b545c18c488"
      },
      "execution_count": 17,
      "outputs": [
        {
          "output_type": "stream",
          "name": "stdout",
          "text": [
            "******\n",
            "**      LAUTECH STUDENT CGPA CALCULATOR   **\n",
            "**   DEPARTMENT OF NUTRITION AND DIETETICS  **\n",
            "******\n",
            "\n",
            "Enter student name: desmond\n",
            "Enter gender (Male/Female): male\n",
            "Enter student matric number (6 digits): 195345\n",
            "Enter student level (100-500): 400\n",
            "Enter student semester (First semester/Second semester): first semester\n",
            "Enter student session (Rain session/Harmattan session): rain session\n",
            "Enter year of exam: 2002\n",
            "\n",
            "** Calculating CGPA for First Semester **\n",
            "\n",
            "Enter the number of courses for First Semester: 1\n",
            "Enter course 1 name: nud\n",
            "Enter course 1 code: 402\n",
            "Enter course 1 unit: 3\n",
            "Enter course 1 score: 70\n",
            "\n",
            "__________________________________________________________________________________________________\n",
            "|MATRIC NO: 195345       | STUDENT NAME: DESMOND              | BATCH: A | GPR: A |\n",
            "---------------------------------------------------------------------------------------------------\n",
            "|GENDER: Male       | SEMESTER: FIRST SEMESTER  | PROGRAM: B.TECH | DEPT: NUTRITION AND DIETETICS | LEVEL: 400\n",
            "---------------------------------------------------------------------------------------------------\n",
            "|REMARK: CLEARED |\n",
            "---------------------------------------------------------------------------------------------------\n",
            "\n",
            "---------------------------------------------------------------------------------------------------\n",
            "                               400 LEVEL FIRST SEMESTER SEMESTER\n",
            "---------------------------------------------------------------------------------------------------\n",
            "S/N    COURSE CODE                 COURSE TITLE                       UNIT      SCORE    GRADE    POINT\n",
            "---------------------------------------------------------------------------------------------------\n",
            "1      402                         nud                                 3         70        A        15   \n",
            "\n",
            "---------------------------------------------------------------------------------------------------\n",
            "                                    FIRST SEMESTER SEMESTER PERFORMANCE\n",
            "---------------------------------------------------------------------------------------------------\n",
            "POINT               UNIT           GPA        CLASS              POINT              UNIT         CGPA     CLASS\n",
            "---------------------------------------------------------------------------------------------------\n",
            "15                  3              5.0         First Class       15                  3             5.0       First Class\n",
            "---------------------------------------------------------------------------------------------------\n",
            "\n",
            "** Calculating CGPA for Second Semester **\n",
            "\n",
            "Enter the number of courses for Second Semester: 1\n",
            "Enter course 1 name: nud\n",
            "Enter course 1 code: 403\n",
            "Enter course 1 unit: 2\n",
            "Enter course 1 score: 56\n",
            "\n",
            "__________________________________________________________________________________________________\n",
            "|MATRIC NO: 195345       | STUDENT NAME: DESMOND              | BATCH: A | GPR: A |\n",
            "---------------------------------------------------------------------------------------------------\n",
            "|GENDER: Male       | SEMESTER: SECOND SEMESTER | PROGRAM: B.TECH | DEPT: NUTRITION AND DIETETICS | LEVEL: 400\n",
            "---------------------------------------------------------------------------------------------------\n",
            "|REMARK: CLEARED |\n",
            "---------------------------------------------------------------------------------------------------\n",
            "\n",
            "---------------------------------------------------------------------------------------------------\n",
            "                               400 LEVEL SECOND SEMESTER SEMESTER\n",
            "---------------------------------------------------------------------------------------------------\n",
            "S/N    COURSE CODE                 COURSE TITLE                       UNIT      SCORE    GRADE    POINT\n",
            "---------------------------------------------------------------------------------------------------\n",
            "1      403                         nud                                 2         56        C        6    \n",
            "\n",
            "---------------------------------------------------------------------------------------------------\n",
            "                                    SECOND SEMESTER SEMESTER PERFORMANCE\n",
            "---------------------------------------------------------------------------------------------------\n",
            "POINT               UNIT           GPA        CLASS              POINT              UNIT         CGPA     CLASS\n",
            "---------------------------------------------------------------------------------------------------\n",
            "6                   2              3.0         Second Class Lower 6                   2             3.0       Second Class Lower\n",
            "---------------------------------------------------------------------------------------------------\n",
            "\n",
            "****** OVERALL CGPA ******\n",
            "Overall CGPA: 4.2\n",
            "****************************\n"
          ]
        }
      ]
    },
    {
      "cell_type": "code",
      "source": [],
      "metadata": {
        "id": "vO0aWPSvOPcV"
      },
      "execution_count": null,
      "outputs": []
    },
    {
      "cell_type": "code",
      "execution_count": null,
      "metadata": {
        "id": "o858mO_u3BNs"
      },
      "outputs": [],
      "source": [
        "print(\"Helo\")551\n"
      ]
    },
    {
      "cell_type": "code",
      "execution_count": null,
      "metadata": {
        "colab": {
          "base_uri": "https://localhost:8080/",
          "height": 564
        },
        "id": "21V1IJM47WVM",
        "outputId": "9555dbb4-afb0-4e3c-9162-3f7a99e41516"
      },
      "outputs": [
        {
          "name": "stdout",
          "output_type": "stream",
          "text": [
            "\t\t\t\t\t\t WELCOME TO HOTEL ANCASA\n",
            "\n",
            "\t\t\t 1 Booking\n",
            "\n",
            "\t\t\t 2 Rooms Info\n",
            "\n",
            "\t\t\t 3 Room Service(Menu Card)\n",
            "\n",
            "\t\t\t 4 Payment\n",
            "\n",
            "\t\t\t 5 Record\n",
            "\n",
            "\t\t\t 0 Exit\n",
            "\n"
          ]
        },
        {
          "ename": "KeyboardInterrupt",
          "evalue": "Interrupted by user",
          "output_type": "error",
          "traceback": [
            "\u001b[0;31m---------------------------------------------------------------------------\u001b[0m",
            "\u001b[0;31mKeyboardInterrupt\u001b[0m                         Traceback (most recent call last)",
            "\u001b[0;32m<ipython-input-1-0c0a91f42207>\u001b[0m in \u001b[0;36m<cell line: 384>\u001b[0;34m()\u001b[0m\n\u001b[1;32m    382\u001b[0m         \u001b[0mexit\u001b[0m\u001b[0;34m(\u001b[0m\u001b[0;34m)\u001b[0m\u001b[0;34m\u001b[0m\u001b[0;34m\u001b[0m\u001b[0m\n\u001b[1;32m    383\u001b[0m \u001b[0;34m\u001b[0m\u001b[0m\n\u001b[0;32m--> 384\u001b[0;31m \u001b[0mHome\u001b[0m\u001b[0;34m(\u001b[0m\u001b[0;34m)\u001b[0m\u001b[0;34m\u001b[0m\u001b[0;34m\u001b[0m\u001b[0m\n\u001b[0m",
            "\u001b[0;32m<ipython-input-1-0c0a91f42207>\u001b[0m in \u001b[0;36mHome\u001b[0;34m()\u001b[0m\n\u001b[1;32m     29\u001b[0m     \u001b[0mprint\u001b[0m\u001b[0;34m(\u001b[0m\u001b[0;34m\"\\t\\t\\t 0 Exit\\n\"\u001b[0m\u001b[0;34m)\u001b[0m\u001b[0;34m\u001b[0m\u001b[0;34m\u001b[0m\u001b[0m\n\u001b[1;32m     30\u001b[0m \u001b[0;34m\u001b[0m\u001b[0m\n\u001b[0;32m---> 31\u001b[0;31m     \u001b[0mch\u001b[0m \u001b[0;34m=\u001b[0m \u001b[0mint\u001b[0m\u001b[0;34m(\u001b[0m\u001b[0minput\u001b[0m\u001b[0;34m(\u001b[0m\u001b[0;34m\"-> \"\u001b[0m\u001b[0;34m)\u001b[0m\u001b[0;34m)\u001b[0m\u001b[0;34m\u001b[0m\u001b[0;34m\u001b[0m\u001b[0m\n\u001b[0m\u001b[1;32m     32\u001b[0m \u001b[0;34m\u001b[0m\u001b[0m\n\u001b[1;32m     33\u001b[0m     \u001b[0;32mif\u001b[0m \u001b[0mch\u001b[0m \u001b[0;34m==\u001b[0m \u001b[0;36m1\u001b[0m\u001b[0;34m:\u001b[0m\u001b[0;34m\u001b[0m\u001b[0;34m\u001b[0m\u001b[0m\n",
            "\u001b[0;32m/usr/local/lib/python3.10/dist-packages/ipykernel/kernelbase.py\u001b[0m in \u001b[0;36mraw_input\u001b[0;34m(self, prompt)\u001b[0m\n\u001b[1;32m    849\u001b[0m                 \u001b[0;34m\"raw_input was called, but this frontend does not support input requests.\"\u001b[0m\u001b[0;34m\u001b[0m\u001b[0;34m\u001b[0m\u001b[0m\n\u001b[1;32m    850\u001b[0m             )\n\u001b[0;32m--> 851\u001b[0;31m         return self._input_request(str(prompt),\n\u001b[0m\u001b[1;32m    852\u001b[0m             \u001b[0mself\u001b[0m\u001b[0;34m.\u001b[0m\u001b[0m_parent_ident\u001b[0m\u001b[0;34m,\u001b[0m\u001b[0;34m\u001b[0m\u001b[0;34m\u001b[0m\u001b[0m\n\u001b[1;32m    853\u001b[0m             \u001b[0mself\u001b[0m\u001b[0;34m.\u001b[0m\u001b[0m_parent_header\u001b[0m\u001b[0;34m,\u001b[0m\u001b[0;34m\u001b[0m\u001b[0;34m\u001b[0m\u001b[0m\n",
            "\u001b[0;32m/usr/local/lib/python3.10/dist-packages/ipykernel/kernelbase.py\u001b[0m in \u001b[0;36m_input_request\u001b[0;34m(self, prompt, ident, parent, password)\u001b[0m\n\u001b[1;32m    893\u001b[0m             \u001b[0;32mexcept\u001b[0m \u001b[0mKeyboardInterrupt\u001b[0m\u001b[0;34m:\u001b[0m\u001b[0;34m\u001b[0m\u001b[0;34m\u001b[0m\u001b[0m\n\u001b[1;32m    894\u001b[0m                 \u001b[0;31m# re-raise KeyboardInterrupt, to truncate traceback\u001b[0m\u001b[0;34m\u001b[0m\u001b[0;34m\u001b[0m\u001b[0m\n\u001b[0;32m--> 895\u001b[0;31m                 \u001b[0;32mraise\u001b[0m \u001b[0mKeyboardInterrupt\u001b[0m\u001b[0;34m(\u001b[0m\u001b[0;34m\"Interrupted by user\"\u001b[0m\u001b[0;34m)\u001b[0m \u001b[0;32mfrom\u001b[0m \u001b[0;32mNone\u001b[0m\u001b[0;34m\u001b[0m\u001b[0;34m\u001b[0m\u001b[0m\n\u001b[0m\u001b[1;32m    896\u001b[0m             \u001b[0;32mexcept\u001b[0m \u001b[0mException\u001b[0m \u001b[0;32mas\u001b[0m \u001b[0me\u001b[0m\u001b[0;34m:\u001b[0m\u001b[0;34m\u001b[0m\u001b[0;34m\u001b[0m\u001b[0m\n\u001b[1;32m    897\u001b[0m                 \u001b[0mself\u001b[0m\u001b[0;34m.\u001b[0m\u001b[0mlog\u001b[0m\u001b[0;34m.\u001b[0m\u001b[0mwarning\u001b[0m\u001b[0;34m(\u001b[0m\u001b[0;34m\"Invalid Message:\"\u001b[0m\u001b[0;34m,\u001b[0m \u001b[0mexc_info\u001b[0m\u001b[0;34m=\u001b[0m\u001b[0;32mTrue\u001b[0m\u001b[0;34m)\u001b[0m\u001b[0;34m\u001b[0m\u001b[0;34m\u001b[0m\u001b[0m\n",
            "\u001b[0;31mKeyboardInterrupt\u001b[0m: Interrupted by user"
          ]
        }
      ],
      "source": [
        "import random\n",
        "import datetime\n",
        "\n",
        "# Global List Declaration\n",
        "name = []\n",
        "phno = []\n",
        "add = []\n",
        "checkin = []\n",
        "checkout = []\n",
        "room = []\n",
        "price = []\n",
        "rc = []\n",
        "p = []\n",
        "roomno = []\n",
        "custid = []\n",
        "day = []\n",
        "\n",
        "# Global Variable Declaration\n",
        "i = 0\n",
        "\n",
        "# Home Function\n",
        "def Home():\n",
        "    print(\"\\t\\t\\t\\t\\t\\t WELCOME TO HOTEL ANCASA\\n\")\n",
        "    print(\"\\t\\t\\t 1 Booking\\n\")\n",
        "    print(\"\\t\\t\\t 2 Rooms Info\\n\")\n",
        "    print(\"\\t\\t\\t 3 Room Service(Menu Card)\\n\")\n",
        "    print(\"\\t\\t\\t 4 Payment\\n\")\n",
        "    print(\"\\t\\t\\t 5 Record\\n\")\n",
        "    print(\"\\t\\t\\t 0 Exit\\n\")\n",
        "\n",
        "    ch = int(input(\"-> \"))\n",
        "\n",
        "    if ch == 1:\n",
        "        Booking()\n",
        "    elif ch == 2:\n",
        "        Rooms_Info()\n",
        "    elif ch == 3:\n",
        "        restaurant()\n",
        "    elif ch == 4:\n",
        "        Payment()\n",
        "    elif ch == 5:\n",
        "        Record()\n",
        "    else:\n",
        "        exit()\n",
        "\n",
        "# Function used in booking\n",
        "def date(c):\n",
        "    if c[2] >= 2019 and c[2] <= 2020:\n",
        "        if c[1] != 0 and c[1] <= 12:\n",
        "            if c[1] == 2 and c[0] != 0 and c[0] <= 31:\n",
        "                if c[2] % 4 == 0 and c[0] <= 29:\n",
        "                    pass\n",
        "                elif c[0] < 29:\n",
        "                    pass\n",
        "                else:\n",
        "                    print(\"Invalid date\\n\")\n",
        "                    reset_booking_data()\n",
        "                    Booking()\n",
        "            elif c[1] <= 7 and c[1] % 2 != 0 and c[0] <= 31:\n",
        "                pass\n",
        "            elif c[1] <= 7 and c[1] % 2 == 0 and c[0] <= 30 and c[1] != 2:\n",
        "                pass\n",
        "            elif c[1] >= 8 and c[1] % 2 == 0 and c[0] <= 31:\n",
        "                pass\n",
        "            elif c[1] >= 8 and c[1] % 2 != 0 and c[0] <= 30:\n",
        "                pass\n",
        "            else:\n",
        "                print(\"Invalid date\\n\")\n",
        "                reset_booking_data()\n",
        "                Booking()\n",
        "        else:\n",
        "            print(\"Invalid date\\n\")\n",
        "            reset_booking_data()\n",
        "            Booking()\n",
        "    else:\n",
        "        print(\"Invalid date\\n\")\n",
        "        reset_booking_data()\n",
        "        Booking()\n",
        "\n",
        "def reset_booking_data():\n",
        "    global i\n",
        "    name.pop(i)\n",
        "    phno.pop(i)\n",
        "    add.pop(i)\n",
        "    checkin.pop(i)\n",
        "    checkout.pop(i)\n",
        "\n",
        "# Booking function\n",
        "def Booking():\n",
        "    global i\n",
        "    print(\" BOOKING ROOMS\\n\")\n",
        "\n",
        "    while True:\n",
        "        n = input(\"Name: \").strip()\n",
        "        p1 = input(\"Phone No.: \").strip()\n",
        "        a = input(\"Address: \").strip()\n",
        "\n",
        "        if n and p1 and a:\n",
        "            name.append(n)\n",
        "            phno.append(p1)\n",
        "            add.append(a)\n",
        "            break\n",
        "        else:\n",
        "            print(\"\\tName, Phone no. & Address cannot be empty..!!\")\n",
        "\n",
        "    cii = input(\"Check-In (dd/mm/yyyy): \").strip()\n",
        "    checkin.append(cii)\n",
        "    ci = list(map(int, cii.split('/')))\n",
        "    date(ci)\n",
        "\n",
        "    coo = input(\"Check-Out (dd/mm/yyyy): \").strip()\n",
        "    checkout.append(coo)\n",
        "    co = list(map(int, coo.split('/')))\n",
        "\n",
        "    if (co[2], co[1], co[0]) <= (ci[2], ci[1], ci[0]):\n",
        "        print(\"\\n\\tErr..!!\\n\\tCheck-Out date must fall after Check-In\\n\")\n",
        "        reset_booking_data()\n",
        "        Booking()\n",
        "    else:\n",
        "        date(co)\n",
        "\n",
        "    d1 = datetime.datetime(ci[2], ci[1], ci[0])\n",
        "    d2 = datetime.datetime(co[2], co[1], co[0])\n",
        "    d = (d2 - d1).days\n",
        "    day.append(d)\n",
        "\n",
        "    print(\"----SELECT ROOM TYPE----\")\n",
        "    print(\" 1. Standard Non-AC\")\n",
        "    print(\" 2. Standard AC\")\n",
        "    print(\" 3. 3-Bed Non-AC\")\n",
        "    print(\" 4. 3-Bed AC\")\n",
        "    print(\"\\t\\tPress 0 for Room Prices\")\n",
        "\n",
        "    ch = int(input(\"-> \"))\n",
        "\n",
        "    if ch == 0:\n",
        "        print(\" 1. Standard Non-AC - Rs. 3500\")\n",
        "        print(\" 2. Standard AC - Rs. 4000\")\n",
        "        print(\" 3. 3-Bed Non-AC - Rs. 4500\")\n",
        "        print(\" 4. 3-Bed AC - Rs. 5000\")\n",
        "        ch = int(input(\"-> \"))\n",
        "\n",
        "    room_types = {\n",
        "        1: (\"Standard Non-AC\", 3500),\n",
        "        2: (\"Standard AC\", 4000),\n",
        "        3: (\"3-Bed Non-AC\", 4500),\n",
        "        4: (\"3-Bed AC\", 5000)\n",
        "    }\n",
        "\n",
        "    if ch in room_types:\n",
        "        room_type, room_price = room_types[ch]\n",
        "        room.append(room_type)\n",
        "        price.append(room_price)\n",
        "        print(f\"Room Type- {room_type}\")\n",
        "        print(f\"Price- {room_price}\")\n",
        "    else:\n",
        "        print(\"Wrong choice..!!\")\n",
        "        return\n",
        "\n",
        "    rn = random.randint(300, 339)\n",
        "    cid = random.randint(10, 49)\n",
        "\n",
        "    while rn in roomno or cid in custid:\n",
        "        rn = random.randint(300, 339)\n",
        "        cid = random.randint(10, 49)\n",
        "\n",
        "    rc.append(0)\n",
        "    p.append(0)\n",
        "\n",
        "    print(\"\")\n",
        "    print(\"\\t\\t\\t***ROOM BOOKED SUCCESSFULLY***\\n\")\n",
        "    print(f\"Room No. - {rn}\")\n",
        "    print(f\"Customer Id - {cid}\")\n",
        "    roomno.append(rn)\n",
        "    custid.append(cid)\n",
        "    i += 1\n",
        "\n",
        "    if int(input(\"0-BACK\\n -> \")) == 0:\n",
        "        Home()\n",
        "    else:\n",
        "        exit()\n",
        "\n",
        "# ROOMS INFO\n",
        "def Rooms_Info():\n",
        "    print(\"\t\t ------ HOTEL ROOMS INFO ------\\n\")\n",
        "    room_info = [\n",
        "        (\"STANDARD NON-AC\", [\n",
        "            \"1 Double Bed, Television, Telephone,\",\n",
        "            \"Double-Door Cupboard, 1 Coffee table with 2 sofa, Balcony and\",\n",
        "            \"an attached washroom with hot/cold water.\"\n",
        "        ]),\n",
        "        (\"STANDARD AC\", [\n",
        "            \"1 Double Bed, Television, Telephone,\",\n",
        "            \"Double-Door Cupboard, 1 Coffee table with 2 sofa, Balcony and\",\n",
        "            \"an attached washroom with hot/cold water + Window/Split AC.\"\n",
        "        ]),\n",
        "        (\"3-Bed NON-AC\", [\n",
        "            \"1 Double Bed + 1 Single Bed, Television,\",\n",
        "            \"Telephone, a Triple-Door Cupboard, 1 Coffee table with 2 sofa, 1\",\n",
        "            \"Side table, Balcony with an Accent table with 2 Chair and an\",\n",
        "            \"attached washroom with hot/cold water.\"\n",
        "        ]),\n",
        "        (\"3-Bed AC\", [\n",
        "            \"1 Double Bed + 1 Single Bed, Television,\",\n",
        "            \"Telephone, a Triple-Door Cupboard, 1 Coffee table with 2 sofa,\",\n",
        "            \"1 Side table, Balcony with an Accent table with 2 Chair and an\",\n",
        "            \"attached washroom with hot/cold water + Window/Split AC.\"\n",
        "        ]),\n",
        "    ]\n",
        "\n",
        "    for room_type, amenities in room_info:\n",
        "        print(f\"{room_type}\")\n",
        "        print(\"---------------------------------------------------------------\")\n",
        "        for amenity in amenities:\n",
        "            print(amenity)\n",
        "        print(\"\\n\")\n",
        "\n",
        "    if int(input(\"0-BACK\\n -> \")) == 0:\n",
        "        Home()\n",
        "    else:\n",
        "        exit()\n",
        "\n",
        "# RESTAURANT FUNCTION\n",
        "def restaurant():\n",
        "    ph = int(input(\"Customer Id: \"))\n",
        "    global i\n",
        "    f = 0\n",
        "    r = 0\n",
        "\n",
        "    for n in range(i):\n",
        "        if custid[n] == ph and p[n] == 0:\n",
        "            f = 1\n",
        "            print(\"-------------------------------------------------------------------------\")\n",
        "            print(\"\t\t\t\t\t\t Hotel AnCasa\")\n",
        "            print(\"-------------------------------------------------------------------------\")\n",
        "            print(\"\t\t\t\t\t\t Menu Card\")\n",
        "            print(\"-------------------------------------------------------------------------\")\n",
        "            print(\"\\n BEVERAGES                            26 Dal Fry................ 140.00\")\n",
        "            print(\"----------------------------------    27 Dal Makhani............ 150.00\")\n",
        "            print(\" 1 Regular Tea............. 20.00    28 Dal Tadka.............. 150.00\")\n",
        "            print(\" 2 Masala Tea.............. 25.00\")\n",
        "            print(\" 3 Coffee.................. 25.00    ROTI\")\n",
        "            print(\" 4 Cold Drink.............. 25.00    ----------------------------------\")\n",
        "            print(\" 5 Bread Butter............ 30.00    29 Plain Roti.............. 15.00\")\n",
        "            print(\" 6 Bread Jam............... 30.00    30 Butter Roti............. 15.00\")\n",
        "            print(\" 7 Veg. Sandwich........... 50.00    31 Tandoori Roti........... 20.00\")\n",
        "            print(\" 8 Veg. Toast Sandwich..... 50.00    32 Butter Naan............. 20.00\")\n",
        "            print(\" 9 Cheese Toast Sandwich... 70.00\")\n",
        "            print(\" 10 Grilled Sandwich........ 70.00    RICE\")\n",
        "            print(\"                                      ----------------------------------\")\n",
        "            print(\" SOUPS                                 33 Plain Rice............. 90.00\")\n",
        "            print(\"----------------------------------    34 Jeera Rice............. 90.00\")\n",
        "            print(\" 11 Tomato Soup............ 110.00    35 Veg Pulao.............. 110.00\")\n",
        "            print(\" 12 Hot & Sour............. 110.00    36 Peas Pulao............. 110.00\")\n",
        "            print(\" 13 Veg. Noodle Soup....... 110.00\")\n",
        "            print(\" 14 Sweet Corn............. 110.00    SOUTH INDIAN\")\n",
        "            print(\" 15 Veg. Munchow........... 110.00    ----------------------------------\")\n",
        "            print(\"                                      37 Plain Dosa............. 100.00\")\n",
        "            print(\" MAIN COURSE                           38 Onion Dosa............. 110.00\")\n",
        "            print(\"----------------------------------    39 Masala Dosa............ 130.00\")\n",
        "            print(\" 16 Shahi Paneer........... 110.00    40 Paneer Dosa............ 130.00\")\n",
        "            print(\" 17 Kadai Paneer........... 110.00    41 Rice Idli.............. 130.00\")\n",
        "            print(\" 18 Handi Paneer........... 120.00    42 Sambhar Vada........... 140.00\")\n",
        "            print(\" 19 Palak Paneer........... 120.00\")\n",
        "            print(\" 20 Chilli Paneer.......... 140.00    ICE CREAM\")\n",
        "            print(\" 21 Matar Mushroom......... 140.00    ----------------------------------\")\n",
        "            print(\" 22 Mix Veg................ 140.00    43 Vanilla................. 60.00\")\n",
        "            print(\" 23 Jeera Aloo............. 140.00    44 Strawberry.............. 60.00\")\n",
        "            print(\" 24 Malai Kofta............ 140.00    45 Pineapple............... 60.00\")\n",
        "            print(\" 25 Aloo Matar............. 140.00    46 Butter Scotch........... 60.00\")\n",
        "            print(\"                                      47 Chocolate............... 60.00\")\n",
        "            print(\"-------------------------------------------------------------------------\")\n",
        "            print(\"\\n 48 -2 Times \\t 49-3 Times \\t 50-Exit\")\n",
        "            ch = int(input(\"->\"))\n",
        "\n",
        "            if ch == 50:\n",
        "                exit()\n",
        "            elif ch in (48, 49):\n",
        "                f = ch\n",
        "                break\n",
        "\n",
        "    if f == 48:\n",
        "        rc.append(2)\n",
        "        p.append(2)\n",
        "        print(\"\\n Charges added successfully\\n\")\n",
        "\n",
        "    elif f == 49:\n",
        "        rc.append(3)\n",
        "        p.append(3)\n",
        "        print(\"\\n Charges added successfully\\n\")\n",
        "\n",
        "    elif r == 0:\n",
        "        print(\"\\n Invalid Customer Id\\n\")\n",
        "        restaurant()\n",
        "\n",
        "    if int(input(\"0-BACK\\n -> \")) == 0:\n",
        "        Home()\n",
        "    else:\n",
        "        exit()\n",
        "\n",
        "# PAYMENT FUNCTION\n",
        "def Payment():\n",
        "    ph = int(input(\"Customer Id: \"))\n",
        "    global i\n",
        "    f = 0\n",
        "    r = 0\n",
        "\n",
        "    for n in range(i):\n",
        "        if custid[n] == ph and p[n] == 0:\n",
        "            f = 1\n",
        "            print(\"-------------------------------------------------------------------------\")\n",
        "            print(\"\t\t\t\t\t Hotel AnCasa\")\n",
        "            print(\"-------------------------------------------------------------------------\")\n",
        "            print(\"\t\t\t\t\t\t BILL\")\n",
        "            print(\"-------------------------------------------------------------------------\")\n",
        "            print(f\" Customer Id: {custid[n]}\\t\\t\\t\\t Room No: {roomno[n]}\")\n",
        "            print(f\" Customer Name: {name[n]}\\t\\t\\t Phone No: {phno[n]}\")\n",
        "            print(f\" Address: {add[n]}\")\n",
        "            print(f\" Check-In: {checkin[n]}\\t\\t\\t Check-Out: {checkout[n]}\")\n",
        "            print(\"\\n-------------------------------------------------------------------------\")\n",
        "            print(\" Room Type: \" + room[n])\n",
        "            print(\" Room Charges: \" + str(price[n] * day[n]) + \"/-\")\n",
        "            if rc[n] != 0:\n",
        "                print(\" Restaurant Charges: \" + str(rc[n] * 1000) + \"/-\")\n",
        "            print(\"-------------------------------------------------------------------------\")\n",
        "            print(\" Total Amount: \" + str(price[n] * day[n] + rc[n] * 1000) + \"/-\")\n",
        "            print(\"-------------------------------------------------------------------------\")\n",
        "            print(\"Thank You. Visit Again :)\")\n",
        "            print(\"-------------------------------------------------------------------------\")\n",
        "            p.pop(n)\n",
        "            p.insert(n, 1)\n",
        "            roomno.pop(n)\n",
        "            custid.pop(n)\n",
        "            break\n",
        "\n",
        "    if f == 0:\n",
        "        print(\"\\n Invalid Customer Id\\n\")\n",
        "        Payment()\n",
        "\n",
        "    if int(input(\"0-BACK\\n -> \")) == 0:\n",
        "        Home()\n",
        "    else:\n",
        "        exit()\n",
        "\n",
        "# RECORD FUNCTION\n",
        "def Record():\n",
        "    ph = int(input(\"Customer Id: \"))\n",
        "    global i\n",
        "    f = 0\n",
        "\n",
        "    for n in range(i):\n",
        "        if custid[n] == ph:\n",
        "            f = 1\n",
        "            print(\"-------------------------------------------------------------------------\")\n",
        "            print(\"\t\t\t\t\t Hotel AnCasa\")\n",
        "            print(\"-------------------------------------------------------------------------\")\n",
        "            print(\"\t\t\t\t\t\t RECORD\")\n",
        "            print(\"-------------------------------------------------------------------------\")\n",
        "            print(f\" Customer Id: {custid[n]}\\t\\t\\t\\t Room No: {roomno[n]}\")\n",
        "            print(f\" Customer Name: {name[n]}\\t\\t\\t Phone No: {phno[n]}\")\n",
        "            print(f\" Address: {add[n]}\")\n",
        "            print(f\" Check-In: {checkin[n]}\\t\\t\\t Check-Out: {checkout[n]}\")\n",
        "            print(\"\\n-------------------------------------------------------------------------\")\n",
        "            print(\" Room Type: \" + room[n])\n",
        "            print(\" Room Charges: \" + str(price[n] * day[n]) + \"/-\")\n",
        "            if rc[n] != 0:\n",
        "                print(\" Restaurant Charges: \" + str(rc[n] * 1000) + \"/-\")\n",
        "            print(\"-------------------------------------------------------------------------\")\n",
        "            print(\" Total Amount: \" + str(price[n] * day[n] + rc[n] * 1000) + \"/-\")\n",
        "            print(\"-------------------------------------------------------------------------\")\n",
        "            print(\"Thank You. Visit Again :)\")\n",
        "            print(\"-------------------------------------------------------------------------\")\n",
        "            break\n",
        "\n",
        "    if f == 0:\n",
        "        print(\"\\n Invalid Customer Id\\n\")\n",
        "        Record()\n",
        "\n",
        "    if int(input(\"0-BACK\\n -> \")) == 0:\n",
        "        Home()\n",
        "    else:\n",
        "        exit()\n",
        "\n",
        "Home()\n"
      ]
    },
    {
      "cell_type": "code",
      "execution_count": 19,
      "metadata": {
        "id": "feLz0Ajw0a9y",
        "colab": {
          "base_uri": "https://localhost:8080/"
        },
        "outputId": "35093971-546d-425f-e5e2-897ac8a87135"
      },
      "outputs": [
        {
          "output_type": "stream",
          "name": "stdout",
          "text": [
            "Mounted at /content/gdrive\n",
            "/content/gdrive/MyDrive/Colab Notebooks\n",
            "/bin/bash: line 1: download: command not found\n",
            "\tzip warning: name not matched: my_directory\n",
            "\n",
            "zip error: Nothing to do! (my_directory.zip)\n",
            "/bin/bash: line 1: download: command not found\n"
          ]
        }
      ],
      "source": [
        "from google.colab import drive\n",
        "drive.mount('/content/gdrive')\n",
        "\n",
        "%cd /content/gdrive/MyDrive/Colab Notebooks\n",
        "\n",
        "!download my_code.py --dst /Users/username/Downloads\n",
        "\n",
        "!zip my_directory.zip my_directory\n",
        "!download my_directory.zip\n"
      ]
    }
  ],
  "metadata": {
    "colab": {
      "provenance": [],
      "mount_file_id": "1XSw7ZLYVsWjzEE-lZtv5NCbwf25Ni-kP",
      "authorship_tag": "ABX9TyPKu/r/f3HU0YNAoeudPTmu",
      "include_colab_link": true
    },
    "kernelspec": {
      "display_name": "Python 3",
      "name": "python3"
    },
    "language_info": {
      "name": "python"
    }
  },
  "nbformat": 4,
  "nbformat_minor": 0
}